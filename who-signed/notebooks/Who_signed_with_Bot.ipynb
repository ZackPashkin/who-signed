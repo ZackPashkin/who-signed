{
  "cells": [
    {
      "cell_type": "markdown",
      "metadata": {
        "id": "1R3njTPaxRoD"
      },
      "source": [
        "# Imports"
      ]
    },
    {
      "cell_type": "code",
      "execution_count": 1,
      "metadata": {
        "colab": {
          "base_uri": "https://localhost:8080/"
        },
        "id": "MbVQjE-I4sAk",
        "outputId": "f36d95c5-5536-4705-87a6-9f702c5feff0"
      },
      "outputs": [
        {
          "output_type": "stream",
          "name": "stdout",
          "text": [
            "Mounted at /content/drive\n"
          ]
        }
      ],
      "source": [
        "from google.colab import drive\n",
        "drive.mount('/content/drive', force_remount=True)"
      ]
    },
    {
      "cell_type": "code",
      "execution_count": 2,
      "metadata": {
        "colab": {
          "base_uri": "https://localhost:8080/"
        },
        "id": "Fg1zxrawwx3G",
        "outputId": "2f8370bc-689d-483a-aa14-e4f4b60f7ec3"
      },
      "outputs": [
        {
          "output_type": "stream",
          "name": "stdout",
          "text": [
            "cuda\n"
          ]
        }
      ],
      "source": [
        "import torch\n",
        "from PIL import Image\n",
        "import torchvision\n",
        "from torchvision import transforms\n",
        "import os\n",
        "from keras.preprocessing.image import  img_to_array, load_img\n",
        "from skimage import io\n",
        "from torchvision import datasets, models, transforms\n",
        "from glob import glob\n",
        "import numpy as np\n",
        "import pandas as pd\n",
        "import matplotlib.pyplot as plt\n",
        "import time\n",
        "import copy\n",
        "from pathlib import Path\n",
        "import re\n",
        "import albumentations as A\n",
        "from torch import nn\n",
        "from sklearn.metrics import precision_score, recall_score, f1_score\n",
        "import requests\n",
        "from flask import Flask, request\n",
        "import threading\n",
        "import torch.optim as optim\n",
        "from torch.optim import lr_scheduler\n",
        "\n",
        "!pip install pyngrok\n",
        "from pyngrok import ngrok\n",
        "\n",
        "!pip install wandb -qqq\n",
        "import wandb\n",
        "wandb.login(key=os.getenv('WANDB_TOKEN'))\n",
        "\n",
        "device = torch.device(\"cuda\" if torch.cuda.is_available() else \"cpu\")\n",
        "print(device)"
      ]
    },
    {
      "cell_type": "markdown",
      "metadata": {
        "id": "NH5yYHbsuxZf"
      },
      "source": [
        "# Util Functions"
      ]
    },
    {
      "cell_type": "code",
      "execution_count": 4,
      "metadata": {
        "colab": {
          "base_uri": "https://localhost:8080/"
        },
        "id": "a3sixmMxonSp",
        "outputId": "ebe58e3e-6da3-446c-edab-7ab15c6a926b"
      },
      "outputs": [
        {
          "output_type": "stream",
          "name": "stdout",
          "text": [
            "GPU 0: Tesla K80 (UUID: GPU-ef5e6fd9-aca8-47a3-b191-cb585e6b1cf2)\n"
          ]
        },
        {
          "output_type": "stream",
          "name": "stderr",
          "text": [
            "Exception in thread Thread-12:\n",
            "Traceback (most recent call last):\n",
            "  File \"/usr/lib/python3.7/threading.py\", line 926, in _bootstrap_inner\n",
            "    self.run()\n",
            "  File \"/usr/lib/python3.7/threading.py\", line 870, in run\n",
            "    self._target(*self._args, **self._kwargs)\n",
            "  File \"<string>\", line 77, in loop\n",
            "  File \"<string>\", line 20, in update\n",
            "AttributeError: module 'psutil' has no attribute 'getloadavg'\n",
            "\n"
          ]
        },
        {
          "output_type": "stream",
          "name": "stdout",
          "text": [
            "Architecture:        x86_64\n",
            "CPU op-mode(s):      32-bit, 64-bit\n",
            "Byte Order:          Little Endian\n",
            "CPU(s):              2\n",
            "On-line CPU(s) list: 0,1\n",
            "Thread(s) per core:  2\n",
            "Core(s) per socket:  1\n",
            "Socket(s):           1\n",
            "NUMA node(s):        1\n",
            "Vendor ID:           GenuineIntel\n",
            "CPU family:          6\n",
            "Model:               63\n",
            "Model name:          Intel(R) Xeon(R) CPU @ 2.30GHz\n",
            "Stepping:            0\n",
            "CPU MHz:             2299.998\n",
            "BogoMIPS:            4599.99\n",
            "Hypervisor vendor:   KVM\n",
            "Virtualization type: full\n",
            "L1d cache:           32K\n",
            "L1i cache:           32K\n",
            "L2 cache:            256K\n",
            "L3 cache:            46080K\n",
            "NUMA node0 CPU(s):   0,1\n",
            "Flags:               fpu vme de pse tsc msr pae mce cx8 apic sep mtrr pge mca cmov pat pse36 clflush mmx fxsr sse sse2 ss ht syscall nx pdpe1gb rdtscp lm constant_tsc rep_good nopl xtopology nonstop_tsc cpuid tsc_known_freq pni pclmulqdq ssse3 fma cx16 pcid sse4_1 sse4_2 x2apic movbe popcnt aes xsave avx f16c rdrand hypervisor lahf_lm abm invpcid_single ssbd ibrs ibpb stibp fsgsbase tsc_adjust bmi1 avx2 smep bmi2 erms invpcid xsaveopt arat md_clear arch_capabilities\n",
            "RAM available:\n",
            "13G\n",
            "Space available: \n",
            "Avail\n",
            "37G\n"
          ]
        }
      ],
      "source": [
        "!nvidia-smi -L\n",
        "!lscpu \n",
        "!echo 'RAM available:' && free -h --si | awk  '/Mem:/{print $2}'\n",
        "!echo 'Space available: ' && df -h / | awk '{print $4}'"
      ]
    },
    {
      "cell_type": "code",
      "execution_count": 5,
      "metadata": {
        "id": "kkRBQ1Qqx2lq"
      },
      "outputs": [],
      "source": [
        "def pil_loader(path):\n",
        "    # open path as file to avoid ResourceWarning (https://github.com/python-pillow/Pillow/issues/835)\n",
        "    with open(path, 'rb') as f:\n",
        "        img = Image.open(f)\n",
        "        return img.convert('RGB')"
      ]
    },
    {
      "cell_type": "code",
      "execution_count": 6,
      "metadata": {
        "id": "jzLmji4Nz3fB"
      },
      "outputs": [],
      "source": [
        "def ImageToBW(path):\n",
        "  img = Image.open(path)\n",
        "  thresh = 200\n",
        "  fn = lambda x : 255 if x > thresh else 0\n",
        "  return img.convert('L').point(fn, mode='1')"
      ]
    },
    {
      "cell_type": "code",
      "execution_count": 7,
      "metadata": {
        "id": "Xbv1Eqz5DTcU"
      },
      "outputs": [],
      "source": [
        "def rglob(pattern, strings):\n",
        "    return list(filter(re.compile(pattern).match, strings))"
      ]
    },
    {
      "cell_type": "markdown",
      "metadata": {
        "id": "JyDBZrFbu78k"
      },
      "source": [
        "# Model"
      ]
    },
    {
      "cell_type": "markdown",
      "metadata": {
        "id": "VoaT1UAKu_ON"
      },
      "source": [
        "Dataset"
      ]
    },
    {
      "cell_type": "code",
      "execution_count": 10,
      "metadata": {
        "id": "e16mjl3g9op7"
      },
      "outputs": [],
      "source": [
        "# create dataset class\n",
        "class CustomDatasetCV:\n",
        "  def __init__(self, imgs_paths, targets, augmentations=None):\n",
        "    self.imgs_paths = imgs_paths\n",
        "    self.targets = targets\n",
        "    self.augmentations = augmentations\n",
        "  \n",
        "  def __len__(self):\n",
        "    return len(self.imgs_paths)\n",
        "\n",
        "  def __getitem__(self, idx):\n",
        "    target = self.targets[idx]\n",
        "\n",
        "    input_image = pil_loader(self.imgs_paths[idx])\n",
        "    preprocess = transforms.Compose([\n",
        "      transforms.Resize(256),\n",
        "      transforms.CenterCrop(224),\n",
        "      transforms.ToTensor(),\n",
        "      transforms.Normalize(mean=[0.485, 0.456, 0.406], std=[0.229, 0.224, 0.225]),\n",
        "    ])\n",
        "    input_image = preprocess(input_image).to(device)\n",
        "        \n",
        "    return {\"image\": input_image,\n",
        "            \"target\": torch.tensor(target).type(torch.LongTensor)}"
      ]
    },
    {
      "cell_type": "code",
      "execution_count": 22,
      "metadata": {
        "id": "ibFIKdCnCQwT",
        "colab": {
          "base_uri": "https://localhost:8080/",
          "height": 478
        },
        "outputId": "4dae5ad1-62f3-4fb5-cbdd-a0c8d267800a"
      },
      "outputs": [
        {
          "output_type": "stream",
          "name": "stdout",
          "text": [
            "['/content/drive/MyDrive/Signature_Verification_Dataset/sign_data/train/001/001_19.PNG', '/content/drive/MyDrive/Signature_Verification_Dataset/sign_data/train/001/001_22.PNG', '/content/drive/MyDrive/Signature_Verification_Dataset/sign_data/train/001/001_21.PNG', '/content/drive/MyDrive/Signature_Verification_Dataset/sign_data/train/001/001_20.PNG', '/content/drive/MyDrive/Signature_Verification_Dataset/sign_data/train/001/001_13.PNG', '/content/drive/MyDrive/Signature_Verification_Dataset/sign_data/train/001/001_07.PNG', '/content/drive/MyDrive/Signature_Verification_Dataset/sign_data/train/001/001_23.PNG', '/content/drive/MyDrive/Signature_Verification_Dataset/sign_data/train/001/001_18.PNG', '/content/drive/MyDrive/Signature_Verification_Dataset/sign_data/train/001/001_02.PNG', '/content/drive/MyDrive/Signature_Verification_Dataset/sign_data/train/001/001_11.PNG', '/content/drive/MyDrive/Signature_Verification_Dataset/sign_data/train/001/001_01.PNG', '/content/drive/MyDrive/Signature_Verification_Dataset/sign_data/train/001/001_15.PNG', '/content/drive/MyDrive/Signature_Verification_Dataset/sign_data/train/001/001_06.PNG', '/content/drive/MyDrive/Signature_Verification_Dataset/sign_data/train/001/001_09.PNG', '/content/drive/MyDrive/Signature_Verification_Dataset/sign_data/train/001/001_16.PNG', '/content/drive/MyDrive/Signature_Verification_Dataset/sign_data/train/001/001_12.PNG', '/content/drive/MyDrive/Signature_Verification_Dataset/sign_data/train/001/001_24.PNG', '/content/drive/MyDrive/Signature_Verification_Dataset/sign_data/train/001/001_10.PNG', '/content/drive/MyDrive/Signature_Verification_Dataset/sign_data/train/001/001_08.PNG', '/content/drive/MyDrive/Signature_Verification_Dataset/sign_data/train/001/001_17.PNG', '/content/drive/MyDrive/Signature_Verification_Dataset/sign_data/train/001/001_05.PNG', '/content/drive/MyDrive/Signature_Verification_Dataset/sign_data/train/001/001_14.PNG', '/content/drive/MyDrive/Signature_Verification_Dataset/sign_data/train/001/001_03.PNG', '/content/drive/MyDrive/Signature_Verification_Dataset/sign_data/train/001/001_04.PNG', '/content/drive/MyDrive/Signature_Verification_Dataset/sign_data/train/002/002_03.PNG', '/content/drive/MyDrive/Signature_Verification_Dataset/sign_data/train/002/002_22.PNG', '/content/drive/MyDrive/Signature_Verification_Dataset/sign_data/train/002/002_01.PNG', '/content/drive/MyDrive/Signature_Verification_Dataset/sign_data/train/002/002_12.PNG', '/content/drive/MyDrive/Signature_Verification_Dataset/sign_data/train/002/002_20.PNG', '/content/drive/MyDrive/Signature_Verification_Dataset/sign_data/train/002/002_15.PNG', '/content/drive/MyDrive/Signature_Verification_Dataset/sign_data/train/002/002_04.PNG', '/content/drive/MyDrive/Signature_Verification_Dataset/sign_data/train/002/002_18.PNG', '/content/drive/MyDrive/Signature_Verification_Dataset/sign_data/train/002/002_17.PNG', '/content/drive/MyDrive/Signature_Verification_Dataset/sign_data/train/002/002_05.PNG', '/content/drive/MyDrive/Signature_Verification_Dataset/sign_data/train/002/002_08.PNG', '/content/drive/MyDrive/Signature_Verification_Dataset/sign_data/train/002/002_14.PNG', '/content/drive/MyDrive/Signature_Verification_Dataset/sign_data/train/002/002_19.PNG', '/content/drive/MyDrive/Signature_Verification_Dataset/sign_data/train/002/002_06.PNG', '/content/drive/MyDrive/Signature_Verification_Dataset/sign_data/train/002/002_02.PNG', '/content/drive/MyDrive/Signature_Verification_Dataset/sign_data/train/002/002_23.PNG', '/content/drive/MyDrive/Signature_Verification_Dataset/sign_data/train/002/002_07.PNG', '/content/drive/MyDrive/Signature_Verification_Dataset/sign_data/train/002/002_13.PNG', '/content/drive/MyDrive/Signature_Verification_Dataset/sign_data/train/002/002_11.PNG', '/content/drive/MyDrive/Signature_Verification_Dataset/sign_data/train/002/002_09.PNG', '/content/drive/MyDrive/Signature_Verification_Dataset/sign_data/train/002/002_24.PNG', '/content/drive/MyDrive/Signature_Verification_Dataset/sign_data/train/002/002_21.PNG', '/content/drive/MyDrive/Signature_Verification_Dataset/sign_data/train/002/002_10.PNG', '/content/drive/MyDrive/Signature_Verification_Dataset/sign_data/train/002/002_16.PNG', '/content/drive/MyDrive/Signature_Verification_Dataset/sign_data/train/003/003_16.PNG', '/content/drive/MyDrive/Signature_Verification_Dataset/sign_data/train/003/003_06.PNG', '/content/drive/MyDrive/Signature_Verification_Dataset/sign_data/train/003/003_04.PNG', '/content/drive/MyDrive/Signature_Verification_Dataset/sign_data/train/003/003_17.PNG', '/content/drive/MyDrive/Signature_Verification_Dataset/sign_data/train/003/003_20.PNG', '/content/drive/MyDrive/Signature_Verification_Dataset/sign_data/train/003/003_24.PNG', '/content/drive/MyDrive/Signature_Verification_Dataset/sign_data/train/003/003_07.PNG', '/content/drive/MyDrive/Signature_Verification_Dataset/sign_data/train/003/003_21.PNG', '/content/drive/MyDrive/Signature_Verification_Dataset/sign_data/train/003/003_14.PNG', '/content/drive/MyDrive/Signature_Verification_Dataset/sign_data/train/003/003_18.PNG', '/content/drive/MyDrive/Signature_Verification_Dataset/sign_data/train/003/003_15.PNG', '/content/drive/MyDrive/Signature_Verification_Dataset/sign_data/train/003/003_23.PNG', '/content/drive/MyDrive/Signature_Verification_Dataset/sign_data/train/003/003_11.PNG', '/content/drive/MyDrive/Signature_Verification_Dataset/sign_data/train/003/003_01.PNG', '/content/drive/MyDrive/Signature_Verification_Dataset/sign_data/train/003/003_10.PNG', '/content/drive/MyDrive/Signature_Verification_Dataset/sign_data/train/003/003_09.PNG', '/content/drive/MyDrive/Signature_Verification_Dataset/sign_data/train/003/003_03.PNG', '/content/drive/MyDrive/Signature_Verification_Dataset/sign_data/train/003/003_02.PNG', '/content/drive/MyDrive/Signature_Verification_Dataset/sign_data/train/003/003_19.PNG', '/content/drive/MyDrive/Signature_Verification_Dataset/sign_data/train/003/003_08.PNG', '/content/drive/MyDrive/Signature_Verification_Dataset/sign_data/train/003/003_22.PNG', '/content/drive/MyDrive/Signature_Verification_Dataset/sign_data/train/003/003_13.PNG', '/content/drive/MyDrive/Signature_Verification_Dataset/sign_data/train/003/003_12.PNG', '/content/drive/MyDrive/Signature_Verification_Dataset/sign_data/train/003/003_05.PNG', '/content/drive/MyDrive/Signature_Verification_Dataset/sign_data/train/006/006_11.PNG', '/content/drive/MyDrive/Signature_Verification_Dataset/sign_data/train/006/006_07.PNG', '/content/drive/MyDrive/Signature_Verification_Dataset/sign_data/train/006/006_14.PNG', '/content/drive/MyDrive/Signature_Verification_Dataset/sign_data/train/006/006_13.PNG', '/content/drive/MyDrive/Signature_Verification_Dataset/sign_data/train/006/006_01.PNG', '/content/drive/MyDrive/Signature_Verification_Dataset/sign_data/train/006/006_18.PNG', '/content/drive/MyDrive/Signature_Verification_Dataset/sign_data/train/006/006_03.PNG', '/content/drive/MyDrive/Signature_Verification_Dataset/sign_data/train/006/006_23.PNG', '/content/drive/MyDrive/Signature_Verification_Dataset/sign_data/train/006/006_17.PNG', '/content/drive/MyDrive/Signature_Verification_Dataset/sign_data/train/006/006_08.PNG', '/content/drive/MyDrive/Signature_Verification_Dataset/sign_data/train/006/006_20.PNG', '/content/drive/MyDrive/Signature_Verification_Dataset/sign_data/train/006/006_05.PNG', '/content/drive/MyDrive/Signature_Verification_Dataset/sign_data/train/006/006_04.PNG', '/content/drive/MyDrive/Signature_Verification_Dataset/sign_data/train/006/006_19.PNG', '/content/drive/MyDrive/Signature_Verification_Dataset/sign_data/train/006/006_21.PNG', '/content/drive/MyDrive/Signature_Verification_Dataset/sign_data/train/006/006_02.PNG', '/content/drive/MyDrive/Signature_Verification_Dataset/sign_data/train/006/006_10.PNG', '/content/drive/MyDrive/Signature_Verification_Dataset/sign_data/train/006/006_12.PNG', '/content/drive/MyDrive/Signature_Verification_Dataset/sign_data/train/006/006_16.PNG', '/content/drive/MyDrive/Signature_Verification_Dataset/sign_data/train/006/006_15.PNG', '/content/drive/MyDrive/Signature_Verification_Dataset/sign_data/train/006/006_06.PNG', '/content/drive/MyDrive/Signature_Verification_Dataset/sign_data/train/006/006_09.PNG', '/content/drive/MyDrive/Signature_Verification_Dataset/sign_data/train/006/006_24.PNG', '/content/drive/MyDrive/Signature_Verification_Dataset/sign_data/train/006/006_22.PNG', '/content/drive/MyDrive/Signature_Verification_Dataset/sign_data/train/004/004_01.PNG', '/content/drive/MyDrive/Signature_Verification_Dataset/sign_data/train/004/004_05.PNG', '/content/drive/MyDrive/Signature_Verification_Dataset/sign_data/train/004/004_11.PNG', '/content/drive/MyDrive/Signature_Verification_Dataset/sign_data/train/004/004_12.PNG', '/content/drive/MyDrive/Signature_Verification_Dataset/sign_data/train/004/004_08.PNG', '/content/drive/MyDrive/Signature_Verification_Dataset/sign_data/train/004/004_02.PNG', '/content/drive/MyDrive/Signature_Verification_Dataset/sign_data/train/004/004_07.PNG', '/content/drive/MyDrive/Signature_Verification_Dataset/sign_data/train/004/004_04.PNG', '/content/drive/MyDrive/Signature_Verification_Dataset/sign_data/train/004/004_09.PNG', '/content/drive/MyDrive/Signature_Verification_Dataset/sign_data/train/004/004_06.PNG', '/content/drive/MyDrive/Signature_Verification_Dataset/sign_data/train/004/004_10.PNG', '/content/drive/MyDrive/Signature_Verification_Dataset/sign_data/train/004/004_03.PNG', '/content/drive/MyDrive/Signature_Verification_Dataset/sign_data/train/004/004_17.PNG', '/content/drive/MyDrive/Signature_Verification_Dataset/sign_data/train/004/004_19.PNG', '/content/drive/MyDrive/Signature_Verification_Dataset/sign_data/train/004/004_16.PNG', '/content/drive/MyDrive/Signature_Verification_Dataset/sign_data/train/004/004_13.PNG', '/content/drive/MyDrive/Signature_Verification_Dataset/sign_data/train/004/004_23.PNG', '/content/drive/MyDrive/Signature_Verification_Dataset/sign_data/train/004/004_18.PNG', '/content/drive/MyDrive/Signature_Verification_Dataset/sign_data/train/004/004_20.PNG', '/content/drive/MyDrive/Signature_Verification_Dataset/sign_data/train/004/004_15.PNG', '/content/drive/MyDrive/Signature_Verification_Dataset/sign_data/train/004/004_14.PNG', '/content/drive/MyDrive/Signature_Verification_Dataset/sign_data/train/004/004_24.PNG', '/content/drive/MyDrive/Signature_Verification_Dataset/sign_data/train/004/004_22.PNG', '/content/drive/MyDrive/Signature_Verification_Dataset/sign_data/train/004/004_21.PNG', '/content/drive/MyDrive/Signature_Verification_Dataset/sign_data/train/009/009_11.PNG', '/content/drive/MyDrive/Signature_Verification_Dataset/sign_data/train/009/009_07.PNG', '/content/drive/MyDrive/Signature_Verification_Dataset/sign_data/train/009/009_09.PNG', '/content/drive/MyDrive/Signature_Verification_Dataset/sign_data/train/009/009_08.PNG', '/content/drive/MyDrive/Signature_Verification_Dataset/sign_data/train/009/009_02.PNG', '/content/drive/MyDrive/Signature_Verification_Dataset/sign_data/train/009/009_17.PNG', '/content/drive/MyDrive/Signature_Verification_Dataset/sign_data/train/009/009_22.PNG', '/content/drive/MyDrive/Signature_Verification_Dataset/sign_data/train/009/009_24.PNG', '/content/drive/MyDrive/Signature_Verification_Dataset/sign_data/train/009/009_16.PNG', '/content/drive/MyDrive/Signature_Verification_Dataset/sign_data/train/009/009_15.PNG', '/content/drive/MyDrive/Signature_Verification_Dataset/sign_data/train/009/009_06.PNG', '/content/drive/MyDrive/Signature_Verification_Dataset/sign_data/train/009/009_21.PNG', '/content/drive/MyDrive/Signature_Verification_Dataset/sign_data/train/009/009_13.PNG', '/content/drive/MyDrive/Signature_Verification_Dataset/sign_data/train/009/009_10.PNG', '/content/drive/MyDrive/Signature_Verification_Dataset/sign_data/train/009/009_03.PNG', '/content/drive/MyDrive/Signature_Verification_Dataset/sign_data/train/009/009_23.PNG', '/content/drive/MyDrive/Signature_Verification_Dataset/sign_data/train/009/009_20.PNG', '/content/drive/MyDrive/Signature_Verification_Dataset/sign_data/train/009/009_14.PNG', '/content/drive/MyDrive/Signature_Verification_Dataset/sign_data/train/009/009_18.PNG', '/content/drive/MyDrive/Signature_Verification_Dataset/sign_data/train/009/009_12.PNG', '/content/drive/MyDrive/Signature_Verification_Dataset/sign_data/train/009/009_19.PNG', '/content/drive/MyDrive/Signature_Verification_Dataset/sign_data/train/009/009_01.PNG', '/content/drive/MyDrive/Signature_Verification_Dataset/sign_data/train/009/009_04.PNG', '/content/drive/MyDrive/Signature_Verification_Dataset/sign_data/train/009/009_05.PNG', '/content/drive/MyDrive/Signature_Verification_Dataset/sign_data/train/012/012_15.PNG', '/content/drive/MyDrive/Signature_Verification_Dataset/sign_data/train/012/012_19.PNG', '/content/drive/MyDrive/Signature_Verification_Dataset/sign_data/train/012/012_11.PNG', '/content/drive/MyDrive/Signature_Verification_Dataset/sign_data/train/012/012_16.PNG', '/content/drive/MyDrive/Signature_Verification_Dataset/sign_data/train/012/012_17.PNG', '/content/drive/MyDrive/Signature_Verification_Dataset/sign_data/train/012/012_07.PNG', '/content/drive/MyDrive/Signature_Verification_Dataset/sign_data/train/012/012_09.PNG', '/content/drive/MyDrive/Signature_Verification_Dataset/sign_data/train/012/012_13.PNG', '/content/drive/MyDrive/Signature_Verification_Dataset/sign_data/train/012/012_05.PNG', '/content/drive/MyDrive/Signature_Verification_Dataset/sign_data/train/012/012_23.PNG', '/content/drive/MyDrive/Signature_Verification_Dataset/sign_data/train/012/012_21.PNG', '/content/drive/MyDrive/Signature_Verification_Dataset/sign_data/train/012/012_01.PNG', '/content/drive/MyDrive/Signature_Verification_Dataset/sign_data/train/012/012_18.PNG', '/content/drive/MyDrive/Signature_Verification_Dataset/sign_data/train/012/012_24.PNG', '/content/drive/MyDrive/Signature_Verification_Dataset/sign_data/train/012/012_04.PNG', '/content/drive/MyDrive/Signature_Verification_Dataset/sign_data/train/012/012_03.PNG', '/content/drive/MyDrive/Signature_Verification_Dataset/sign_data/train/012/012_14.PNG', '/content/drive/MyDrive/Signature_Verification_Dataset/sign_data/train/012/012_02.PNG', '/content/drive/MyDrive/Signature_Verification_Dataset/sign_data/train/012/012_20.PNG', '/content/drive/MyDrive/Signature_Verification_Dataset/sign_data/train/012/012_10.PNG', '/content/drive/MyDrive/Signature_Verification_Dataset/sign_data/train/012/012_12.PNG', '/content/drive/MyDrive/Signature_Verification_Dataset/sign_data/train/012/012_08.PNG', '/content/drive/MyDrive/Signature_Verification_Dataset/sign_data/train/012/012_22.PNG', '/content/drive/MyDrive/Signature_Verification_Dataset/sign_data/train/012/012_06.PNG', '/content/drive/MyDrive/Signature_Verification_Dataset/sign_data/train/013/02_013.png', '/content/drive/MyDrive/Signature_Verification_Dataset/sign_data/train/013/05_013.png', '/content/drive/MyDrive/Signature_Verification_Dataset/sign_data/train/013/01_013.png', '/content/drive/MyDrive/Signature_Verification_Dataset/sign_data/train/013/12_013.png', '/content/drive/MyDrive/Signature_Verification_Dataset/sign_data/train/013/10_013.png', '/content/drive/MyDrive/Signature_Verification_Dataset/sign_data/train/013/03_013.png', '/content/drive/MyDrive/Signature_Verification_Dataset/sign_data/train/013/06_013.png', '/content/drive/MyDrive/Signature_Verification_Dataset/sign_data/train/013/08_013.png', '/content/drive/MyDrive/Signature_Verification_Dataset/sign_data/train/013/04_013.png', '/content/drive/MyDrive/Signature_Verification_Dataset/sign_data/train/013/07_013.png', '/content/drive/MyDrive/Signature_Verification_Dataset/sign_data/train/013/11_013.png', '/content/drive/MyDrive/Signature_Verification_Dataset/sign_data/train/013/09_013.png', '/content/drive/MyDrive/Signature_Verification_Dataset/sign_data/train/016/016_02.PNG', '/content/drive/MyDrive/Signature_Verification_Dataset/sign_data/train/016/016_01.PNG', '/content/drive/MyDrive/Signature_Verification_Dataset/sign_data/train/016/016_16.PNG', '/content/drive/MyDrive/Signature_Verification_Dataset/sign_data/train/016/016_20.PNG', '/content/drive/MyDrive/Signature_Verification_Dataset/sign_data/train/016/016_13.PNG', '/content/drive/MyDrive/Signature_Verification_Dataset/sign_data/train/016/016_09.PNG', '/content/drive/MyDrive/Signature_Verification_Dataset/sign_data/train/016/016_10.PNG', '/content/drive/MyDrive/Signature_Verification_Dataset/sign_data/train/016/016_24.PNG', '/content/drive/MyDrive/Signature_Verification_Dataset/sign_data/train/016/016_23.PNG', '/content/drive/MyDrive/Signature_Verification_Dataset/sign_data/train/016/016_06.PNG', '/content/drive/MyDrive/Signature_Verification_Dataset/sign_data/train/016/016_05.PNG', '/content/drive/MyDrive/Signature_Verification_Dataset/sign_data/train/016/016_18.PNG', '/content/drive/MyDrive/Signature_Verification_Dataset/sign_data/train/016/016_22.PNG', '/content/drive/MyDrive/Signature_Verification_Dataset/sign_data/train/016/016_08.PNG', '/content/drive/MyDrive/Signature_Verification_Dataset/sign_data/train/016/016_03.PNG', '/content/drive/MyDrive/Signature_Verification_Dataset/sign_data/train/016/016_17.PNG', '/content/drive/MyDrive/Signature_Verification_Dataset/sign_data/train/016/016_11.PNG', '/content/drive/MyDrive/Signature_Verification_Dataset/sign_data/train/016/016_12.PNG', '/content/drive/MyDrive/Signature_Verification_Dataset/sign_data/train/016/016_07.PNG', '/content/drive/MyDrive/Signature_Verification_Dataset/sign_data/train/016/016_15.PNG', '/content/drive/MyDrive/Signature_Verification_Dataset/sign_data/train/016/016_04.PNG', '/content/drive/MyDrive/Signature_Verification_Dataset/sign_data/train/016/016_21.PNG', '/content/drive/MyDrive/Signature_Verification_Dataset/sign_data/train/016/016_14.PNG', '/content/drive/MyDrive/Signature_Verification_Dataset/sign_data/train/014/014_21.PNG', '/content/drive/MyDrive/Signature_Verification_Dataset/sign_data/train/014/014_01.PNG', '/content/drive/MyDrive/Signature_Verification_Dataset/sign_data/train/014/014_07.PNG', '/content/drive/MyDrive/Signature_Verification_Dataset/sign_data/train/014/014_06.PNG', '/content/drive/MyDrive/Signature_Verification_Dataset/sign_data/train/014/014_09.PNG', '/content/drive/MyDrive/Signature_Verification_Dataset/sign_data/train/014/014_03.PNG', '/content/drive/MyDrive/Signature_Verification_Dataset/sign_data/train/014/014_19.PNG', '/content/drive/MyDrive/Signature_Verification_Dataset/sign_data/train/014/014_12.PNG', '/content/drive/MyDrive/Signature_Verification_Dataset/sign_data/train/014/014_02.PNG', '/content/drive/MyDrive/Signature_Verification_Dataset/sign_data/train/014/014_14.PNG', '/content/drive/MyDrive/Signature_Verification_Dataset/sign_data/train/014/014_05.PNG', '/content/drive/MyDrive/Signature_Verification_Dataset/sign_data/train/014/014_18.PNG', '/content/drive/MyDrive/Signature_Verification_Dataset/sign_data/train/014/014_20.PNG', '/content/drive/MyDrive/Signature_Verification_Dataset/sign_data/train/014/014_17.PNG', '/content/drive/MyDrive/Signature_Verification_Dataset/sign_data/train/014/014_16.PNG', '/content/drive/MyDrive/Signature_Verification_Dataset/sign_data/train/014/014_15.PNG', '/content/drive/MyDrive/Signature_Verification_Dataset/sign_data/train/014/014_08.PNG', '/content/drive/MyDrive/Signature_Verification_Dataset/sign_data/train/014/014_13.PNG', '/content/drive/MyDrive/Signature_Verification_Dataset/sign_data/train/014/014_11.PNG', '/content/drive/MyDrive/Signature_Verification_Dataset/sign_data/train/014/014_23.PNG', '/content/drive/MyDrive/Signature_Verification_Dataset/sign_data/train/014/014_22.PNG', '/content/drive/MyDrive/Signature_Verification_Dataset/sign_data/train/014/014_04.PNG', '/content/drive/MyDrive/Signature_Verification_Dataset/sign_data/train/014/014_10.PNG', '/content/drive/MyDrive/Signature_Verification_Dataset/sign_data/train/014/014_24.PNG', '/content/drive/MyDrive/Signature_Verification_Dataset/sign_data/train/017/10_017.png', '/content/drive/MyDrive/Signature_Verification_Dataset/sign_data/train/017/05_017.png', '/content/drive/MyDrive/Signature_Verification_Dataset/sign_data/train/017/07_017.png', '/content/drive/MyDrive/Signature_Verification_Dataset/sign_data/train/017/02_017.png', '/content/drive/MyDrive/Signature_Verification_Dataset/sign_data/train/017/12_017.png', '/content/drive/MyDrive/Signature_Verification_Dataset/sign_data/train/017/06_017.png', '/content/drive/MyDrive/Signature_Verification_Dataset/sign_data/train/017/09_017.png', '/content/drive/MyDrive/Signature_Verification_Dataset/sign_data/train/017/08_017.png', '/content/drive/MyDrive/Signature_Verification_Dataset/sign_data/train/017/11_017.png', '/content/drive/MyDrive/Signature_Verification_Dataset/sign_data/train/017/04_017.png', '/content/drive/MyDrive/Signature_Verification_Dataset/sign_data/train/017/01_017.png', '/content/drive/MyDrive/Signature_Verification_Dataset/sign_data/train/017/03_017.png', '/content/drive/MyDrive/Signature_Verification_Dataset/sign_data/train/015/015_14.PNG', '/content/drive/MyDrive/Signature_Verification_Dataset/sign_data/train/015/015_11.PNG', '/content/drive/MyDrive/Signature_Verification_Dataset/sign_data/train/015/015_21.PNG', '/content/drive/MyDrive/Signature_Verification_Dataset/sign_data/train/015/015_24.PNG', '/content/drive/MyDrive/Signature_Verification_Dataset/sign_data/train/015/015_13.PNG', '/content/drive/MyDrive/Signature_Verification_Dataset/sign_data/train/015/015_05.PNG', '/content/drive/MyDrive/Signature_Verification_Dataset/sign_data/train/015/015_08.PNG', '/content/drive/MyDrive/Signature_Verification_Dataset/sign_data/train/015/015_04.PNG', '/content/drive/MyDrive/Signature_Verification_Dataset/sign_data/train/015/015_09.PNG', '/content/drive/MyDrive/Signature_Verification_Dataset/sign_data/train/015/015_17.PNG', '/content/drive/MyDrive/Signature_Verification_Dataset/sign_data/train/015/015_19.PNG', '/content/drive/MyDrive/Signature_Verification_Dataset/sign_data/train/015/015_02.PNG', '/content/drive/MyDrive/Signature_Verification_Dataset/sign_data/train/015/015_07.PNG', '/content/drive/MyDrive/Signature_Verification_Dataset/sign_data/train/015/015_12.PNG', '/content/drive/MyDrive/Signature_Verification_Dataset/sign_data/train/015/015_22.PNG', '/content/drive/MyDrive/Signature_Verification_Dataset/sign_data/train/015/015_15.PNG', '/content/drive/MyDrive/Signature_Verification_Dataset/sign_data/train/015/015_16.PNG', '/content/drive/MyDrive/Signature_Verification_Dataset/sign_data/train/015/015_20.PNG', '/content/drive/MyDrive/Signature_Verification_Dataset/sign_data/train/015/015_10.PNG', '/content/drive/MyDrive/Signature_Verification_Dataset/sign_data/train/015/015_23.PNG', '/content/drive/MyDrive/Signature_Verification_Dataset/sign_data/train/015/015_06.PNG', '/content/drive/MyDrive/Signature_Verification_Dataset/sign_data/train/015/015_18.PNG', '/content/drive/MyDrive/Signature_Verification_Dataset/sign_data/train/015/015_03.PNG', '/content/drive/MyDrive/Signature_Verification_Dataset/sign_data/train/015/015_01.PNG', '/content/drive/MyDrive/Signature_Verification_Dataset/sign_data/train/018/04_018.png', '/content/drive/MyDrive/Signature_Verification_Dataset/sign_data/train/018/01_018.png', '/content/drive/MyDrive/Signature_Verification_Dataset/sign_data/train/018/10_018.png', '/content/drive/MyDrive/Signature_Verification_Dataset/sign_data/train/018/09_018.png', '/content/drive/MyDrive/Signature_Verification_Dataset/sign_data/train/018/05_018.png', '/content/drive/MyDrive/Signature_Verification_Dataset/sign_data/train/018/12_018.png', '/content/drive/MyDrive/Signature_Verification_Dataset/sign_data/train/018/06_018.png', '/content/drive/MyDrive/Signature_Verification_Dataset/sign_data/train/018/02_018.png', '/content/drive/MyDrive/Signature_Verification_Dataset/sign_data/train/018/03_018.png', '/content/drive/MyDrive/Signature_Verification_Dataset/sign_data/train/018/11_018.png', '/content/drive/MyDrive/Signature_Verification_Dataset/sign_data/train/018/08_018.png', '/content/drive/MyDrive/Signature_Verification_Dataset/sign_data/train/018/07_018.png', '/content/drive/MyDrive/Signature_Verification_Dataset/sign_data/train/022/06_022.png', '/content/drive/MyDrive/Signature_Verification_Dataset/sign_data/train/022/01_022.png', '/content/drive/MyDrive/Signature_Verification_Dataset/sign_data/train/022/09_022.png', '/content/drive/MyDrive/Signature_Verification_Dataset/sign_data/train/022/07_022.png', '/content/drive/MyDrive/Signature_Verification_Dataset/sign_data/train/022/05_022.png', '/content/drive/MyDrive/Signature_Verification_Dataset/sign_data/train/022/02_022.png', '/content/drive/MyDrive/Signature_Verification_Dataset/sign_data/train/022/04_022.png', '/content/drive/MyDrive/Signature_Verification_Dataset/sign_data/train/022/08_022.png', '/content/drive/MyDrive/Signature_Verification_Dataset/sign_data/train/022/10_022.png', '/content/drive/MyDrive/Signature_Verification_Dataset/sign_data/train/022/03_022.png', '/content/drive/MyDrive/Signature_Verification_Dataset/sign_data/train/022/12_022.png', '/content/drive/MyDrive/Signature_Verification_Dataset/sign_data/train/022/11_022.png', '/content/drive/MyDrive/Signature_Verification_Dataset/sign_data/train/019/04_019.png', '/content/drive/MyDrive/Signature_Verification_Dataset/sign_data/train/019/02_019.png', '/content/drive/MyDrive/Signature_Verification_Dataset/sign_data/train/019/11_019.png', '/content/drive/MyDrive/Signature_Verification_Dataset/sign_data/train/019/06_019.png', '/content/drive/MyDrive/Signature_Verification_Dataset/sign_data/train/019/05_019.png', '/content/drive/MyDrive/Signature_Verification_Dataset/sign_data/train/019/10_019.png', '/content/drive/MyDrive/Signature_Verification_Dataset/sign_data/train/019/07_019.png', '/content/drive/MyDrive/Signature_Verification_Dataset/sign_data/train/019/12_019.png', '/content/drive/MyDrive/Signature_Verification_Dataset/sign_data/train/019/03_019.png', '/content/drive/MyDrive/Signature_Verification_Dataset/sign_data/train/019/09_019.png', '/content/drive/MyDrive/Signature_Verification_Dataset/sign_data/train/019/08_019.png', '/content/drive/MyDrive/Signature_Verification_Dataset/sign_data/train/019/01_019.png', '/content/drive/MyDrive/Signature_Verification_Dataset/sign_data/train/020/06_020.png', '/content/drive/MyDrive/Signature_Verification_Dataset/sign_data/train/020/04_020.png', '/content/drive/MyDrive/Signature_Verification_Dataset/sign_data/train/020/01_020.png', '/content/drive/MyDrive/Signature_Verification_Dataset/sign_data/train/020/03_020.png', '/content/drive/MyDrive/Signature_Verification_Dataset/sign_data/train/020/08_020.png', '/content/drive/MyDrive/Signature_Verification_Dataset/sign_data/train/020/02_020.png', '/content/drive/MyDrive/Signature_Verification_Dataset/sign_data/train/020/07_020.png', '/content/drive/MyDrive/Signature_Verification_Dataset/sign_data/train/020/05_020.png', '/content/drive/MyDrive/Signature_Verification_Dataset/sign_data/train/020/11_020.png', '/content/drive/MyDrive/Signature_Verification_Dataset/sign_data/train/020/09_020.png', '/content/drive/MyDrive/Signature_Verification_Dataset/sign_data/train/020/12_020.png', '/content/drive/MyDrive/Signature_Verification_Dataset/sign_data/train/020/10_020.png', '/content/drive/MyDrive/Signature_Verification_Dataset/sign_data/train/021/10_021.png', '/content/drive/MyDrive/Signature_Verification_Dataset/sign_data/train/021/08_021.png', '/content/drive/MyDrive/Signature_Verification_Dataset/sign_data/train/021/07_021.png', '/content/drive/MyDrive/Signature_Verification_Dataset/sign_data/train/021/09_021.png', '/content/drive/MyDrive/Signature_Verification_Dataset/sign_data/train/021/06_021.png', '/content/drive/MyDrive/Signature_Verification_Dataset/sign_data/train/021/05_021.png', '/content/drive/MyDrive/Signature_Verification_Dataset/sign_data/train/021/12_021.png', '/content/drive/MyDrive/Signature_Verification_Dataset/sign_data/train/021/11_021.png', '/content/drive/MyDrive/Signature_Verification_Dataset/sign_data/train/021/02_021.png', '/content/drive/MyDrive/Signature_Verification_Dataset/sign_data/train/021/04_021.png', '/content/drive/MyDrive/Signature_Verification_Dataset/sign_data/train/021/03_021.png', '/content/drive/MyDrive/Signature_Verification_Dataset/sign_data/train/021/01_021.png', '/content/drive/MyDrive/Signature_Verification_Dataset/sign_data/train/023/05_023.png', '/content/drive/MyDrive/Signature_Verification_Dataset/sign_data/train/023/08_023.png', '/content/drive/MyDrive/Signature_Verification_Dataset/sign_data/train/023/02_023.png', '/content/drive/MyDrive/Signature_Verification_Dataset/sign_data/train/023/09_023.png', '/content/drive/MyDrive/Signature_Verification_Dataset/sign_data/train/023/10_023.png', '/content/drive/MyDrive/Signature_Verification_Dataset/sign_data/train/023/06_023.png', '/content/drive/MyDrive/Signature_Verification_Dataset/sign_data/train/023/01_023.png', '/content/drive/MyDrive/Signature_Verification_Dataset/sign_data/train/023/11_023.png', '/content/drive/MyDrive/Signature_Verification_Dataset/sign_data/train/023/04_023.png', '/content/drive/MyDrive/Signature_Verification_Dataset/sign_data/train/023/07_023.png', '/content/drive/MyDrive/Signature_Verification_Dataset/sign_data/train/023/12_023.png', '/content/drive/MyDrive/Signature_Verification_Dataset/sign_data/train/023/03_023.png', '/content/drive/MyDrive/Signature_Verification_Dataset/sign_data/train/026/10_026.png', '/content/drive/MyDrive/Signature_Verification_Dataset/sign_data/train/026/07_026.png', '/content/drive/MyDrive/Signature_Verification_Dataset/sign_data/train/026/08_026.png', '/content/drive/MyDrive/Signature_Verification_Dataset/sign_data/train/026/11_026.png', '/content/drive/MyDrive/Signature_Verification_Dataset/sign_data/train/026/03_026.png', '/content/drive/MyDrive/Signature_Verification_Dataset/sign_data/train/026/01_026.png', '/content/drive/MyDrive/Signature_Verification_Dataset/sign_data/train/026/05_026.png', '/content/drive/MyDrive/Signature_Verification_Dataset/sign_data/train/026/09_026.png', '/content/drive/MyDrive/Signature_Verification_Dataset/sign_data/train/026/06_026.png', '/content/drive/MyDrive/Signature_Verification_Dataset/sign_data/train/026/04_026.png', '/content/drive/MyDrive/Signature_Verification_Dataset/sign_data/train/026/02_026.png', '/content/drive/MyDrive/Signature_Verification_Dataset/sign_data/train/026/12_026.png', '/content/drive/MyDrive/Signature_Verification_Dataset/sign_data/train/025/09_025.png', '/content/drive/MyDrive/Signature_Verification_Dataset/sign_data/train/025/10_025.png', '/content/drive/MyDrive/Signature_Verification_Dataset/sign_data/train/025/12_025.png', '/content/drive/MyDrive/Signature_Verification_Dataset/sign_data/train/025/08_025.png', '/content/drive/MyDrive/Signature_Verification_Dataset/sign_data/train/025/03_025.png', '/content/drive/MyDrive/Signature_Verification_Dataset/sign_data/train/025/07_025.png', '/content/drive/MyDrive/Signature_Verification_Dataset/sign_data/train/025/06_025.png', '/content/drive/MyDrive/Signature_Verification_Dataset/sign_data/train/025/11_025.png', '/content/drive/MyDrive/Signature_Verification_Dataset/sign_data/train/025/01_025.png', '/content/drive/MyDrive/Signature_Verification_Dataset/sign_data/train/025/05_025.png', '/content/drive/MyDrive/Signature_Verification_Dataset/sign_data/train/025/04_025.png', '/content/drive/MyDrive/Signature_Verification_Dataset/sign_data/train/025/02_025.png', '/content/drive/MyDrive/Signature_Verification_Dataset/sign_data/train/024/04_024.png', '/content/drive/MyDrive/Signature_Verification_Dataset/sign_data/train/024/05_024.png', '/content/drive/MyDrive/Signature_Verification_Dataset/sign_data/train/024/11_024.png', '/content/drive/MyDrive/Signature_Verification_Dataset/sign_data/train/024/12_024.png', '/content/drive/MyDrive/Signature_Verification_Dataset/sign_data/train/024/03_024.png', '/content/drive/MyDrive/Signature_Verification_Dataset/sign_data/train/024/10_024.png', '/content/drive/MyDrive/Signature_Verification_Dataset/sign_data/train/024/09_024.png', '/content/drive/MyDrive/Signature_Verification_Dataset/sign_data/train/024/07_024.png', '/content/drive/MyDrive/Signature_Verification_Dataset/sign_data/train/024/08_024.png', '/content/drive/MyDrive/Signature_Verification_Dataset/sign_data/train/024/01_024.png', '/content/drive/MyDrive/Signature_Verification_Dataset/sign_data/train/024/06_024.png', '/content/drive/MyDrive/Signature_Verification_Dataset/sign_data/train/024/02_024.png', '/content/drive/MyDrive/Signature_Verification_Dataset/sign_data/train/027/06_027.png', '/content/drive/MyDrive/Signature_Verification_Dataset/sign_data/train/027/02_027.png', '/content/drive/MyDrive/Signature_Verification_Dataset/sign_data/train/027/05_027.png', '/content/drive/MyDrive/Signature_Verification_Dataset/sign_data/train/027/07_027.png', '/content/drive/MyDrive/Signature_Verification_Dataset/sign_data/train/027/04_027.png', '/content/drive/MyDrive/Signature_Verification_Dataset/sign_data/train/027/01_027.png', '/content/drive/MyDrive/Signature_Verification_Dataset/sign_data/train/027/03_027.png', '/content/drive/MyDrive/Signature_Verification_Dataset/sign_data/train/027/12_027.png', '/content/drive/MyDrive/Signature_Verification_Dataset/sign_data/train/027/09_027.png', '/content/drive/MyDrive/Signature_Verification_Dataset/sign_data/train/027/08_027.png', '/content/drive/MyDrive/Signature_Verification_Dataset/sign_data/train/027/11_027.png', '/content/drive/MyDrive/Signature_Verification_Dataset/sign_data/train/027/10_027.png', '/content/drive/MyDrive/Signature_Verification_Dataset/sign_data/train/028/06_028.png', '/content/drive/MyDrive/Signature_Verification_Dataset/sign_data/train/028/04_028.png', '/content/drive/MyDrive/Signature_Verification_Dataset/sign_data/train/028/11_028.png', '/content/drive/MyDrive/Signature_Verification_Dataset/sign_data/train/028/10_028.png', '/content/drive/MyDrive/Signature_Verification_Dataset/sign_data/train/028/08_028.png', '/content/drive/MyDrive/Signature_Verification_Dataset/sign_data/train/028/07_028.png', '/content/drive/MyDrive/Signature_Verification_Dataset/sign_data/train/028/03_028.png', '/content/drive/MyDrive/Signature_Verification_Dataset/sign_data/train/028/09_028.png', '/content/drive/MyDrive/Signature_Verification_Dataset/sign_data/train/028/05_028.png', '/content/drive/MyDrive/Signature_Verification_Dataset/sign_data/train/028/12_028.png', '/content/drive/MyDrive/Signature_Verification_Dataset/sign_data/train/028/01_028.png', '/content/drive/MyDrive/Signature_Verification_Dataset/sign_data/train/028/02_028.png', '/content/drive/MyDrive/Signature_Verification_Dataset/sign_data/train/032/06_032.png', '/content/drive/MyDrive/Signature_Verification_Dataset/sign_data/train/032/05_032.png', '/content/drive/MyDrive/Signature_Verification_Dataset/sign_data/train/032/03_032.png', '/content/drive/MyDrive/Signature_Verification_Dataset/sign_data/train/032/08_032.png', '/content/drive/MyDrive/Signature_Verification_Dataset/sign_data/train/032/01_032.png', '/content/drive/MyDrive/Signature_Verification_Dataset/sign_data/train/032/09_032.png', '/content/drive/MyDrive/Signature_Verification_Dataset/sign_data/train/032/04_032.png', '/content/drive/MyDrive/Signature_Verification_Dataset/sign_data/train/032/10_032.png', '/content/drive/MyDrive/Signature_Verification_Dataset/sign_data/train/032/07_032.png', '/content/drive/MyDrive/Signature_Verification_Dataset/sign_data/train/032/11_032.png', '/content/drive/MyDrive/Signature_Verification_Dataset/sign_data/train/032/02_032.png', '/content/drive/MyDrive/Signature_Verification_Dataset/sign_data/train/032/12_032.png', '/content/drive/MyDrive/Signature_Verification_Dataset/sign_data/train/029/08_029.png', '/content/drive/MyDrive/Signature_Verification_Dataset/sign_data/train/029/03_029.png', '/content/drive/MyDrive/Signature_Verification_Dataset/sign_data/train/029/06_029.png', '/content/drive/MyDrive/Signature_Verification_Dataset/sign_data/train/029/12_029.png', '/content/drive/MyDrive/Signature_Verification_Dataset/sign_data/train/029/11_029.png', '/content/drive/MyDrive/Signature_Verification_Dataset/sign_data/train/029/01_029.png', '/content/drive/MyDrive/Signature_Verification_Dataset/sign_data/train/029/02_029.png', '/content/drive/MyDrive/Signature_Verification_Dataset/sign_data/train/029/05_029.png', '/content/drive/MyDrive/Signature_Verification_Dataset/sign_data/train/029/10_029.png', '/content/drive/MyDrive/Signature_Verification_Dataset/sign_data/train/029/09_029.png', '/content/drive/MyDrive/Signature_Verification_Dataset/sign_data/train/029/07_029.png', '/content/drive/MyDrive/Signature_Verification_Dataset/sign_data/train/029/04_029.png', '/content/drive/MyDrive/Signature_Verification_Dataset/sign_data/train/031/03_031.png', '/content/drive/MyDrive/Signature_Verification_Dataset/sign_data/train/031/04_031.png', '/content/drive/MyDrive/Signature_Verification_Dataset/sign_data/train/031/01_031.png', '/content/drive/MyDrive/Signature_Verification_Dataset/sign_data/train/031/05_031.png', '/content/drive/MyDrive/Signature_Verification_Dataset/sign_data/train/031/11_031.png', '/content/drive/MyDrive/Signature_Verification_Dataset/sign_data/train/031/07_031.png', '/content/drive/MyDrive/Signature_Verification_Dataset/sign_data/train/031/10_031.png', '/content/drive/MyDrive/Signature_Verification_Dataset/sign_data/train/031/08_031.png', '/content/drive/MyDrive/Signature_Verification_Dataset/sign_data/train/031/06_031.png', '/content/drive/MyDrive/Signature_Verification_Dataset/sign_data/train/031/02_031.png', '/content/drive/MyDrive/Signature_Verification_Dataset/sign_data/train/031/12_031.png', '/content/drive/MyDrive/Signature_Verification_Dataset/sign_data/train/031/09_031.png', '/content/drive/MyDrive/Signature_Verification_Dataset/sign_data/train/030/05_030.png', '/content/drive/MyDrive/Signature_Verification_Dataset/sign_data/train/030/04_030.png', '/content/drive/MyDrive/Signature_Verification_Dataset/sign_data/train/030/01_030.png', '/content/drive/MyDrive/Signature_Verification_Dataset/sign_data/train/030/06_030.png', '/content/drive/MyDrive/Signature_Verification_Dataset/sign_data/train/030/12_030.png', '/content/drive/MyDrive/Signature_Verification_Dataset/sign_data/train/030/08_030.png', '/content/drive/MyDrive/Signature_Verification_Dataset/sign_data/train/030/09_030.png', '/content/drive/MyDrive/Signature_Verification_Dataset/sign_data/train/030/07_030.png', '/content/drive/MyDrive/Signature_Verification_Dataset/sign_data/train/030/02_030.png', '/content/drive/MyDrive/Signature_Verification_Dataset/sign_data/train/030/03_030.png', '/content/drive/MyDrive/Signature_Verification_Dataset/sign_data/train/030/10_030.png', '/content/drive/MyDrive/Signature_Verification_Dataset/sign_data/train/030/11_030.png', '/content/drive/MyDrive/Signature_Verification_Dataset/sign_data/train/033/08_033.png', '/content/drive/MyDrive/Signature_Verification_Dataset/sign_data/train/033/06_033.png', '/content/drive/MyDrive/Signature_Verification_Dataset/sign_data/train/033/07_033.png', '/content/drive/MyDrive/Signature_Verification_Dataset/sign_data/train/033/10_033.png', '/content/drive/MyDrive/Signature_Verification_Dataset/sign_data/train/033/04_033.png', '/content/drive/MyDrive/Signature_Verification_Dataset/sign_data/train/033/02_033.png', '/content/drive/MyDrive/Signature_Verification_Dataset/sign_data/train/033/03_033.png', '/content/drive/MyDrive/Signature_Verification_Dataset/sign_data/train/033/11_033.png', '/content/drive/MyDrive/Signature_Verification_Dataset/sign_data/train/033/09_033.png', '/content/drive/MyDrive/Signature_Verification_Dataset/sign_data/train/033/12_033.png', '/content/drive/MyDrive/Signature_Verification_Dataset/sign_data/train/033/01_033.png', '/content/drive/MyDrive/Signature_Verification_Dataset/sign_data/train/033/05_033.png', '/content/drive/MyDrive/Signature_Verification_Dataset/sign_data/train/034/01_034.png', '/content/drive/MyDrive/Signature_Verification_Dataset/sign_data/train/034/04_034.png', '/content/drive/MyDrive/Signature_Verification_Dataset/sign_data/train/034/03_034.png', '/content/drive/MyDrive/Signature_Verification_Dataset/sign_data/train/034/08_034.png', '/content/drive/MyDrive/Signature_Verification_Dataset/sign_data/train/034/06_034.png', '/content/drive/MyDrive/Signature_Verification_Dataset/sign_data/train/034/02_034.png', '/content/drive/MyDrive/Signature_Verification_Dataset/sign_data/train/034/09_034.png', '/content/drive/MyDrive/Signature_Verification_Dataset/sign_data/train/034/10_034.png', '/content/drive/MyDrive/Signature_Verification_Dataset/sign_data/train/034/11_034.png', '/content/drive/MyDrive/Signature_Verification_Dataset/sign_data/train/034/12_034.png', '/content/drive/MyDrive/Signature_Verification_Dataset/sign_data/train/034/07_034.png', '/content/drive/MyDrive/Signature_Verification_Dataset/sign_data/train/034/05_034.png', '/content/drive/MyDrive/Signature_Verification_Dataset/sign_data/train/037/02_037.png', '/content/drive/MyDrive/Signature_Verification_Dataset/sign_data/train/037/01_037.png', '/content/drive/MyDrive/Signature_Verification_Dataset/sign_data/train/037/04_037.png', '/content/drive/MyDrive/Signature_Verification_Dataset/sign_data/train/037/03_037.png', '/content/drive/MyDrive/Signature_Verification_Dataset/sign_data/train/037/08_037.png', '/content/drive/MyDrive/Signature_Verification_Dataset/sign_data/train/037/05_037.png', '/content/drive/MyDrive/Signature_Verification_Dataset/sign_data/train/037/12_037.png', '/content/drive/MyDrive/Signature_Verification_Dataset/sign_data/train/037/11_037.png', '/content/drive/MyDrive/Signature_Verification_Dataset/sign_data/train/037/07_037.png', '/content/drive/MyDrive/Signature_Verification_Dataset/sign_data/train/037/09_037.png', '/content/drive/MyDrive/Signature_Verification_Dataset/sign_data/train/037/10_037.png', '/content/drive/MyDrive/Signature_Verification_Dataset/sign_data/train/037/06_037.png', '/content/drive/MyDrive/Signature_Verification_Dataset/sign_data/train/036/07_036.png', '/content/drive/MyDrive/Signature_Verification_Dataset/sign_data/train/036/05_036.png', '/content/drive/MyDrive/Signature_Verification_Dataset/sign_data/train/036/06_036.png', '/content/drive/MyDrive/Signature_Verification_Dataset/sign_data/train/036/01_036.png', '/content/drive/MyDrive/Signature_Verification_Dataset/sign_data/train/036/11_036.png', '/content/drive/MyDrive/Signature_Verification_Dataset/sign_data/train/036/08_036.png', '/content/drive/MyDrive/Signature_Verification_Dataset/sign_data/train/036/12_036.png', '/content/drive/MyDrive/Signature_Verification_Dataset/sign_data/train/036/10_036.png', '/content/drive/MyDrive/Signature_Verification_Dataset/sign_data/train/036/04_036.png', '/content/drive/MyDrive/Signature_Verification_Dataset/sign_data/train/036/09_036.png', '/content/drive/MyDrive/Signature_Verification_Dataset/sign_data/train/036/03_036.png', '/content/drive/MyDrive/Signature_Verification_Dataset/sign_data/train/036/02_036.png', '/content/drive/MyDrive/Signature_Verification_Dataset/sign_data/train/035/05_035.png', '/content/drive/MyDrive/Signature_Verification_Dataset/sign_data/train/035/03_035.png', '/content/drive/MyDrive/Signature_Verification_Dataset/sign_data/train/035/01_035.png', '/content/drive/MyDrive/Signature_Verification_Dataset/sign_data/train/035/11_035.png', '/content/drive/MyDrive/Signature_Verification_Dataset/sign_data/train/035/07_035.png', '/content/drive/MyDrive/Signature_Verification_Dataset/sign_data/train/035/08_035.png', '/content/drive/MyDrive/Signature_Verification_Dataset/sign_data/train/035/02_035.png', '/content/drive/MyDrive/Signature_Verification_Dataset/sign_data/train/035/09_035.png', '/content/drive/MyDrive/Signature_Verification_Dataset/sign_data/train/035/12_035.png', '/content/drive/MyDrive/Signature_Verification_Dataset/sign_data/train/035/06_035.png', '/content/drive/MyDrive/Signature_Verification_Dataset/sign_data/train/035/10_035.png', '/content/drive/MyDrive/Signature_Verification_Dataset/sign_data/train/035/04_035.png', '/content/drive/MyDrive/Signature_Verification_Dataset/sign_data/train/038/11_038.png', '/content/drive/MyDrive/Signature_Verification_Dataset/sign_data/train/038/02_038.png', '/content/drive/MyDrive/Signature_Verification_Dataset/sign_data/train/038/03_038.png', '/content/drive/MyDrive/Signature_Verification_Dataset/sign_data/train/038/07_038.png', '/content/drive/MyDrive/Signature_Verification_Dataset/sign_data/train/038/04_038.png', '/content/drive/MyDrive/Signature_Verification_Dataset/sign_data/train/038/12_038.png', '/content/drive/MyDrive/Signature_Verification_Dataset/sign_data/train/038/08_038.png', '/content/drive/MyDrive/Signature_Verification_Dataset/sign_data/train/038/01_038.png', '/content/drive/MyDrive/Signature_Verification_Dataset/sign_data/train/038/10_038.png', '/content/drive/MyDrive/Signature_Verification_Dataset/sign_data/train/038/06_038.png', '/content/drive/MyDrive/Signature_Verification_Dataset/sign_data/train/038/05_038.png', '/content/drive/MyDrive/Signature_Verification_Dataset/sign_data/train/038/09_038.png', '/content/drive/MyDrive/Signature_Verification_Dataset/sign_data/train/039/01_039.png', '/content/drive/MyDrive/Signature_Verification_Dataset/sign_data/train/039/04_039.png', '/content/drive/MyDrive/Signature_Verification_Dataset/sign_data/train/039/07_039.png', '/content/drive/MyDrive/Signature_Verification_Dataset/sign_data/train/039/05_039.png', '/content/drive/MyDrive/Signature_Verification_Dataset/sign_data/train/039/03_039.png', '/content/drive/MyDrive/Signature_Verification_Dataset/sign_data/train/039/06_039.png', '/content/drive/MyDrive/Signature_Verification_Dataset/sign_data/train/039/02_039.png', '/content/drive/MyDrive/Signature_Verification_Dataset/sign_data/train/039/11_039.png', '/content/drive/MyDrive/Signature_Verification_Dataset/sign_data/train/039/08_039.png', '/content/drive/MyDrive/Signature_Verification_Dataset/sign_data/train/039/12_039.png', '/content/drive/MyDrive/Signature_Verification_Dataset/sign_data/train/039/10_039.png', '/content/drive/MyDrive/Signature_Verification_Dataset/sign_data/train/039/09_039.png', '/content/drive/MyDrive/Signature_Verification_Dataset/sign_data/train/041/06_041.png', '/content/drive/MyDrive/Signature_Verification_Dataset/sign_data/train/041/05_041.png', '/content/drive/MyDrive/Signature_Verification_Dataset/sign_data/train/041/11_041.png', '/content/drive/MyDrive/Signature_Verification_Dataset/sign_data/train/041/03_041.png', '/content/drive/MyDrive/Signature_Verification_Dataset/sign_data/train/041/04_041.png', '/content/drive/MyDrive/Signature_Verification_Dataset/sign_data/train/041/07_041.png', '/content/drive/MyDrive/Signature_Verification_Dataset/sign_data/train/041/12_041.png', '/content/drive/MyDrive/Signature_Verification_Dataset/sign_data/train/041/01_041.png', '/content/drive/MyDrive/Signature_Verification_Dataset/sign_data/train/041/02_041.png', '/content/drive/MyDrive/Signature_Verification_Dataset/sign_data/train/041/09_041.png', '/content/drive/MyDrive/Signature_Verification_Dataset/sign_data/train/041/08_041.png', '/content/drive/MyDrive/Signature_Verification_Dataset/sign_data/train/041/10_041.png', '/content/drive/MyDrive/Signature_Verification_Dataset/sign_data/train/040/06_040.png', '/content/drive/MyDrive/Signature_Verification_Dataset/sign_data/train/040/07_040.png', '/content/drive/MyDrive/Signature_Verification_Dataset/sign_data/train/040/03_040.png', '/content/drive/MyDrive/Signature_Verification_Dataset/sign_data/train/040/05_040.png', '/content/drive/MyDrive/Signature_Verification_Dataset/sign_data/train/040/02_040.png', '/content/drive/MyDrive/Signature_Verification_Dataset/sign_data/train/040/11_040.png', '/content/drive/MyDrive/Signature_Verification_Dataset/sign_data/train/040/10_040.png', '/content/drive/MyDrive/Signature_Verification_Dataset/sign_data/train/040/08_040.png', '/content/drive/MyDrive/Signature_Verification_Dataset/sign_data/train/040/09_040.png', '/content/drive/MyDrive/Signature_Verification_Dataset/sign_data/train/040/01_040.png', '/content/drive/MyDrive/Signature_Verification_Dataset/sign_data/train/040/12_040.png', '/content/drive/MyDrive/Signature_Verification_Dataset/sign_data/train/040/04_040.png', '/content/drive/MyDrive/Signature_Verification_Dataset/sign_data/train/042/01_042.png', '/content/drive/MyDrive/Signature_Verification_Dataset/sign_data/train/042/07_042.png', '/content/drive/MyDrive/Signature_Verification_Dataset/sign_data/train/042/11_042.png', '/content/drive/MyDrive/Signature_Verification_Dataset/sign_data/train/042/10_042.png', '/content/drive/MyDrive/Signature_Verification_Dataset/sign_data/train/042/02_042.png', '/content/drive/MyDrive/Signature_Verification_Dataset/sign_data/train/042/12_042.png', '/content/drive/MyDrive/Signature_Verification_Dataset/sign_data/train/042/09_042.png', '/content/drive/MyDrive/Signature_Verification_Dataset/sign_data/train/042/03_042.png', '/content/drive/MyDrive/Signature_Verification_Dataset/sign_data/train/042/08_042.png', '/content/drive/MyDrive/Signature_Verification_Dataset/sign_data/train/042/06_042.png', '/content/drive/MyDrive/Signature_Verification_Dataset/sign_data/train/042/04_042.png', '/content/drive/MyDrive/Signature_Verification_Dataset/sign_data/train/042/05_042.png', '/content/drive/MyDrive/Signature_Verification_Dataset/sign_data/train/043/02_043.png', '/content/drive/MyDrive/Signature_Verification_Dataset/sign_data/train/043/01_043.png', '/content/drive/MyDrive/Signature_Verification_Dataset/sign_data/train/043/08_043.png', '/content/drive/MyDrive/Signature_Verification_Dataset/sign_data/train/043/04_043.png', '/content/drive/MyDrive/Signature_Verification_Dataset/sign_data/train/043/10_043.png', '/content/drive/MyDrive/Signature_Verification_Dataset/sign_data/train/043/05_043.png', '/content/drive/MyDrive/Signature_Verification_Dataset/sign_data/train/043/07_043.png', '/content/drive/MyDrive/Signature_Verification_Dataset/sign_data/train/043/09_043.png', '/content/drive/MyDrive/Signature_Verification_Dataset/sign_data/train/043/11_043.png', '/content/drive/MyDrive/Signature_Verification_Dataset/sign_data/train/043/06_043.png', '/content/drive/MyDrive/Signature_Verification_Dataset/sign_data/train/043/12_043.png', '/content/drive/MyDrive/Signature_Verification_Dataset/sign_data/train/043/03_043.png', '/content/drive/MyDrive/Signature_Verification_Dataset/sign_data/train/046/12_046.png', '/content/drive/MyDrive/Signature_Verification_Dataset/sign_data/train/046/02_046.png', '/content/drive/MyDrive/Signature_Verification_Dataset/sign_data/train/046/01_046.png', '/content/drive/MyDrive/Signature_Verification_Dataset/sign_data/train/046/07_046.png', '/content/drive/MyDrive/Signature_Verification_Dataset/sign_data/train/046/11_046.png', '/content/drive/MyDrive/Signature_Verification_Dataset/sign_data/train/046/10_046.png', '/content/drive/MyDrive/Signature_Verification_Dataset/sign_data/train/046/04_046.png', '/content/drive/MyDrive/Signature_Verification_Dataset/sign_data/train/046/03_046.png', '/content/drive/MyDrive/Signature_Verification_Dataset/sign_data/train/046/06_046.png', '/content/drive/MyDrive/Signature_Verification_Dataset/sign_data/train/046/08_046.png', '/content/drive/MyDrive/Signature_Verification_Dataset/sign_data/train/046/09_046.png', '/content/drive/MyDrive/Signature_Verification_Dataset/sign_data/train/046/05_046.png', '/content/drive/MyDrive/Signature_Verification_Dataset/sign_data/train/045/11_045.png', '/content/drive/MyDrive/Signature_Verification_Dataset/sign_data/train/045/06_045.png', '/content/drive/MyDrive/Signature_Verification_Dataset/sign_data/train/045/09_045.png', '/content/drive/MyDrive/Signature_Verification_Dataset/sign_data/train/045/02_045.png', '/content/drive/MyDrive/Signature_Verification_Dataset/sign_data/train/045/04_045.png', '/content/drive/MyDrive/Signature_Verification_Dataset/sign_data/train/045/12_045.png', '/content/drive/MyDrive/Signature_Verification_Dataset/sign_data/train/045/10_045.png', '/content/drive/MyDrive/Signature_Verification_Dataset/sign_data/train/045/01_045.png', '/content/drive/MyDrive/Signature_Verification_Dataset/sign_data/train/045/05_045.png', '/content/drive/MyDrive/Signature_Verification_Dataset/sign_data/train/045/07_045.png', '/content/drive/MyDrive/Signature_Verification_Dataset/sign_data/train/045/03_045.png', '/content/drive/MyDrive/Signature_Verification_Dataset/sign_data/train/045/08_045.png', '/content/drive/MyDrive/Signature_Verification_Dataset/sign_data/train/047/11_047.png', '/content/drive/MyDrive/Signature_Verification_Dataset/sign_data/train/047/02_047.png', '/content/drive/MyDrive/Signature_Verification_Dataset/sign_data/train/047/09_047.png', '/content/drive/MyDrive/Signature_Verification_Dataset/sign_data/train/047/10_047.png', '/content/drive/MyDrive/Signature_Verification_Dataset/sign_data/train/047/12_047.png', '/content/drive/MyDrive/Signature_Verification_Dataset/sign_data/train/047/04_047.png', '/content/drive/MyDrive/Signature_Verification_Dataset/sign_data/train/047/05_047.png', '/content/drive/MyDrive/Signature_Verification_Dataset/sign_data/train/047/07_047.png', '/content/drive/MyDrive/Signature_Verification_Dataset/sign_data/train/047/03_047.png', '/content/drive/MyDrive/Signature_Verification_Dataset/sign_data/train/047/08_047.png', '/content/drive/MyDrive/Signature_Verification_Dataset/sign_data/train/047/06_047.png', '/content/drive/MyDrive/Signature_Verification_Dataset/sign_data/train/047/01_047.png', '/content/drive/MyDrive/Signature_Verification_Dataset/sign_data/train/044/03_044.png', '/content/drive/MyDrive/Signature_Verification_Dataset/sign_data/train/044/04_044.png', '/content/drive/MyDrive/Signature_Verification_Dataset/sign_data/train/044/01_044.png', '/content/drive/MyDrive/Signature_Verification_Dataset/sign_data/train/044/02_044.png', '/content/drive/MyDrive/Signature_Verification_Dataset/sign_data/train/044/06_044.png', '/content/drive/MyDrive/Signature_Verification_Dataset/sign_data/train/044/05_044.png', '/content/drive/MyDrive/Signature_Verification_Dataset/sign_data/train/044/08_044.png', '/content/drive/MyDrive/Signature_Verification_Dataset/sign_data/train/044/07_044.png', '/content/drive/MyDrive/Signature_Verification_Dataset/sign_data/train/044/12_044.png', '/content/drive/MyDrive/Signature_Verification_Dataset/sign_data/train/044/11_044.png', '/content/drive/MyDrive/Signature_Verification_Dataset/sign_data/train/044/10_044.png', '/content/drive/MyDrive/Signature_Verification_Dataset/sign_data/train/044/09_044.png', '/content/drive/MyDrive/Signature_Verification_Dataset/sign_data/train/048/03_048.png', '/content/drive/MyDrive/Signature_Verification_Dataset/sign_data/train/048/09_048.png', '/content/drive/MyDrive/Signature_Verification_Dataset/sign_data/train/048/10_048.png', '/content/drive/MyDrive/Signature_Verification_Dataset/sign_data/train/048/01_048.png', '/content/drive/MyDrive/Signature_Verification_Dataset/sign_data/train/048/11_048.png', '/content/drive/MyDrive/Signature_Verification_Dataset/sign_data/train/048/04_048.png', '/content/drive/MyDrive/Signature_Verification_Dataset/sign_data/train/048/05_048.png', '/content/drive/MyDrive/Signature_Verification_Dataset/sign_data/train/048/06_048.png', '/content/drive/MyDrive/Signature_Verification_Dataset/sign_data/train/048/12_048.png', '/content/drive/MyDrive/Signature_Verification_Dataset/sign_data/train/048/08_048.png', '/content/drive/MyDrive/Signature_Verification_Dataset/sign_data/train/048/07_048.png', '/content/drive/MyDrive/Signature_Verification_Dataset/sign_data/train/048/02_048.png', '/content/drive/MyDrive/Signature_Verification_Dataset/sign_data/train/052/01_052.png', '/content/drive/MyDrive/Signature_Verification_Dataset/sign_data/train/052/02_052.png', '/content/drive/MyDrive/Signature_Verification_Dataset/sign_data/train/052/09_052.png', '/content/drive/MyDrive/Signature_Verification_Dataset/sign_data/train/052/06_052.png', '/content/drive/MyDrive/Signature_Verification_Dataset/sign_data/train/052/08_052.png', '/content/drive/MyDrive/Signature_Verification_Dataset/sign_data/train/052/11_052.png', '/content/drive/MyDrive/Signature_Verification_Dataset/sign_data/train/052/05_052.png', '/content/drive/MyDrive/Signature_Verification_Dataset/sign_data/train/052/04_052.png', '/content/drive/MyDrive/Signature_Verification_Dataset/sign_data/train/052/12_052.png', '/content/drive/MyDrive/Signature_Verification_Dataset/sign_data/train/052/10_052.png', '/content/drive/MyDrive/Signature_Verification_Dataset/sign_data/train/052/07_052.png', '/content/drive/MyDrive/Signature_Verification_Dataset/sign_data/train/052/03_052.png', '/content/drive/MyDrive/Signature_Verification_Dataset/sign_data/train/049/12_049.png', '/content/drive/MyDrive/Signature_Verification_Dataset/sign_data/train/049/09_049.png', '/content/drive/MyDrive/Signature_Verification_Dataset/sign_data/train/049/04_049.png', '/content/drive/MyDrive/Signature_Verification_Dataset/sign_data/train/049/03_049.png', '/content/drive/MyDrive/Signature_Verification_Dataset/sign_data/train/049/06_049.png', '/content/drive/MyDrive/Signature_Verification_Dataset/sign_data/train/049/08_049.png', '/content/drive/MyDrive/Signature_Verification_Dataset/sign_data/train/049/10_049.png', '/content/drive/MyDrive/Signature_Verification_Dataset/sign_data/train/049/05_049.png', '/content/drive/MyDrive/Signature_Verification_Dataset/sign_data/train/049/01_049.png', '/content/drive/MyDrive/Signature_Verification_Dataset/sign_data/train/049/11_049.png', '/content/drive/MyDrive/Signature_Verification_Dataset/sign_data/train/049/07_049.png', '/content/drive/MyDrive/Signature_Verification_Dataset/sign_data/train/049/02_049.png', '/content/drive/MyDrive/Signature_Verification_Dataset/sign_data/train/051/05_051.png', '/content/drive/MyDrive/Signature_Verification_Dataset/sign_data/train/051/07_051.png', '/content/drive/MyDrive/Signature_Verification_Dataset/sign_data/train/051/02_051.png', '/content/drive/MyDrive/Signature_Verification_Dataset/sign_data/train/051/03_051.png', '/content/drive/MyDrive/Signature_Verification_Dataset/sign_data/train/051/12_051.png', '/content/drive/MyDrive/Signature_Verification_Dataset/sign_data/train/051/09_051.png', '/content/drive/MyDrive/Signature_Verification_Dataset/sign_data/train/051/01_051.png', '/content/drive/MyDrive/Signature_Verification_Dataset/sign_data/train/051/11_051.png', '/content/drive/MyDrive/Signature_Verification_Dataset/sign_data/train/051/06_051.png', '/content/drive/MyDrive/Signature_Verification_Dataset/sign_data/train/051/08_051.png', '/content/drive/MyDrive/Signature_Verification_Dataset/sign_data/train/051/10_051.png', '/content/drive/MyDrive/Signature_Verification_Dataset/sign_data/train/051/04_051.png', '/content/drive/MyDrive/Signature_Verification_Dataset/sign_data/train/050/11_050.png', '/content/drive/MyDrive/Signature_Verification_Dataset/sign_data/train/050/12_050.png', '/content/drive/MyDrive/Signature_Verification_Dataset/sign_data/train/050/10_050.png', '/content/drive/MyDrive/Signature_Verification_Dataset/sign_data/train/050/02_050.png', '/content/drive/MyDrive/Signature_Verification_Dataset/sign_data/train/050/09_050.png', '/content/drive/MyDrive/Signature_Verification_Dataset/sign_data/train/050/07_050.png', '/content/drive/MyDrive/Signature_Verification_Dataset/sign_data/train/050/03_050.png', '/content/drive/MyDrive/Signature_Verification_Dataset/sign_data/train/050/04_050.png', '/content/drive/MyDrive/Signature_Verification_Dataset/sign_data/train/050/08_050.png', '/content/drive/MyDrive/Signature_Verification_Dataset/sign_data/train/050/01_050.png', '/content/drive/MyDrive/Signature_Verification_Dataset/sign_data/train/050/06_050.png', '/content/drive/MyDrive/Signature_Verification_Dataset/sign_data/train/050/05_050.png', '/content/drive/MyDrive/Signature_Verification_Dataset/sign_data/train/053/09_053.png', '/content/drive/MyDrive/Signature_Verification_Dataset/sign_data/train/053/06_053.png', '/content/drive/MyDrive/Signature_Verification_Dataset/sign_data/train/053/10_053.png', '/content/drive/MyDrive/Signature_Verification_Dataset/sign_data/train/053/01_053.png', '/content/drive/MyDrive/Signature_Verification_Dataset/sign_data/train/053/07_053.png', '/content/drive/MyDrive/Signature_Verification_Dataset/sign_data/train/053/04_053.png', '/content/drive/MyDrive/Signature_Verification_Dataset/sign_data/train/053/11_053.png', '/content/drive/MyDrive/Signature_Verification_Dataset/sign_data/train/053/02_053.png', '/content/drive/MyDrive/Signature_Verification_Dataset/sign_data/train/053/05_053.png', '/content/drive/MyDrive/Signature_Verification_Dataset/sign_data/train/053/08_053.png', '/content/drive/MyDrive/Signature_Verification_Dataset/sign_data/train/053/03_053.png', '/content/drive/MyDrive/Signature_Verification_Dataset/sign_data/train/053/12_053.png', '/content/drive/MyDrive/Signature_Verification_Dataset/sign_data/train/054/02_054.png', '/content/drive/MyDrive/Signature_Verification_Dataset/sign_data/train/054/01_054.png', '/content/drive/MyDrive/Signature_Verification_Dataset/sign_data/train/054/10_054.png', '/content/drive/MyDrive/Signature_Verification_Dataset/sign_data/train/054/05_054.png', '/content/drive/MyDrive/Signature_Verification_Dataset/sign_data/train/054/07_054.png', '/content/drive/MyDrive/Signature_Verification_Dataset/sign_data/train/054/09_054.png', '/content/drive/MyDrive/Signature_Verification_Dataset/sign_data/train/054/04_054.png', '/content/drive/MyDrive/Signature_Verification_Dataset/sign_data/train/054/11_054.png', '/content/drive/MyDrive/Signature_Verification_Dataset/sign_data/train/054/06_054.png', '/content/drive/MyDrive/Signature_Verification_Dataset/sign_data/train/054/08_054.png', '/content/drive/MyDrive/Signature_Verification_Dataset/sign_data/train/054/03_054.png', '/content/drive/MyDrive/Signature_Verification_Dataset/sign_data/train/054/12_054.png', '/content/drive/MyDrive/Signature_Verification_Dataset/sign_data/train/055/10_055.png', '/content/drive/MyDrive/Signature_Verification_Dataset/sign_data/train/055/06_055.png', '/content/drive/MyDrive/Signature_Verification_Dataset/sign_data/train/055/09_055.png', '/content/drive/MyDrive/Signature_Verification_Dataset/sign_data/train/055/11_055.png', '/content/drive/MyDrive/Signature_Verification_Dataset/sign_data/train/055/07_055.png', '/content/drive/MyDrive/Signature_Verification_Dataset/sign_data/train/055/08_055.png', '/content/drive/MyDrive/Signature_Verification_Dataset/sign_data/train/055/05_055.png', '/content/drive/MyDrive/Signature_Verification_Dataset/sign_data/train/055/01_055.png', '/content/drive/MyDrive/Signature_Verification_Dataset/sign_data/train/055/03_055.png', '/content/drive/MyDrive/Signature_Verification_Dataset/sign_data/train/055/12_055.png', '/content/drive/MyDrive/Signature_Verification_Dataset/sign_data/train/055/02_055.png', '/content/drive/MyDrive/Signature_Verification_Dataset/sign_data/train/055/04_055.png', '/content/drive/MyDrive/Signature_Verification_Dataset/sign_data/train/056/04_056.png', '/content/drive/MyDrive/Signature_Verification_Dataset/sign_data/train/056/03_056.png', '/content/drive/MyDrive/Signature_Verification_Dataset/sign_data/train/056/07_056.png', '/content/drive/MyDrive/Signature_Verification_Dataset/sign_data/train/056/05_056.png', '/content/drive/MyDrive/Signature_Verification_Dataset/sign_data/train/056/06_056.png', '/content/drive/MyDrive/Signature_Verification_Dataset/sign_data/train/056/08_056.png', '/content/drive/MyDrive/Signature_Verification_Dataset/sign_data/train/056/01_056.png', '/content/drive/MyDrive/Signature_Verification_Dataset/sign_data/train/056/02_056.png', '/content/drive/MyDrive/Signature_Verification_Dataset/sign_data/train/056/12_056.png', '/content/drive/MyDrive/Signature_Verification_Dataset/sign_data/train/056/09_056.png', '/content/drive/MyDrive/Signature_Verification_Dataset/sign_data/train/056/11_056.png', '/content/drive/MyDrive/Signature_Verification_Dataset/sign_data/train/056/10_056.png', '/content/drive/MyDrive/Signature_Verification_Dataset/sign_data/train/057/05_057.png', '/content/drive/MyDrive/Signature_Verification_Dataset/sign_data/train/057/03_057.png', '/content/drive/MyDrive/Signature_Verification_Dataset/sign_data/train/057/02_057.png', '/content/drive/MyDrive/Signature_Verification_Dataset/sign_data/train/057/08_057.png', '/content/drive/MyDrive/Signature_Verification_Dataset/sign_data/train/057/12_057.png', '/content/drive/MyDrive/Signature_Verification_Dataset/sign_data/train/057/07_057.png', '/content/drive/MyDrive/Signature_Verification_Dataset/sign_data/train/057/04_057.png', '/content/drive/MyDrive/Signature_Verification_Dataset/sign_data/train/057/09_057.png', '/content/drive/MyDrive/Signature_Verification_Dataset/sign_data/train/057/06_057.png', '/content/drive/MyDrive/Signature_Verification_Dataset/sign_data/train/057/10_057.png', '/content/drive/MyDrive/Signature_Verification_Dataset/sign_data/train/057/01_057.png', '/content/drive/MyDrive/Signature_Verification_Dataset/sign_data/train/057/11_057.png', '/content/drive/MyDrive/Signature_Verification_Dataset/sign_data/train/058/08_058.png', '/content/drive/MyDrive/Signature_Verification_Dataset/sign_data/train/058/06_058.png', '/content/drive/MyDrive/Signature_Verification_Dataset/sign_data/train/058/02_058.png', '/content/drive/MyDrive/Signature_Verification_Dataset/sign_data/train/058/11_058.png', '/content/drive/MyDrive/Signature_Verification_Dataset/sign_data/train/058/12_058.png', '/content/drive/MyDrive/Signature_Verification_Dataset/sign_data/train/058/09_058.png', '/content/drive/MyDrive/Signature_Verification_Dataset/sign_data/train/058/04_058.png', '/content/drive/MyDrive/Signature_Verification_Dataset/sign_data/train/058/07_058.png', '/content/drive/MyDrive/Signature_Verification_Dataset/sign_data/train/058/03_058.png', '/content/drive/MyDrive/Signature_Verification_Dataset/sign_data/train/058/05_058.png', '/content/drive/MyDrive/Signature_Verification_Dataset/sign_data/train/058/01_058.png', '/content/drive/MyDrive/Signature_Verification_Dataset/sign_data/train/058/10_058.png', '/content/drive/MyDrive/Signature_Verification_Dataset/sign_data/train/062/04_062.png', '/content/drive/MyDrive/Signature_Verification_Dataset/sign_data/train/062/07_062.png', '/content/drive/MyDrive/Signature_Verification_Dataset/sign_data/train/062/08_062.png', '/content/drive/MyDrive/Signature_Verification_Dataset/sign_data/train/062/12_062.png', '/content/drive/MyDrive/Signature_Verification_Dataset/sign_data/train/062/09_062.png', '/content/drive/MyDrive/Signature_Verification_Dataset/sign_data/train/062/10_062.png', '/content/drive/MyDrive/Signature_Verification_Dataset/sign_data/train/062/05_062.png', '/content/drive/MyDrive/Signature_Verification_Dataset/sign_data/train/062/01_062.png', '/content/drive/MyDrive/Signature_Verification_Dataset/sign_data/train/062/11_062.png', '/content/drive/MyDrive/Signature_Verification_Dataset/sign_data/train/062/03_062.png', '/content/drive/MyDrive/Signature_Verification_Dataset/sign_data/train/062/06_062.png', '/content/drive/MyDrive/Signature_Verification_Dataset/sign_data/train/062/02_062.png', '/content/drive/MyDrive/Signature_Verification_Dataset/sign_data/train/061/03_061.png', '/content/drive/MyDrive/Signature_Verification_Dataset/sign_data/train/061/08_061.png', '/content/drive/MyDrive/Signature_Verification_Dataset/sign_data/train/061/07_061.png', '/content/drive/MyDrive/Signature_Verification_Dataset/sign_data/train/061/12_061.png', '/content/drive/MyDrive/Signature_Verification_Dataset/sign_data/train/061/10_061.png', '/content/drive/MyDrive/Signature_Verification_Dataset/sign_data/train/061/04_061.png', '/content/drive/MyDrive/Signature_Verification_Dataset/sign_data/train/061/06_061.png', '/content/drive/MyDrive/Signature_Verification_Dataset/sign_data/train/061/05_061.png', '/content/drive/MyDrive/Signature_Verification_Dataset/sign_data/train/061/09_061.png', '/content/drive/MyDrive/Signature_Verification_Dataset/sign_data/train/061/01_061.png', '/content/drive/MyDrive/Signature_Verification_Dataset/sign_data/train/061/02_061.png', '/content/drive/MyDrive/Signature_Verification_Dataset/sign_data/train/061/11_061.png', '/content/drive/MyDrive/Signature_Verification_Dataset/sign_data/train/060/05_060.png', '/content/drive/MyDrive/Signature_Verification_Dataset/sign_data/train/060/04_060.png', '/content/drive/MyDrive/Signature_Verification_Dataset/sign_data/train/060/07_060.png', '/content/drive/MyDrive/Signature_Verification_Dataset/sign_data/train/060/03_060.png', '/content/drive/MyDrive/Signature_Verification_Dataset/sign_data/train/060/02_060.png', '/content/drive/MyDrive/Signature_Verification_Dataset/sign_data/train/060/11_060.png', '/content/drive/MyDrive/Signature_Verification_Dataset/sign_data/train/060/08_060.png', '/content/drive/MyDrive/Signature_Verification_Dataset/sign_data/train/060/01_060.png', '/content/drive/MyDrive/Signature_Verification_Dataset/sign_data/train/060/12_060.png', '/content/drive/MyDrive/Signature_Verification_Dataset/sign_data/train/060/10_060.png', '/content/drive/MyDrive/Signature_Verification_Dataset/sign_data/train/060/09_060.png', '/content/drive/MyDrive/Signature_Verification_Dataset/sign_data/train/060/06_060.png', '/content/drive/MyDrive/Signature_Verification_Dataset/sign_data/train/059/03_059.png', '/content/drive/MyDrive/Signature_Verification_Dataset/sign_data/train/059/08_059.png', '/content/drive/MyDrive/Signature_Verification_Dataset/sign_data/train/059/02_059.png', '/content/drive/MyDrive/Signature_Verification_Dataset/sign_data/train/059/01_059.png', '/content/drive/MyDrive/Signature_Verification_Dataset/sign_data/train/059/11_059.png', '/content/drive/MyDrive/Signature_Verification_Dataset/sign_data/train/059/06_059.png', '/content/drive/MyDrive/Signature_Verification_Dataset/sign_data/train/059/07_059.png', '/content/drive/MyDrive/Signature_Verification_Dataset/sign_data/train/059/10_059.png', '/content/drive/MyDrive/Signature_Verification_Dataset/sign_data/train/059/04_059.png', '/content/drive/MyDrive/Signature_Verification_Dataset/sign_data/train/059/05_059.png', '/content/drive/MyDrive/Signature_Verification_Dataset/sign_data/train/059/09_059.png', '/content/drive/MyDrive/Signature_Verification_Dataset/sign_data/train/059/12_059.png', '/content/drive/MyDrive/Signature_Verification_Dataset/sign_data/train/063/04_063.png', '/content/drive/MyDrive/Signature_Verification_Dataset/sign_data/train/063/09_063.png', '/content/drive/MyDrive/Signature_Verification_Dataset/sign_data/train/063/10_063.png', '/content/drive/MyDrive/Signature_Verification_Dataset/sign_data/train/063/11_063.png', '/content/drive/MyDrive/Signature_Verification_Dataset/sign_data/train/063/02_063.png', '/content/drive/MyDrive/Signature_Verification_Dataset/sign_data/train/063/07_063.png', '/content/drive/MyDrive/Signature_Verification_Dataset/sign_data/train/063/01_063.png', '/content/drive/MyDrive/Signature_Verification_Dataset/sign_data/train/063/06_063.png', '/content/drive/MyDrive/Signature_Verification_Dataset/sign_data/train/063/05_063.png', '/content/drive/MyDrive/Signature_Verification_Dataset/sign_data/train/063/03_063.png', '/content/drive/MyDrive/Signature_Verification_Dataset/sign_data/train/063/12_063.png', '/content/drive/MyDrive/Signature_Verification_Dataset/sign_data/train/063/08_063.png', '/content/drive/MyDrive/Signature_Verification_Dataset/sign_data/train/064/04_064.png', '/content/drive/MyDrive/Signature_Verification_Dataset/sign_data/train/064/03_064.png', '/content/drive/MyDrive/Signature_Verification_Dataset/sign_data/train/064/02_064.png', '/content/drive/MyDrive/Signature_Verification_Dataset/sign_data/train/064/01_064.png', '/content/drive/MyDrive/Signature_Verification_Dataset/sign_data/train/064/05_064.png', '/content/drive/MyDrive/Signature_Verification_Dataset/sign_data/train/064/06_064.png', '/content/drive/MyDrive/Signature_Verification_Dataset/sign_data/train/064/12_064.png', '/content/drive/MyDrive/Signature_Verification_Dataset/sign_data/train/064/11_064.png', '/content/drive/MyDrive/Signature_Verification_Dataset/sign_data/train/064/07_064.png', '/content/drive/MyDrive/Signature_Verification_Dataset/sign_data/train/064/08_064.png', '/content/drive/MyDrive/Signature_Verification_Dataset/sign_data/train/064/10_064.png', '/content/drive/MyDrive/Signature_Verification_Dataset/sign_data/train/064/09_064.png', '/content/drive/MyDrive/Signature_Verification_Dataset/sign_data/train/067/01_067.png', '/content/drive/MyDrive/Signature_Verification_Dataset/sign_data/train/067/02_067.png', '/content/drive/MyDrive/Signature_Verification_Dataset/sign_data/train/067/03_067.png', '/content/drive/MyDrive/Signature_Verification_Dataset/sign_data/train/067/04_067.png', '/content/drive/MyDrive/Signature_Verification_Dataset/sign_data/train/067/08_067.png', '/content/drive/MyDrive/Signature_Verification_Dataset/sign_data/train/067/11_067.png', '/content/drive/MyDrive/Signature_Verification_Dataset/sign_data/train/067/06_067.png', '/content/drive/MyDrive/Signature_Verification_Dataset/sign_data/train/067/12_067.png', '/content/drive/MyDrive/Signature_Verification_Dataset/sign_data/train/067/07_067.png', '/content/drive/MyDrive/Signature_Verification_Dataset/sign_data/train/067/05_067.png', '/content/drive/MyDrive/Signature_Verification_Dataset/sign_data/train/067/10_067.png', '/content/drive/MyDrive/Signature_Verification_Dataset/sign_data/train/067/09_067.png', '/content/drive/MyDrive/Signature_Verification_Dataset/sign_data/train/068/03_068.png', '/content/drive/MyDrive/Signature_Verification_Dataset/sign_data/train/068/06_068.png', '/content/drive/MyDrive/Signature_Verification_Dataset/sign_data/train/068/01_068.png', '/content/drive/MyDrive/Signature_Verification_Dataset/sign_data/train/068/04_068.png', '/content/drive/MyDrive/Signature_Verification_Dataset/sign_data/train/068/07_068.png', '/content/drive/MyDrive/Signature_Verification_Dataset/sign_data/train/068/08_068.png', '/content/drive/MyDrive/Signature_Verification_Dataset/sign_data/train/068/10_068.png', '/content/drive/MyDrive/Signature_Verification_Dataset/sign_data/train/068/11_068.png', '/content/drive/MyDrive/Signature_Verification_Dataset/sign_data/train/068/02_068.png', '/content/drive/MyDrive/Signature_Verification_Dataset/sign_data/train/068/12_068.png', '/content/drive/MyDrive/Signature_Verification_Dataset/sign_data/train/068/05_068.png', '/content/drive/MyDrive/Signature_Verification_Dataset/sign_data/train/068/09_068.png', '/content/drive/MyDrive/Signature_Verification_Dataset/sign_data/train/065/04_065.png', '/content/drive/MyDrive/Signature_Verification_Dataset/sign_data/train/065/03_065.png', '/content/drive/MyDrive/Signature_Verification_Dataset/sign_data/train/065/12_065.png', '/content/drive/MyDrive/Signature_Verification_Dataset/sign_data/train/065/07_065.png', '/content/drive/MyDrive/Signature_Verification_Dataset/sign_data/train/065/11_065.png', '/content/drive/MyDrive/Signature_Verification_Dataset/sign_data/train/065/05_065.png', '/content/drive/MyDrive/Signature_Verification_Dataset/sign_data/train/065/08_065.png', '/content/drive/MyDrive/Signature_Verification_Dataset/sign_data/train/065/10_065.png', '/content/drive/MyDrive/Signature_Verification_Dataset/sign_data/train/065/06_065.png', '/content/drive/MyDrive/Signature_Verification_Dataset/sign_data/train/065/01_065.png', '/content/drive/MyDrive/Signature_Verification_Dataset/sign_data/train/065/09_065.png', '/content/drive/MyDrive/Signature_Verification_Dataset/sign_data/train/065/02_065.png', '/content/drive/MyDrive/Signature_Verification_Dataset/sign_data/train/066/07_066.png', '/content/drive/MyDrive/Signature_Verification_Dataset/sign_data/train/066/04_066.png', '/content/drive/MyDrive/Signature_Verification_Dataset/sign_data/train/066/01_066.png', '/content/drive/MyDrive/Signature_Verification_Dataset/sign_data/train/066/08_066.png', '/content/drive/MyDrive/Signature_Verification_Dataset/sign_data/train/066/12_066.png', '/content/drive/MyDrive/Signature_Verification_Dataset/sign_data/train/066/06_066.png', '/content/drive/MyDrive/Signature_Verification_Dataset/sign_data/train/066/02_066.png', '/content/drive/MyDrive/Signature_Verification_Dataset/sign_data/train/066/05_066.png', '/content/drive/MyDrive/Signature_Verification_Dataset/sign_data/train/066/09_066.png', '/content/drive/MyDrive/Signature_Verification_Dataset/sign_data/train/066/11_066.png', '/content/drive/MyDrive/Signature_Verification_Dataset/sign_data/train/066/10_066.png', '/content/drive/MyDrive/Signature_Verification_Dataset/sign_data/train/066/03_066.png', '/content/drive/MyDrive/Signature_Verification_Dataset/sign_data/train/069/01_069.png', '/content/drive/MyDrive/Signature_Verification_Dataset/sign_data/train/069/07_069.png', '/content/drive/MyDrive/Signature_Verification_Dataset/sign_data/train/069/09_069.png', '/content/drive/MyDrive/Signature_Verification_Dataset/sign_data/train/069/02_069.png', '/content/drive/MyDrive/Signature_Verification_Dataset/sign_data/train/069/04_069.png', '/content/drive/MyDrive/Signature_Verification_Dataset/sign_data/train/069/03_069.png', '/content/drive/MyDrive/Signature_Verification_Dataset/sign_data/train/069/06_069.png', '/content/drive/MyDrive/Signature_Verification_Dataset/sign_data/train/069/11_069.png', '/content/drive/MyDrive/Signature_Verification_Dataset/sign_data/train/069/05_069.png', '/content/drive/MyDrive/Signature_Verification_Dataset/sign_data/train/069/08_069.png', '/content/drive/MyDrive/Signature_Verification_Dataset/sign_data/train/069/12_069.png', '/content/drive/MyDrive/Signature_Verification_Dataset/sign_data/train/069/10_069.png']\n",
            "['/content/drive/MyDrive/Signature_Verification_Dataset/sign_data/train/001_forg/0201001_01.png', '/content/drive/MyDrive/Signature_Verification_Dataset/sign_data/train/001_forg/0119001_02.png', '/content/drive/MyDrive/Signature_Verification_Dataset/sign_data/train/001_forg/0201001_04.png', '/content/drive/MyDrive/Signature_Verification_Dataset/sign_data/train/001_forg/0119001_03.png', '/content/drive/MyDrive/Signature_Verification_Dataset/sign_data/train/001_forg/0119001_01.png', '/content/drive/MyDrive/Signature_Verification_Dataset/sign_data/train/001_forg/0201001_02.png', '/content/drive/MyDrive/Signature_Verification_Dataset/sign_data/train/001_forg/0201001_03.png', '/content/drive/MyDrive/Signature_Verification_Dataset/sign_data/train/001_forg/0119001_04.png', '/content/drive/MyDrive/Signature_Verification_Dataset/sign_data/train/002_forg/0110002_04.png', '/content/drive/MyDrive/Signature_Verification_Dataset/sign_data/train/002_forg/0108002_04.png', '/content/drive/MyDrive/Signature_Verification_Dataset/sign_data/train/002_forg/0118002_01.png', '/content/drive/MyDrive/Signature_Verification_Dataset/sign_data/train/002_forg/0108002_03.png', '/content/drive/MyDrive/Signature_Verification_Dataset/sign_data/train/002_forg/0118002_02.png', '/content/drive/MyDrive/Signature_Verification_Dataset/sign_data/train/002_forg/0110002_03.png', '/content/drive/MyDrive/Signature_Verification_Dataset/sign_data/train/002_forg/0110002_01.png', '/content/drive/MyDrive/Signature_Verification_Dataset/sign_data/train/002_forg/0110002_02.png', '/content/drive/MyDrive/Signature_Verification_Dataset/sign_data/train/002_forg/0108002_02.png', '/content/drive/MyDrive/Signature_Verification_Dataset/sign_data/train/002_forg/0108002_01.png', '/content/drive/MyDrive/Signature_Verification_Dataset/sign_data/train/002_forg/0118002_04.png', '/content/drive/MyDrive/Signature_Verification_Dataset/sign_data/train/002_forg/0118002_03.png', '/content/drive/MyDrive/Signature_Verification_Dataset/sign_data/train/003_forg/0121003_02.png', '/content/drive/MyDrive/Signature_Verification_Dataset/sign_data/train/003_forg/0126003_03.png', '/content/drive/MyDrive/Signature_Verification_Dataset/sign_data/train/003_forg/0206003_04.png', '/content/drive/MyDrive/Signature_Verification_Dataset/sign_data/train/003_forg/0126003_02.png', '/content/drive/MyDrive/Signature_Verification_Dataset/sign_data/train/003_forg/0121003_03.png', '/content/drive/MyDrive/Signature_Verification_Dataset/sign_data/train/003_forg/0206003_02.png', '/content/drive/MyDrive/Signature_Verification_Dataset/sign_data/train/003_forg/0126003_01.png', '/content/drive/MyDrive/Signature_Verification_Dataset/sign_data/train/003_forg/0206003_01.png', '/content/drive/MyDrive/Signature_Verification_Dataset/sign_data/train/003_forg/0206003_03.png', '/content/drive/MyDrive/Signature_Verification_Dataset/sign_data/train/003_forg/0126003_04.png', '/content/drive/MyDrive/Signature_Verification_Dataset/sign_data/train/003_forg/0121003_04.png', '/content/drive/MyDrive/Signature_Verification_Dataset/sign_data/train/003_forg/0121003_01.png', '/content/drive/MyDrive/Signature_Verification_Dataset/sign_data/train/006_forg/0111006_01.png', '/content/drive/MyDrive/Signature_Verification_Dataset/sign_data/train/006_forg/0205006_02.png', '/content/drive/MyDrive/Signature_Verification_Dataset/sign_data/train/006_forg/0205006_04.png', '/content/drive/MyDrive/Signature_Verification_Dataset/sign_data/train/006_forg/0202006_04.png', '/content/drive/MyDrive/Signature_Verification_Dataset/sign_data/train/006_forg/0111006_02.png', '/content/drive/MyDrive/Signature_Verification_Dataset/sign_data/train/006_forg/0205006_01.png', '/content/drive/MyDrive/Signature_Verification_Dataset/sign_data/train/006_forg/0111006_03.png', '/content/drive/MyDrive/Signature_Verification_Dataset/sign_data/train/006_forg/0202006_02.png', '/content/drive/MyDrive/Signature_Verification_Dataset/sign_data/train/006_forg/0205006_03.png', '/content/drive/MyDrive/Signature_Verification_Dataset/sign_data/train/006_forg/0111006_04.png', '/content/drive/MyDrive/Signature_Verification_Dataset/sign_data/train/006_forg/0202006_01.png', '/content/drive/MyDrive/Signature_Verification_Dataset/sign_data/train/006_forg/0202006_03.png', '/content/drive/MyDrive/Signature_Verification_Dataset/sign_data/train/004_forg/0124004_04.png', '/content/drive/MyDrive/Signature_Verification_Dataset/sign_data/train/004_forg/0103004_04.png', '/content/drive/MyDrive/Signature_Verification_Dataset/sign_data/train/004_forg/0103004_03.png', '/content/drive/MyDrive/Signature_Verification_Dataset/sign_data/train/004_forg/0124004_03.png', '/content/drive/MyDrive/Signature_Verification_Dataset/sign_data/train/004_forg/0103004_02.png', '/content/drive/MyDrive/Signature_Verification_Dataset/sign_data/train/004_forg/0105004_04.png', '/content/drive/MyDrive/Signature_Verification_Dataset/sign_data/train/004_forg/0124004_01.png', '/content/drive/MyDrive/Signature_Verification_Dataset/sign_data/train/004_forg/0105004_01.png', '/content/drive/MyDrive/Signature_Verification_Dataset/sign_data/train/004_forg/0105004_02.png', '/content/drive/MyDrive/Signature_Verification_Dataset/sign_data/train/004_forg/0124004_02.png', '/content/drive/MyDrive/Signature_Verification_Dataset/sign_data/train/004_forg/0105004_03.png', '/content/drive/MyDrive/Signature_Verification_Dataset/sign_data/train/012_forg/0113012_04.png', '/content/drive/MyDrive/Signature_Verification_Dataset/sign_data/train/012_forg/0113012_02.png', '/content/drive/MyDrive/Signature_Verification_Dataset/sign_data/train/012_forg/0206012_04.png', '/content/drive/MyDrive/Signature_Verification_Dataset/sign_data/train/012_forg/0210012_03.png', '/content/drive/MyDrive/Signature_Verification_Dataset/sign_data/train/012_forg/0210012_01.png', '/content/drive/MyDrive/Signature_Verification_Dataset/sign_data/train/012_forg/0210012_02.png', '/content/drive/MyDrive/Signature_Verification_Dataset/sign_data/train/012_forg/0113012_01.png', '/content/drive/MyDrive/Signature_Verification_Dataset/sign_data/train/012_forg/0206012_01.png', '/content/drive/MyDrive/Signature_Verification_Dataset/sign_data/train/012_forg/0210012_04.png', '/content/drive/MyDrive/Signature_Verification_Dataset/sign_data/train/012_forg/0206012_03.png', '/content/drive/MyDrive/Signature_Verification_Dataset/sign_data/train/012_forg/0206012_02.png', '/content/drive/MyDrive/Signature_Verification_Dataset/sign_data/train/012_forg/0113012_03.png', '/content/drive/MyDrive/Signature_Verification_Dataset/sign_data/train/009_forg/0201009_02.png', '/content/drive/MyDrive/Signature_Verification_Dataset/sign_data/train/009_forg/0117009_01.png', '/content/drive/MyDrive/Signature_Verification_Dataset/sign_data/train/009_forg/0123009_03.png', '/content/drive/MyDrive/Signature_Verification_Dataset/sign_data/train/009_forg/0117009_03.png', '/content/drive/MyDrive/Signature_Verification_Dataset/sign_data/train/009_forg/0123009_04.png', '/content/drive/MyDrive/Signature_Verification_Dataset/sign_data/train/009_forg/0123009_02.png', '/content/drive/MyDrive/Signature_Verification_Dataset/sign_data/train/009_forg/0117009_02.png', '/content/drive/MyDrive/Signature_Verification_Dataset/sign_data/train/009_forg/0201009_03.png', '/content/drive/MyDrive/Signature_Verification_Dataset/sign_data/train/009_forg/0201009_01.png', '/content/drive/MyDrive/Signature_Verification_Dataset/sign_data/train/009_forg/0201009_04.png', '/content/drive/MyDrive/Signature_Verification_Dataset/sign_data/train/009_forg/0117009_04.png', '/content/drive/MyDrive/Signature_Verification_Dataset/sign_data/train/009_forg/0123009_01.png', '/content/drive/MyDrive/Signature_Verification_Dataset/sign_data/train/013_forg/02_0204013.PNG', '/content/drive/MyDrive/Signature_Verification_Dataset/sign_data/train/013_forg/04_0113013.PNG', '/content/drive/MyDrive/Signature_Verification_Dataset/sign_data/train/013_forg/04_0203013.PNG', '/content/drive/MyDrive/Signature_Verification_Dataset/sign_data/train/013_forg/03_0113013.PNG', '/content/drive/MyDrive/Signature_Verification_Dataset/sign_data/train/013_forg/01_0204013.PNG', '/content/drive/MyDrive/Signature_Verification_Dataset/sign_data/train/013_forg/02_0113013.PNG', '/content/drive/MyDrive/Signature_Verification_Dataset/sign_data/train/013_forg/04_0204013.PNG', '/content/drive/MyDrive/Signature_Verification_Dataset/sign_data/train/013_forg/03_0204013.PNG', '/content/drive/MyDrive/Signature_Verification_Dataset/sign_data/train/013_forg/03_0203013.PNG', '/content/drive/MyDrive/Signature_Verification_Dataset/sign_data/train/013_forg/01_0203013.PNG', '/content/drive/MyDrive/Signature_Verification_Dataset/sign_data/train/013_forg/02_0203013.PNG', '/content/drive/MyDrive/Signature_Verification_Dataset/sign_data/train/013_forg/01_0113013.PNG', '/content/drive/MyDrive/Signature_Verification_Dataset/sign_data/train/015_forg/0210015_03.png', '/content/drive/MyDrive/Signature_Verification_Dataset/sign_data/train/015_forg/0106015_01.png', '/content/drive/MyDrive/Signature_Verification_Dataset/sign_data/train/015_forg/0210015_01.png', '/content/drive/MyDrive/Signature_Verification_Dataset/sign_data/train/015_forg/0213015_04.png', '/content/drive/MyDrive/Signature_Verification_Dataset/sign_data/train/015_forg/0106015_04.png', '/content/drive/MyDrive/Signature_Verification_Dataset/sign_data/train/015_forg/0213015_02.png', '/content/drive/MyDrive/Signature_Verification_Dataset/sign_data/train/015_forg/0213015_01.png', '/content/drive/MyDrive/Signature_Verification_Dataset/sign_data/train/015_forg/0213015_03.png', '/content/drive/MyDrive/Signature_Verification_Dataset/sign_data/train/015_forg/0210015_04.png', '/content/drive/MyDrive/Signature_Verification_Dataset/sign_data/train/015_forg/0106015_03.png', '/content/drive/MyDrive/Signature_Verification_Dataset/sign_data/train/015_forg/0210015_02.png', '/content/drive/MyDrive/Signature_Verification_Dataset/sign_data/train/015_forg/0106015_02.png', '/content/drive/MyDrive/Signature_Verification_Dataset/sign_data/train/017_forg/03_0107017.PNG', '/content/drive/MyDrive/Signature_Verification_Dataset/sign_data/train/017_forg/01_0211017.PNG', '/content/drive/MyDrive/Signature_Verification_Dataset/sign_data/train/017_forg/03_0211017.PNG', '/content/drive/MyDrive/Signature_Verification_Dataset/sign_data/train/017_forg/01_0124017.PNG', '/content/drive/MyDrive/Signature_Verification_Dataset/sign_data/train/017_forg/02_0211017.PNG', '/content/drive/MyDrive/Signature_Verification_Dataset/sign_data/train/017_forg/01_0107017.PNG', '/content/drive/MyDrive/Signature_Verification_Dataset/sign_data/train/017_forg/03_0124017.PNG', '/content/drive/MyDrive/Signature_Verification_Dataset/sign_data/train/017_forg/02_0124017.PNG', '/content/drive/MyDrive/Signature_Verification_Dataset/sign_data/train/017_forg/04_0107017.PNG', '/content/drive/MyDrive/Signature_Verification_Dataset/sign_data/train/017_forg/04_0124017.PNG', '/content/drive/MyDrive/Signature_Verification_Dataset/sign_data/train/017_forg/02_0107017.PNG', '/content/drive/MyDrive/Signature_Verification_Dataset/sign_data/train/017_forg/04_0211017.PNG', '/content/drive/MyDrive/Signature_Verification_Dataset/sign_data/train/016_forg/0202016_03.png', '/content/drive/MyDrive/Signature_Verification_Dataset/sign_data/train/016_forg/0107016_04.png', '/content/drive/MyDrive/Signature_Verification_Dataset/sign_data/train/016_forg/0202016_02.png', '/content/drive/MyDrive/Signature_Verification_Dataset/sign_data/train/016_forg/0110016_01.png', '/content/drive/MyDrive/Signature_Verification_Dataset/sign_data/train/016_forg/0107016_02.png', '/content/drive/MyDrive/Signature_Verification_Dataset/sign_data/train/016_forg/0110016_03.png', '/content/drive/MyDrive/Signature_Verification_Dataset/sign_data/train/016_forg/0107016_01.png', '/content/drive/MyDrive/Signature_Verification_Dataset/sign_data/train/016_forg/0127016_03.png', '/content/drive/MyDrive/Signature_Verification_Dataset/sign_data/train/016_forg/0107016_03.png', '/content/drive/MyDrive/Signature_Verification_Dataset/sign_data/train/016_forg/0202016_01.png', '/content/drive/MyDrive/Signature_Verification_Dataset/sign_data/train/016_forg/0110016_04.png', '/content/drive/MyDrive/Signature_Verification_Dataset/sign_data/train/016_forg/0127016_02.png', '/content/drive/MyDrive/Signature_Verification_Dataset/sign_data/train/016_forg/0202016_04.png', '/content/drive/MyDrive/Signature_Verification_Dataset/sign_data/train/016_forg/0127016_01.png', '/content/drive/MyDrive/Signature_Verification_Dataset/sign_data/train/016_forg/0110016_02.png', '/content/drive/MyDrive/Signature_Verification_Dataset/sign_data/train/016_forg/0127016_04.png', '/content/drive/MyDrive/Signature_Verification_Dataset/sign_data/train/014_forg/0102014_03.png', '/content/drive/MyDrive/Signature_Verification_Dataset/sign_data/train/014_forg/0214014_04.png', '/content/drive/MyDrive/Signature_Verification_Dataset/sign_data/train/014_forg/0208014_01.png', '/content/drive/MyDrive/Signature_Verification_Dataset/sign_data/train/014_forg/0102014_01.png', '/content/drive/MyDrive/Signature_Verification_Dataset/sign_data/train/014_forg/0208014_03.png', '/content/drive/MyDrive/Signature_Verification_Dataset/sign_data/train/014_forg/0214014_02.png', '/content/drive/MyDrive/Signature_Verification_Dataset/sign_data/train/014_forg/0102014_02.png', '/content/drive/MyDrive/Signature_Verification_Dataset/sign_data/train/014_forg/0104014_03.png', '/content/drive/MyDrive/Signature_Verification_Dataset/sign_data/train/014_forg/0214014_03.png', '/content/drive/MyDrive/Signature_Verification_Dataset/sign_data/train/014_forg/0208014_02.png', '/content/drive/MyDrive/Signature_Verification_Dataset/sign_data/train/014_forg/0208014_04.png', '/content/drive/MyDrive/Signature_Verification_Dataset/sign_data/train/014_forg/0102014_04.png', '/content/drive/MyDrive/Signature_Verification_Dataset/sign_data/train/014_forg/0104014_02.png', '/content/drive/MyDrive/Signature_Verification_Dataset/sign_data/train/014_forg/0104014_04.png', '/content/drive/MyDrive/Signature_Verification_Dataset/sign_data/train/014_forg/0104014_01.png', '/content/drive/MyDrive/Signature_Verification_Dataset/sign_data/train/014_forg/0214014_01.png', '/content/drive/MyDrive/Signature_Verification_Dataset/sign_data/train/018_forg/02_0202018.PNG', '/content/drive/MyDrive/Signature_Verification_Dataset/sign_data/train/018_forg/03_0112018.PNG', '/content/drive/MyDrive/Signature_Verification_Dataset/sign_data/train/018_forg/01_0112018.PNG', '/content/drive/MyDrive/Signature_Verification_Dataset/sign_data/train/018_forg/01_0202018.PNG', '/content/drive/MyDrive/Signature_Verification_Dataset/sign_data/train/018_forg/04_0202018.PNG', '/content/drive/MyDrive/Signature_Verification_Dataset/sign_data/train/018_forg/04_0112018.PNG', '/content/drive/MyDrive/Signature_Verification_Dataset/sign_data/train/018_forg/04_0106018.PNG', '/content/drive/MyDrive/Signature_Verification_Dataset/sign_data/train/018_forg/03_0106018.PNG', '/content/drive/MyDrive/Signature_Verification_Dataset/sign_data/train/018_forg/02_0112018.PNG', '/content/drive/MyDrive/Signature_Verification_Dataset/sign_data/train/018_forg/03_0202018.PNG', '/content/drive/MyDrive/Signature_Verification_Dataset/sign_data/train/018_forg/01_0106018.PNG', '/content/drive/MyDrive/Signature_Verification_Dataset/sign_data/train/018_forg/02_0106018.PNG', '/content/drive/MyDrive/Signature_Verification_Dataset/sign_data/train/021_forg/02_0204021.PNG', '/content/drive/MyDrive/Signature_Verification_Dataset/sign_data/train/021_forg/01_0204021.PNG', '/content/drive/MyDrive/Signature_Verification_Dataset/sign_data/train/021_forg/03_0211021.PNG', '/content/drive/MyDrive/Signature_Verification_Dataset/sign_data/train/021_forg/03_0204021.PNG', '/content/drive/MyDrive/Signature_Verification_Dataset/sign_data/train/021_forg/04_0211021.PNG', '/content/drive/MyDrive/Signature_Verification_Dataset/sign_data/train/021_forg/04_0204021.PNG', '/content/drive/MyDrive/Signature_Verification_Dataset/sign_data/train/021_forg/01_0211021.PNG', '/content/drive/MyDrive/Signature_Verification_Dataset/sign_data/train/021_forg/03_0110021.PNG', '/content/drive/MyDrive/Signature_Verification_Dataset/sign_data/train/021_forg/01_0110021.PNG', '/content/drive/MyDrive/Signature_Verification_Dataset/sign_data/train/021_forg/02_0211021.PNG', '/content/drive/MyDrive/Signature_Verification_Dataset/sign_data/train/021_forg/02_0110021.PNG', '/content/drive/MyDrive/Signature_Verification_Dataset/sign_data/train/021_forg/04_0110021.PNG', '/content/drive/MyDrive/Signature_Verification_Dataset/sign_data/train/019_forg/03_0116019.PNG', '/content/drive/MyDrive/Signature_Verification_Dataset/sign_data/train/019_forg/04_0116019.PNG', '/content/drive/MyDrive/Signature_Verification_Dataset/sign_data/train/019_forg/01_0115019.PNG', '/content/drive/MyDrive/Signature_Verification_Dataset/sign_data/train/019_forg/04_0119019.PNG', '/content/drive/MyDrive/Signature_Verification_Dataset/sign_data/train/019_forg/01_0119019.PNG', '/content/drive/MyDrive/Signature_Verification_Dataset/sign_data/train/019_forg/04_0115019.PNG', '/content/drive/MyDrive/Signature_Verification_Dataset/sign_data/train/019_forg/02_0116019.PNG', '/content/drive/MyDrive/Signature_Verification_Dataset/sign_data/train/019_forg/02_0115019.PNG', '/content/drive/MyDrive/Signature_Verification_Dataset/sign_data/train/019_forg/03_0119019.PNG', '/content/drive/MyDrive/Signature_Verification_Dataset/sign_data/train/019_forg/01_0116019.PNG', '/content/drive/MyDrive/Signature_Verification_Dataset/sign_data/train/019_forg/02_0119019.PNG', '/content/drive/MyDrive/Signature_Verification_Dataset/sign_data/train/019_forg/03_0115019.PNG', '/content/drive/MyDrive/Signature_Verification_Dataset/sign_data/train/022_forg/02_0127022.PNG', '/content/drive/MyDrive/Signature_Verification_Dataset/sign_data/train/022_forg/03_0125022.PNG', '/content/drive/MyDrive/Signature_Verification_Dataset/sign_data/train/022_forg/01_0208022.PNG', '/content/drive/MyDrive/Signature_Verification_Dataset/sign_data/train/022_forg/01_0214022.PNG', '/content/drive/MyDrive/Signature_Verification_Dataset/sign_data/train/022_forg/01_0125022.PNG', '/content/drive/MyDrive/Signature_Verification_Dataset/sign_data/train/022_forg/04_0125022.PNG', '/content/drive/MyDrive/Signature_Verification_Dataset/sign_data/train/022_forg/02_0208022.PNG', '/content/drive/MyDrive/Signature_Verification_Dataset/sign_data/train/022_forg/01_0127022.PNG', '/content/drive/MyDrive/Signature_Verification_Dataset/sign_data/train/022_forg/04_0127022.PNG', '/content/drive/MyDrive/Signature_Verification_Dataset/sign_data/train/022_forg/02_0125022.PNG', '/content/drive/MyDrive/Signature_Verification_Dataset/sign_data/train/022_forg/03_0208022.PNG', '/content/drive/MyDrive/Signature_Verification_Dataset/sign_data/train/022_forg/04_0214022.PNG', '/content/drive/MyDrive/Signature_Verification_Dataset/sign_data/train/022_forg/03_0214022.PNG', '/content/drive/MyDrive/Signature_Verification_Dataset/sign_data/train/022_forg/02_0214022.PNG', '/content/drive/MyDrive/Signature_Verification_Dataset/sign_data/train/022_forg/04_0208022.PNG', '/content/drive/MyDrive/Signature_Verification_Dataset/sign_data/train/022_forg/03_0127022.PNG', '/content/drive/MyDrive/Signature_Verification_Dataset/sign_data/train/020_forg/04_0127020.PNG', '/content/drive/MyDrive/Signature_Verification_Dataset/sign_data/train/020_forg/04_0117020.PNG', '/content/drive/MyDrive/Signature_Verification_Dataset/sign_data/train/020_forg/03_0101020.PNG', '/content/drive/MyDrive/Signature_Verification_Dataset/sign_data/train/020_forg/04_0213020.PNG', '/content/drive/MyDrive/Signature_Verification_Dataset/sign_data/train/020_forg/03_0117020.PNG', '/content/drive/MyDrive/Signature_Verification_Dataset/sign_data/train/020_forg/02_0213020.PNG', '/content/drive/MyDrive/Signature_Verification_Dataset/sign_data/train/020_forg/04_0105020.PNG', '/content/drive/MyDrive/Signature_Verification_Dataset/sign_data/train/020_forg/02_0105020.PNG', '/content/drive/MyDrive/Signature_Verification_Dataset/sign_data/train/020_forg/01_0117020.PNG', '/content/drive/MyDrive/Signature_Verification_Dataset/sign_data/train/020_forg/02_0117020.PNG', '/content/drive/MyDrive/Signature_Verification_Dataset/sign_data/train/020_forg/03_0105020.PNG', '/content/drive/MyDrive/Signature_Verification_Dataset/sign_data/train/020_forg/01_0127020.PNG', '/content/drive/MyDrive/Signature_Verification_Dataset/sign_data/train/020_forg/04_0101020.PNG', '/content/drive/MyDrive/Signature_Verification_Dataset/sign_data/train/020_forg/02_0101020.PNG', '/content/drive/MyDrive/Signature_Verification_Dataset/sign_data/train/020_forg/02_0127020.PNG', '/content/drive/MyDrive/Signature_Verification_Dataset/sign_data/train/020_forg/03_0213020.PNG', '/content/drive/MyDrive/Signature_Verification_Dataset/sign_data/train/020_forg/01_0213020.PNG', '/content/drive/MyDrive/Signature_Verification_Dataset/sign_data/train/020_forg/01_0105020.PNG', '/content/drive/MyDrive/Signature_Verification_Dataset/sign_data/train/020_forg/03_0127020.PNG', '/content/drive/MyDrive/Signature_Verification_Dataset/sign_data/train/023_forg/03_0203023.PNG', '/content/drive/MyDrive/Signature_Verification_Dataset/sign_data/train/023_forg/04_0126023.PNG', '/content/drive/MyDrive/Signature_Verification_Dataset/sign_data/train/023_forg/04_0203023.PNG', '/content/drive/MyDrive/Signature_Verification_Dataset/sign_data/train/023_forg/01_0126023.PNG', '/content/drive/MyDrive/Signature_Verification_Dataset/sign_data/train/023_forg/01_0203023.PNG', '/content/drive/MyDrive/Signature_Verification_Dataset/sign_data/train/023_forg/03_0126023.PNG', '/content/drive/MyDrive/Signature_Verification_Dataset/sign_data/train/023_forg/02_0126023.PNG', '/content/drive/MyDrive/Signature_Verification_Dataset/sign_data/train/023_forg/02_0203023.PNG', '/content/drive/MyDrive/Signature_Verification_Dataset/sign_data/train/025_forg/01_0116025.PNG', '/content/drive/MyDrive/Signature_Verification_Dataset/sign_data/train/025_forg/04_0116025.PNG', '/content/drive/MyDrive/Signature_Verification_Dataset/sign_data/train/025_forg/03_0116025.PNG', '/content/drive/MyDrive/Signature_Verification_Dataset/sign_data/train/025_forg/02_0116025.PNG', '/content/drive/MyDrive/Signature_Verification_Dataset/sign_data/train/025_forg/02_0121025.PNG', '/content/drive/MyDrive/Signature_Verification_Dataset/sign_data/train/025_forg/04_0121025.PNG', '/content/drive/MyDrive/Signature_Verification_Dataset/sign_data/train/025_forg/01_0121025.PNG', '/content/drive/MyDrive/Signature_Verification_Dataset/sign_data/train/025_forg/03_0121025.PNG', '/content/drive/MyDrive/Signature_Verification_Dataset/sign_data/train/024_forg/01_0119024.PNG', '/content/drive/MyDrive/Signature_Verification_Dataset/sign_data/train/024_forg/02_0102024.PNG', '/content/drive/MyDrive/Signature_Verification_Dataset/sign_data/train/024_forg/01_0102024.PNG', '/content/drive/MyDrive/Signature_Verification_Dataset/sign_data/train/024_forg/02_0120024.PNG', '/content/drive/MyDrive/Signature_Verification_Dataset/sign_data/train/024_forg/02_0119024.PNG', '/content/drive/MyDrive/Signature_Verification_Dataset/sign_data/train/024_forg/01_0120024.PNG', '/content/drive/MyDrive/Signature_Verification_Dataset/sign_data/train/024_forg/04_0119024.PNG', '/content/drive/MyDrive/Signature_Verification_Dataset/sign_data/train/024_forg/03_0120024.PNG', '/content/drive/MyDrive/Signature_Verification_Dataset/sign_data/train/024_forg/03_0119024.PNG', '/content/drive/MyDrive/Signature_Verification_Dataset/sign_data/train/024_forg/03_0102024.PNG', '/content/drive/MyDrive/Signature_Verification_Dataset/sign_data/train/024_forg/04_0120024.PNG', '/content/drive/MyDrive/Signature_Verification_Dataset/sign_data/train/024_forg/04_0102024.PNG', '/content/drive/MyDrive/Signature_Verification_Dataset/sign_data/train/027_forg/04_0101027.PNG', '/content/drive/MyDrive/Signature_Verification_Dataset/sign_data/train/027_forg/01_0101027.PNG', '/content/drive/MyDrive/Signature_Verification_Dataset/sign_data/train/027_forg/04_0212027.PNG', '/content/drive/MyDrive/Signature_Verification_Dataset/sign_data/train/027_forg/03_0101027.PNG', '/content/drive/MyDrive/Signature_Verification_Dataset/sign_data/train/027_forg/03_0212027.PNG', '/content/drive/MyDrive/Signature_Verification_Dataset/sign_data/train/027_forg/01_0212027.PNG', '/content/drive/MyDrive/Signature_Verification_Dataset/sign_data/train/027_forg/02_0101027.PNG', '/content/drive/MyDrive/Signature_Verification_Dataset/sign_data/train/027_forg/02_0212027.PNG', '/content/drive/MyDrive/Signature_Verification_Dataset/sign_data/train/026_forg/04_0119026.PNG', '/content/drive/MyDrive/Signature_Verification_Dataset/sign_data/train/026_forg/03_0123026.PNG', '/content/drive/MyDrive/Signature_Verification_Dataset/sign_data/train/026_forg/01_0119026.PNG', '/content/drive/MyDrive/Signature_Verification_Dataset/sign_data/train/026_forg/04_0125026.PNG', '/content/drive/MyDrive/Signature_Verification_Dataset/sign_data/train/026_forg/02_0125026.PNG', '/content/drive/MyDrive/Signature_Verification_Dataset/sign_data/train/026_forg/03_0125026.PNG', '/content/drive/MyDrive/Signature_Verification_Dataset/sign_data/train/026_forg/01_0123026.PNG', '/content/drive/MyDrive/Signature_Verification_Dataset/sign_data/train/026_forg/03_0119026.PNG', '/content/drive/MyDrive/Signature_Verification_Dataset/sign_data/train/026_forg/02_0119026.PNG', '/content/drive/MyDrive/Signature_Verification_Dataset/sign_data/train/026_forg/01_0125026.PNG', '/content/drive/MyDrive/Signature_Verification_Dataset/sign_data/train/026_forg/02_0123026.PNG', '/content/drive/MyDrive/Signature_Verification_Dataset/sign_data/train/026_forg/04_0123026.PNG', '/content/drive/MyDrive/Signature_Verification_Dataset/sign_data/train/028_forg/03_0212028.PNG', '/content/drive/MyDrive/Signature_Verification_Dataset/sign_data/train/028_forg/04_0205028.PNG', '/content/drive/MyDrive/Signature_Verification_Dataset/sign_data/train/028_forg/03_0205028.PNG', '/content/drive/MyDrive/Signature_Verification_Dataset/sign_data/train/028_forg/02_0212028.PNG', '/content/drive/MyDrive/Signature_Verification_Dataset/sign_data/train/028_forg/01_0126028.PNG', '/content/drive/MyDrive/Signature_Verification_Dataset/sign_data/train/028_forg/03_0126028.PNG', '/content/drive/MyDrive/Signature_Verification_Dataset/sign_data/train/028_forg/02_0205028.PNG', '/content/drive/MyDrive/Signature_Verification_Dataset/sign_data/train/028_forg/02_0126028.PNG', '/content/drive/MyDrive/Signature_Verification_Dataset/sign_data/train/028_forg/04_0126028.PNG', '/content/drive/MyDrive/Signature_Verification_Dataset/sign_data/train/028_forg/04_0212028.PNG', '/content/drive/MyDrive/Signature_Verification_Dataset/sign_data/train/028_forg/01_0205028.PNG', '/content/drive/MyDrive/Signature_Verification_Dataset/sign_data/train/028_forg/01_0212028.PNG', '/content/drive/MyDrive/Signature_Verification_Dataset/sign_data/train/029_forg/03_0115029.PNG', '/content/drive/MyDrive/Signature_Verification_Dataset/sign_data/train/029_forg/02_0115029.PNG', '/content/drive/MyDrive/Signature_Verification_Dataset/sign_data/train/029_forg/01_0203029.PNG', '/content/drive/MyDrive/Signature_Verification_Dataset/sign_data/train/029_forg/03_0104029.PNG', '/content/drive/MyDrive/Signature_Verification_Dataset/sign_data/train/029_forg/03_0203029.PNG', '/content/drive/MyDrive/Signature_Verification_Dataset/sign_data/train/029_forg/01_0115029.PNG', '/content/drive/MyDrive/Signature_Verification_Dataset/sign_data/train/029_forg/01_0104029.PNG', '/content/drive/MyDrive/Signature_Verification_Dataset/sign_data/train/029_forg/02_0203029.PNG', '/content/drive/MyDrive/Signature_Verification_Dataset/sign_data/train/029_forg/02_0104029.PNG', '/content/drive/MyDrive/Signature_Verification_Dataset/sign_data/train/029_forg/04_0104029.PNG', '/content/drive/MyDrive/Signature_Verification_Dataset/sign_data/train/029_forg/04_0203029.PNG', '/content/drive/MyDrive/Signature_Verification_Dataset/sign_data/train/029_forg/04_0115029.PNG', '/content/drive/MyDrive/Signature_Verification_Dataset/sign_data/train/030_forg/02_0213030.PNG', '/content/drive/MyDrive/Signature_Verification_Dataset/sign_data/train/030_forg/03_0114030.PNG', '/content/drive/MyDrive/Signature_Verification_Dataset/sign_data/train/030_forg/01_0109030.PNG', '/content/drive/MyDrive/Signature_Verification_Dataset/sign_data/train/030_forg/02_0109030.PNG', '/content/drive/MyDrive/Signature_Verification_Dataset/sign_data/train/030_forg/04_0109030.PNG', '/content/drive/MyDrive/Signature_Verification_Dataset/sign_data/train/030_forg/04_0213030.PNG', '/content/drive/MyDrive/Signature_Verification_Dataset/sign_data/train/030_forg/01_0114030.PNG', '/content/drive/MyDrive/Signature_Verification_Dataset/sign_data/train/030_forg/03_0213030.PNG', '/content/drive/MyDrive/Signature_Verification_Dataset/sign_data/train/030_forg/04_0114030.PNG', '/content/drive/MyDrive/Signature_Verification_Dataset/sign_data/train/030_forg/02_0114030.PNG', '/content/drive/MyDrive/Signature_Verification_Dataset/sign_data/train/030_forg/01_0213030.PNG', '/content/drive/MyDrive/Signature_Verification_Dataset/sign_data/train/030_forg/03_0109030.PNG', '/content/drive/MyDrive/Signature_Verification_Dataset/sign_data/train/031_forg/04_0103031.PNG', '/content/drive/MyDrive/Signature_Verification_Dataset/sign_data/train/031_forg/01_0103031.PNG', '/content/drive/MyDrive/Signature_Verification_Dataset/sign_data/train/031_forg/04_0121031.PNG', '/content/drive/MyDrive/Signature_Verification_Dataset/sign_data/train/031_forg/02_0121031.PNG', '/content/drive/MyDrive/Signature_Verification_Dataset/sign_data/train/031_forg/03_0103031.PNG', '/content/drive/MyDrive/Signature_Verification_Dataset/sign_data/train/031_forg/02_0103031.PNG', '/content/drive/MyDrive/Signature_Verification_Dataset/sign_data/train/031_forg/03_0121031.PNG', '/content/drive/MyDrive/Signature_Verification_Dataset/sign_data/train/031_forg/01_0121031.PNG', '/content/drive/MyDrive/Signature_Verification_Dataset/sign_data/train/032_forg/01_0112032.PNG', '/content/drive/MyDrive/Signature_Verification_Dataset/sign_data/train/032_forg/02_0112032.PNG', '/content/drive/MyDrive/Signature_Verification_Dataset/sign_data/train/032_forg/02_0120032.PNG', '/content/drive/MyDrive/Signature_Verification_Dataset/sign_data/train/032_forg/04_0117032.PNG', '/content/drive/MyDrive/Signature_Verification_Dataset/sign_data/train/032_forg/04_0120032.PNG', '/content/drive/MyDrive/Signature_Verification_Dataset/sign_data/train/032_forg/03_0112032.PNG', '/content/drive/MyDrive/Signature_Verification_Dataset/sign_data/train/032_forg/03_0120032.PNG', '/content/drive/MyDrive/Signature_Verification_Dataset/sign_data/train/032_forg/01_0117032.PNG', '/content/drive/MyDrive/Signature_Verification_Dataset/sign_data/train/032_forg/01_0120032.PNG', '/content/drive/MyDrive/Signature_Verification_Dataset/sign_data/train/032_forg/03_0117032.PNG', '/content/drive/MyDrive/Signature_Verification_Dataset/sign_data/train/032_forg/04_0112032.PNG', '/content/drive/MyDrive/Signature_Verification_Dataset/sign_data/train/032_forg/02_0117032.PNG', '/content/drive/MyDrive/Signature_Verification_Dataset/sign_data/train/033_forg/02_0213033.PNG', '/content/drive/MyDrive/Signature_Verification_Dataset/sign_data/train/033_forg/04_0112033.PNG', '/content/drive/MyDrive/Signature_Verification_Dataset/sign_data/train/033_forg/02_0112033.PNG', '/content/drive/MyDrive/Signature_Verification_Dataset/sign_data/train/033_forg/02_0205033.PNG', '/content/drive/MyDrive/Signature_Verification_Dataset/sign_data/train/033_forg/04_0213033.PNG', '/content/drive/MyDrive/Signature_Verification_Dataset/sign_data/train/033_forg/04_0205033.PNG', '/content/drive/MyDrive/Signature_Verification_Dataset/sign_data/train/033_forg/03_0203033.PNG', '/content/drive/MyDrive/Signature_Verification_Dataset/sign_data/train/033_forg/03_0205033.PNG', '/content/drive/MyDrive/Signature_Verification_Dataset/sign_data/train/033_forg/02_0203033.PNG', '/content/drive/MyDrive/Signature_Verification_Dataset/sign_data/train/033_forg/01_0203033.PNG', '/content/drive/MyDrive/Signature_Verification_Dataset/sign_data/train/033_forg/03_0112033.PNG', '/content/drive/MyDrive/Signature_Verification_Dataset/sign_data/train/033_forg/01_0213033.PNG', '/content/drive/MyDrive/Signature_Verification_Dataset/sign_data/train/033_forg/04_0203033.PNG', '/content/drive/MyDrive/Signature_Verification_Dataset/sign_data/train/033_forg/01_0112033.PNG', '/content/drive/MyDrive/Signature_Verification_Dataset/sign_data/train/033_forg/03_0213033.PNG', '/content/drive/MyDrive/Signature_Verification_Dataset/sign_data/train/033_forg/01_0205033.PNG', '/content/drive/MyDrive/Signature_Verification_Dataset/sign_data/train/036_forg/03_0118036.PNG', '/content/drive/MyDrive/Signature_Verification_Dataset/sign_data/train/036_forg/01_0118036.PNG', '/content/drive/MyDrive/Signature_Verification_Dataset/sign_data/train/036_forg/04_0118036.PNG', '/content/drive/MyDrive/Signature_Verification_Dataset/sign_data/train/036_forg/01_0123036.PNG', '/content/drive/MyDrive/Signature_Verification_Dataset/sign_data/train/036_forg/04_0123036.PNG', '/content/drive/MyDrive/Signature_Verification_Dataset/sign_data/train/036_forg/04_0109036.PNG', '/content/drive/MyDrive/Signature_Verification_Dataset/sign_data/train/036_forg/02_0118036.PNG', '/content/drive/MyDrive/Signature_Verification_Dataset/sign_data/train/036_forg/02_0109036.PNG', '/content/drive/MyDrive/Signature_Verification_Dataset/sign_data/train/036_forg/03_0123036.PNG', '/content/drive/MyDrive/Signature_Verification_Dataset/sign_data/train/036_forg/03_0109036.PNG', '/content/drive/MyDrive/Signature_Verification_Dataset/sign_data/train/036_forg/02_0123036.PNG', '/content/drive/MyDrive/Signature_Verification_Dataset/sign_data/train/036_forg/01_0109036.PNG', '/content/drive/MyDrive/Signature_Verification_Dataset/sign_data/train/037_forg/04_0208037.PNG', '/content/drive/MyDrive/Signature_Verification_Dataset/sign_data/train/037_forg/01_0214037.PNG', '/content/drive/MyDrive/Signature_Verification_Dataset/sign_data/train/037_forg/02_0114037.PNG', '/content/drive/MyDrive/Signature_Verification_Dataset/sign_data/train/037_forg/04_0214037.PNG', '/content/drive/MyDrive/Signature_Verification_Dataset/sign_data/train/037_forg/02_0208037.PNG', '/content/drive/MyDrive/Signature_Verification_Dataset/sign_data/train/037_forg/02_0214037.PNG', '/content/drive/MyDrive/Signature_Verification_Dataset/sign_data/train/037_forg/02_0123037.PNG', '/content/drive/MyDrive/Signature_Verification_Dataset/sign_data/train/037_forg/03_0123037.PNG', '/content/drive/MyDrive/Signature_Verification_Dataset/sign_data/train/037_forg/04_0114037.PNG', '/content/drive/MyDrive/Signature_Verification_Dataset/sign_data/train/037_forg/01_0208037.PNG', '/content/drive/MyDrive/Signature_Verification_Dataset/sign_data/train/037_forg/01_0114037.PNG', '/content/drive/MyDrive/Signature_Verification_Dataset/sign_data/train/037_forg/04_0123037.PNG', '/content/drive/MyDrive/Signature_Verification_Dataset/sign_data/train/037_forg/03_0214037.PNG', '/content/drive/MyDrive/Signature_Verification_Dataset/sign_data/train/037_forg/01_0123037.PNG', '/content/drive/MyDrive/Signature_Verification_Dataset/sign_data/train/037_forg/03_0114037.PNG', '/content/drive/MyDrive/Signature_Verification_Dataset/sign_data/train/037_forg/03_0208037.PNG', '/content/drive/MyDrive/Signature_Verification_Dataset/sign_data/train/035_forg/02_0201035.PNG', '/content/drive/MyDrive/Signature_Verification_Dataset/sign_data/train/035_forg/04_0201035.PNG', '/content/drive/MyDrive/Signature_Verification_Dataset/sign_data/train/035_forg/03_0103035.PNG', '/content/drive/MyDrive/Signature_Verification_Dataset/sign_data/train/035_forg/03_0115035.PNG', '/content/drive/MyDrive/Signature_Verification_Dataset/sign_data/train/035_forg/01_0103035.PNG', '/content/drive/MyDrive/Signature_Verification_Dataset/sign_data/train/035_forg/03_0201035.PNG', '/content/drive/MyDrive/Signature_Verification_Dataset/sign_data/train/035_forg/01_0115035.PNG', '/content/drive/MyDrive/Signature_Verification_Dataset/sign_data/train/035_forg/01_0201035.PNG', '/content/drive/MyDrive/Signature_Verification_Dataset/sign_data/train/035_forg/02_0103035.PNG', '/content/drive/MyDrive/Signature_Verification_Dataset/sign_data/train/035_forg/02_0115035.PNG', '/content/drive/MyDrive/Signature_Verification_Dataset/sign_data/train/035_forg/04_0115035.PNG', '/content/drive/MyDrive/Signature_Verification_Dataset/sign_data/train/035_forg/04_0103035.PNG', '/content/drive/MyDrive/Signature_Verification_Dataset/sign_data/train/034_forg/01_0103034.PNG', '/content/drive/MyDrive/Signature_Verification_Dataset/sign_data/train/034_forg/01_0110034.PNG', '/content/drive/MyDrive/Signature_Verification_Dataset/sign_data/train/034_forg/01_0120034.PNG', '/content/drive/MyDrive/Signature_Verification_Dataset/sign_data/train/034_forg/04_0120034.PNG', '/content/drive/MyDrive/Signature_Verification_Dataset/sign_data/train/034_forg/02_0120034.PNG', '/content/drive/MyDrive/Signature_Verification_Dataset/sign_data/train/034_forg/04_0110034.PNG', '/content/drive/MyDrive/Signature_Verification_Dataset/sign_data/train/034_forg/03_0120034.PNG', '/content/drive/MyDrive/Signature_Verification_Dataset/sign_data/train/034_forg/04_0103034.PNG', '/content/drive/MyDrive/Signature_Verification_Dataset/sign_data/train/034_forg/03_0110034.PNG', '/content/drive/MyDrive/Signature_Verification_Dataset/sign_data/train/034_forg/03_0103034.PNG', '/content/drive/MyDrive/Signature_Verification_Dataset/sign_data/train/034_forg/02_0103034.PNG', '/content/drive/MyDrive/Signature_Verification_Dataset/sign_data/train/034_forg/02_0110034.PNG', '/content/drive/MyDrive/Signature_Verification_Dataset/sign_data/train/038_forg/02_0101038.PNG', '/content/drive/MyDrive/Signature_Verification_Dataset/sign_data/train/038_forg/01_0124038.PNG', '/content/drive/MyDrive/Signature_Verification_Dataset/sign_data/train/038_forg/04_0101038.PNG', '/content/drive/MyDrive/Signature_Verification_Dataset/sign_data/train/038_forg/04_0213038.PNG', '/content/drive/MyDrive/Signature_Verification_Dataset/sign_data/train/038_forg/02_0124038.PNG', '/content/drive/MyDrive/Signature_Verification_Dataset/sign_data/train/038_forg/04_0124038.PNG', '/content/drive/MyDrive/Signature_Verification_Dataset/sign_data/train/038_forg/01_0213038.PNG', '/content/drive/MyDrive/Signature_Verification_Dataset/sign_data/train/038_forg/03_0101038.PNG', '/content/drive/MyDrive/Signature_Verification_Dataset/sign_data/train/038_forg/01_0101038.PNG', '/content/drive/MyDrive/Signature_Verification_Dataset/sign_data/train/038_forg/03_0213038.PNG', '/content/drive/MyDrive/Signature_Verification_Dataset/sign_data/train/038_forg/03_0124038.PNG', '/content/drive/MyDrive/Signature_Verification_Dataset/sign_data/train/038_forg/02_0213038.PNG', '/content/drive/MyDrive/Signature_Verification_Dataset/sign_data/train/042_forg/03_0118042.PNG', '/content/drive/MyDrive/Signature_Verification_Dataset/sign_data/train/042_forg/01_0118042.PNG', '/content/drive/MyDrive/Signature_Verification_Dataset/sign_data/train/042_forg/04_0107042.PNG', '/content/drive/MyDrive/Signature_Verification_Dataset/sign_data/train/042_forg/02_0118042.PNG', '/content/drive/MyDrive/Signature_Verification_Dataset/sign_data/train/042_forg/02_0107042.PNG', '/content/drive/MyDrive/Signature_Verification_Dataset/sign_data/train/042_forg/03_0107042.PNG', '/content/drive/MyDrive/Signature_Verification_Dataset/sign_data/train/042_forg/04_0204042.PNG', '/content/drive/MyDrive/Signature_Verification_Dataset/sign_data/train/042_forg/02_0204042.PNG', '/content/drive/MyDrive/Signature_Verification_Dataset/sign_data/train/042_forg/01_0204042.PNG', '/content/drive/MyDrive/Signature_Verification_Dataset/sign_data/train/042_forg/03_0204042.PNG', '/content/drive/MyDrive/Signature_Verification_Dataset/sign_data/train/042_forg/04_0118042.PNG', '/content/drive/MyDrive/Signature_Verification_Dataset/sign_data/train/042_forg/01_0107042.PNG', '/content/drive/MyDrive/Signature_Verification_Dataset/sign_data/train/039_forg/01_0113039.PNG', '/content/drive/MyDrive/Signature_Verification_Dataset/sign_data/train/039_forg/01_0102039.PNG', '/content/drive/MyDrive/Signature_Verification_Dataset/sign_data/train/039_forg/03_0102039.PNG', '/content/drive/MyDrive/Signature_Verification_Dataset/sign_data/train/039_forg/02_0108039.PNG', '/content/drive/MyDrive/Signature_Verification_Dataset/sign_data/train/039_forg/04_0113039.PNG', '/content/drive/MyDrive/Signature_Verification_Dataset/sign_data/train/039_forg/02_0102039.PNG', '/content/drive/MyDrive/Signature_Verification_Dataset/sign_data/train/039_forg/01_0108039.PNG', '/content/drive/MyDrive/Signature_Verification_Dataset/sign_data/train/039_forg/04_0108039.PNG', '/content/drive/MyDrive/Signature_Verification_Dataset/sign_data/train/039_forg/03_0113039.PNG', '/content/drive/MyDrive/Signature_Verification_Dataset/sign_data/train/039_forg/04_0102039.PNG', '/content/drive/MyDrive/Signature_Verification_Dataset/sign_data/train/039_forg/02_0113039.PNG', '/content/drive/MyDrive/Signature_Verification_Dataset/sign_data/train/039_forg/03_0108039.PNG', '/content/drive/MyDrive/Signature_Verification_Dataset/sign_data/train/041_forg/01_0116041.PNG', '/content/drive/MyDrive/Signature_Verification_Dataset/sign_data/train/041_forg/02_0117041.PNG', '/content/drive/MyDrive/Signature_Verification_Dataset/sign_data/train/041_forg/04_0105041.PNG', '/content/drive/MyDrive/Signature_Verification_Dataset/sign_data/train/041_forg/01_0105041.PNG', '/content/drive/MyDrive/Signature_Verification_Dataset/sign_data/train/041_forg/04_0117041.PNG', '/content/drive/MyDrive/Signature_Verification_Dataset/sign_data/train/041_forg/03_0116041.PNG', '/content/drive/MyDrive/Signature_Verification_Dataset/sign_data/train/041_forg/03_0105041.PNG', '/content/drive/MyDrive/Signature_Verification_Dataset/sign_data/train/041_forg/01_0117041.PNG', '/content/drive/MyDrive/Signature_Verification_Dataset/sign_data/train/041_forg/03_0117041.PNG', '/content/drive/MyDrive/Signature_Verification_Dataset/sign_data/train/041_forg/04_0116041.PNG', '/content/drive/MyDrive/Signature_Verification_Dataset/sign_data/train/041_forg/02_0116041.PNG', '/content/drive/MyDrive/Signature_Verification_Dataset/sign_data/train/041_forg/02_0105041.PNG', '/content/drive/MyDrive/Signature_Verification_Dataset/sign_data/train/040_forg/02_0114040.PNG', '/content/drive/MyDrive/Signature_Verification_Dataset/sign_data/train/040_forg/01_0121040.PNG', '/content/drive/MyDrive/Signature_Verification_Dataset/sign_data/train/040_forg/02_0121040.PNG', '/content/drive/MyDrive/Signature_Verification_Dataset/sign_data/train/040_forg/03_0121040.PNG', '/content/drive/MyDrive/Signature_Verification_Dataset/sign_data/train/040_forg/04_0121040.PNG', '/content/drive/MyDrive/Signature_Verification_Dataset/sign_data/train/040_forg/03_0114040.PNG', '/content/drive/MyDrive/Signature_Verification_Dataset/sign_data/train/040_forg/04_0114040.PNG', '/content/drive/MyDrive/Signature_Verification_Dataset/sign_data/train/040_forg/01_0114040.PNG', '/content/drive/MyDrive/Signature_Verification_Dataset/sign_data/train/043_forg/01_0111043.PNG', '/content/drive/MyDrive/Signature_Verification_Dataset/sign_data/train/043_forg/01_0201043.PNG', '/content/drive/MyDrive/Signature_Verification_Dataset/sign_data/train/043_forg/01_0211043.PNG', '/content/drive/MyDrive/Signature_Verification_Dataset/sign_data/train/043_forg/04_0201043.PNG', '/content/drive/MyDrive/Signature_Verification_Dataset/sign_data/train/043_forg/04_0211043.PNG', '/content/drive/MyDrive/Signature_Verification_Dataset/sign_data/train/043_forg/02_0201043.PNG', '/content/drive/MyDrive/Signature_Verification_Dataset/sign_data/train/043_forg/03_0211043.PNG', '/content/drive/MyDrive/Signature_Verification_Dataset/sign_data/train/043_forg/02_0211043.PNG', '/content/drive/MyDrive/Signature_Verification_Dataset/sign_data/train/043_forg/03_0111043.PNG', '/content/drive/MyDrive/Signature_Verification_Dataset/sign_data/train/043_forg/02_0111043.PNG', '/content/drive/MyDrive/Signature_Verification_Dataset/sign_data/train/043_forg/03_0201043.PNG', '/content/drive/MyDrive/Signature_Verification_Dataset/sign_data/train/043_forg/04_0111043.PNG', '/content/drive/MyDrive/Signature_Verification_Dataset/sign_data/train/046_forg/01_0123046.PNG', '/content/drive/MyDrive/Signature_Verification_Dataset/sign_data/train/046_forg/02_0108046.PNG', '/content/drive/MyDrive/Signature_Verification_Dataset/sign_data/train/046_forg/03_0108046.PNG', '/content/drive/MyDrive/Signature_Verification_Dataset/sign_data/train/046_forg/02_0107046.PNG', '/content/drive/MyDrive/Signature_Verification_Dataset/sign_data/train/046_forg/03_0107046.PNG', '/content/drive/MyDrive/Signature_Verification_Dataset/sign_data/train/046_forg/02_0123046.PNG', '/content/drive/MyDrive/Signature_Verification_Dataset/sign_data/train/046_forg/01_0107046.PNG', '/content/drive/MyDrive/Signature_Verification_Dataset/sign_data/train/046_forg/01_0108046.PNG', '/content/drive/MyDrive/Signature_Verification_Dataset/sign_data/train/046_forg/03_0123046.PNG', '/content/drive/MyDrive/Signature_Verification_Dataset/sign_data/train/046_forg/04_0108046.PNG', '/content/drive/MyDrive/Signature_Verification_Dataset/sign_data/train/046_forg/04_0107046.PNG', '/content/drive/MyDrive/Signature_Verification_Dataset/sign_data/train/046_forg/04_0123046.PNG', '/content/drive/MyDrive/Signature_Verification_Dataset/sign_data/train/045_forg/03_0205045.PNG', '/content/drive/MyDrive/Signature_Verification_Dataset/sign_data/train/045_forg/02_0111045.PNG', '/content/drive/MyDrive/Signature_Verification_Dataset/sign_data/train/045_forg/04_0116045.PNG', '/content/drive/MyDrive/Signature_Verification_Dataset/sign_data/train/045_forg/04_0111045.PNG', '/content/drive/MyDrive/Signature_Verification_Dataset/sign_data/train/045_forg/03_0111045.PNG', '/content/drive/MyDrive/Signature_Verification_Dataset/sign_data/train/045_forg/04_0205045.PNG', '/content/drive/MyDrive/Signature_Verification_Dataset/sign_data/train/045_forg/01_0205045.PNG', '/content/drive/MyDrive/Signature_Verification_Dataset/sign_data/train/045_forg/02_0116045.PNG', '/content/drive/MyDrive/Signature_Verification_Dataset/sign_data/train/045_forg/01_0111045.PNG', '/content/drive/MyDrive/Signature_Verification_Dataset/sign_data/train/045_forg/01_0116045.PNG', '/content/drive/MyDrive/Signature_Verification_Dataset/sign_data/train/045_forg/03_0116045.PNG', '/content/drive/MyDrive/Signature_Verification_Dataset/sign_data/train/045_forg/02_0205045.PNG', '/content/drive/MyDrive/Signature_Verification_Dataset/sign_data/train/047_forg/01_0113047.PNG', '/content/drive/MyDrive/Signature_Verification_Dataset/sign_data/train/047_forg/03_0114047.PNG', '/content/drive/MyDrive/Signature_Verification_Dataset/sign_data/train/047_forg/04_0113047.PNG', '/content/drive/MyDrive/Signature_Verification_Dataset/sign_data/train/047_forg/03_0113047.PNG', '/content/drive/MyDrive/Signature_Verification_Dataset/sign_data/train/047_forg/04_0114047.PNG', '/content/drive/MyDrive/Signature_Verification_Dataset/sign_data/train/047_forg/01_0114047.PNG', '/content/drive/MyDrive/Signature_Verification_Dataset/sign_data/train/047_forg/02_0212047.PNG', '/content/drive/MyDrive/Signature_Verification_Dataset/sign_data/train/047_forg/03_0212047.PNG', '/content/drive/MyDrive/Signature_Verification_Dataset/sign_data/train/047_forg/02_0113047.PNG', '/content/drive/MyDrive/Signature_Verification_Dataset/sign_data/train/047_forg/04_0212047.PNG', '/content/drive/MyDrive/Signature_Verification_Dataset/sign_data/train/047_forg/02_0114047.PNG', '/content/drive/MyDrive/Signature_Verification_Dataset/sign_data/train/047_forg/01_0212047.PNG', '/content/drive/MyDrive/Signature_Verification_Dataset/sign_data/train/044_forg/03_0211044.PNG', '/content/drive/MyDrive/Signature_Verification_Dataset/sign_data/train/044_forg/02_0103044.PNG', '/content/drive/MyDrive/Signature_Verification_Dataset/sign_data/train/044_forg/02_0211044.PNG', '/content/drive/MyDrive/Signature_Verification_Dataset/sign_data/train/044_forg/01_0103044.PNG', '/content/drive/MyDrive/Signature_Verification_Dataset/sign_data/train/044_forg/01_0112044.PNG', '/content/drive/MyDrive/Signature_Verification_Dataset/sign_data/train/044_forg/04_0103044.PNG', '/content/drive/MyDrive/Signature_Verification_Dataset/sign_data/train/044_forg/03_0112044.PNG', '/content/drive/MyDrive/Signature_Verification_Dataset/sign_data/train/044_forg/03_0103044.PNG', '/content/drive/MyDrive/Signature_Verification_Dataset/sign_data/train/044_forg/04_0112044.PNG', '/content/drive/MyDrive/Signature_Verification_Dataset/sign_data/train/044_forg/02_0112044.PNG', '/content/drive/MyDrive/Signature_Verification_Dataset/sign_data/train/044_forg/01_0211044.PNG', '/content/drive/MyDrive/Signature_Verification_Dataset/sign_data/train/044_forg/04_0211044.PNG', '/content/drive/MyDrive/Signature_Verification_Dataset/sign_data/train/048_forg/04_0106048.PNG', '/content/drive/MyDrive/Signature_Verification_Dataset/sign_data/train/048_forg/03_0106048.PNG', '/content/drive/MyDrive/Signature_Verification_Dataset/sign_data/train/048_forg/02_0106048.PNG', '/content/drive/MyDrive/Signature_Verification_Dataset/sign_data/train/048_forg/02_0204048.PNG', '/content/drive/MyDrive/Signature_Verification_Dataset/sign_data/train/048_forg/03_0204048.PNG', '/content/drive/MyDrive/Signature_Verification_Dataset/sign_data/train/048_forg/04_0204048.PNG', '/content/drive/MyDrive/Signature_Verification_Dataset/sign_data/train/048_forg/01_0204048.PNG', '/content/drive/MyDrive/Signature_Verification_Dataset/sign_data/train/048_forg/01_0106048.PNG', '/content/drive/MyDrive/Signature_Verification_Dataset/sign_data/train/052_forg/04_0106052.PNG', '/content/drive/MyDrive/Signature_Verification_Dataset/sign_data/train/052_forg/02_0210052.PNG', '/content/drive/MyDrive/Signature_Verification_Dataset/sign_data/train/052_forg/04_0207052.PNG', '/content/drive/MyDrive/Signature_Verification_Dataset/sign_data/train/052_forg/01_0106052.PNG', '/content/drive/MyDrive/Signature_Verification_Dataset/sign_data/train/052_forg/01_0207052.PNG', '/content/drive/MyDrive/Signature_Verification_Dataset/sign_data/train/052_forg/01_0109052.PNG', '/content/drive/MyDrive/Signature_Verification_Dataset/sign_data/train/052_forg/03_0106052.PNG', '/content/drive/MyDrive/Signature_Verification_Dataset/sign_data/train/052_forg/03_0207052.PNG', '/content/drive/MyDrive/Signature_Verification_Dataset/sign_data/train/052_forg/02_0207052.PNG', '/content/drive/MyDrive/Signature_Verification_Dataset/sign_data/train/052_forg/04_0109052.PNG', '/content/drive/MyDrive/Signature_Verification_Dataset/sign_data/train/052_forg/01_0210052.PNG', '/content/drive/MyDrive/Signature_Verification_Dataset/sign_data/train/052_forg/02_0109052.PNG', '/content/drive/MyDrive/Signature_Verification_Dataset/sign_data/train/052_forg/03_0210052.PNG', '/content/drive/MyDrive/Signature_Verification_Dataset/sign_data/train/052_forg/02_0106052.PNG', '/content/drive/MyDrive/Signature_Verification_Dataset/sign_data/train/052_forg/04_0210052.PNG', '/content/drive/MyDrive/Signature_Verification_Dataset/sign_data/train/052_forg/03_0109052.PNG', '/content/drive/MyDrive/Signature_Verification_Dataset/sign_data/train/050_forg/02_0204050.PNG', '/content/drive/MyDrive/Signature_Verification_Dataset/sign_data/train/050_forg/01_0204050.PNG', '/content/drive/MyDrive/Signature_Verification_Dataset/sign_data/train/050_forg/03_0125050.PNG', '/content/drive/MyDrive/Signature_Verification_Dataset/sign_data/train/050_forg/04_0125050.PNG', '/content/drive/MyDrive/Signature_Verification_Dataset/sign_data/train/050_forg/03_0126050.PNG', '/content/drive/MyDrive/Signature_Verification_Dataset/sign_data/train/050_forg/04_0204050.PNG', '/content/drive/MyDrive/Signature_Verification_Dataset/sign_data/train/050_forg/02_0126050.PNG', '/content/drive/MyDrive/Signature_Verification_Dataset/sign_data/train/050_forg/01_0125050.PNG', '/content/drive/MyDrive/Signature_Verification_Dataset/sign_data/train/050_forg/01_0126050.PNG', '/content/drive/MyDrive/Signature_Verification_Dataset/sign_data/train/050_forg/04_0126050.PNG', '/content/drive/MyDrive/Signature_Verification_Dataset/sign_data/train/050_forg/02_0125050.PNG', '/content/drive/MyDrive/Signature_Verification_Dataset/sign_data/train/050_forg/03_0204050.PNG', '/content/drive/MyDrive/Signature_Verification_Dataset/sign_data/train/049_forg/01_0210049.PNG', '/content/drive/MyDrive/Signature_Verification_Dataset/sign_data/train/049_forg/01_0206049.PNG', '/content/drive/MyDrive/Signature_Verification_Dataset/sign_data/train/049_forg/02_0206049.PNG', '/content/drive/MyDrive/Signature_Verification_Dataset/sign_data/train/049_forg/02_0114049.PNG', '/content/drive/MyDrive/Signature_Verification_Dataset/sign_data/train/049_forg/03_0206049.PNG', '/content/drive/MyDrive/Signature_Verification_Dataset/sign_data/train/049_forg/04_0114049.PNG', '/content/drive/MyDrive/Signature_Verification_Dataset/sign_data/train/049_forg/01_0114049.PNG', '/content/drive/MyDrive/Signature_Verification_Dataset/sign_data/train/049_forg/04_0210049.PNG', '/content/drive/MyDrive/Signature_Verification_Dataset/sign_data/train/049_forg/04_0206049.PNG', '/content/drive/MyDrive/Signature_Verification_Dataset/sign_data/train/049_forg/03_0114049.PNG', '/content/drive/MyDrive/Signature_Verification_Dataset/sign_data/train/049_forg/02_0210049.PNG', '/content/drive/MyDrive/Signature_Verification_Dataset/sign_data/train/049_forg/03_0210049.PNG', '/content/drive/MyDrive/Signature_Verification_Dataset/sign_data/train/051_forg/02_0120051.PNG', '/content/drive/MyDrive/Signature_Verification_Dataset/sign_data/train/051_forg/04_0104051.PNG', '/content/drive/MyDrive/Signature_Verification_Dataset/sign_data/train/051_forg/03_0120051.PNG', '/content/drive/MyDrive/Signature_Verification_Dataset/sign_data/train/051_forg/02_0104051.PNG', '/content/drive/MyDrive/Signature_Verification_Dataset/sign_data/train/051_forg/01_0104051.PNG', '/content/drive/MyDrive/Signature_Verification_Dataset/sign_data/train/051_forg/03_0104051.PNG', '/content/drive/MyDrive/Signature_Verification_Dataset/sign_data/train/051_forg/01_0120051.PNG', '/content/drive/MyDrive/Signature_Verification_Dataset/sign_data/train/051_forg/04_0120051.PNG', '/content/drive/MyDrive/Signature_Verification_Dataset/sign_data/train/053_forg/02_0202053.PNG', '/content/drive/MyDrive/Signature_Verification_Dataset/sign_data/train/053_forg/04_0115053.PNG', '/content/drive/MyDrive/Signature_Verification_Dataset/sign_data/train/053_forg/03_0207053.PNG', '/content/drive/MyDrive/Signature_Verification_Dataset/sign_data/train/053_forg/01_0202053.PNG', '/content/drive/MyDrive/Signature_Verification_Dataset/sign_data/train/053_forg/03_0202053.PNG', '/content/drive/MyDrive/Signature_Verification_Dataset/sign_data/train/053_forg/02_0115053.PNG', '/content/drive/MyDrive/Signature_Verification_Dataset/sign_data/train/053_forg/04_0107053.PNG', '/content/drive/MyDrive/Signature_Verification_Dataset/sign_data/train/053_forg/01_0115053.PNG', '/content/drive/MyDrive/Signature_Verification_Dataset/sign_data/train/053_forg/03_0115053.PNG', '/content/drive/MyDrive/Signature_Verification_Dataset/sign_data/train/053_forg/01_0207053.PNG', '/content/drive/MyDrive/Signature_Verification_Dataset/sign_data/train/053_forg/03_0107053.PNG', '/content/drive/MyDrive/Signature_Verification_Dataset/sign_data/train/053_forg/04_0202053.PNG', '/content/drive/MyDrive/Signature_Verification_Dataset/sign_data/train/053_forg/01_0107053.PNG', '/content/drive/MyDrive/Signature_Verification_Dataset/sign_data/train/053_forg/02_0107053.PNG', '/content/drive/MyDrive/Signature_Verification_Dataset/sign_data/train/053_forg/02_0207053.PNG', '/content/drive/MyDrive/Signature_Verification_Dataset/sign_data/train/053_forg/04_0207053.PNG', '/content/drive/MyDrive/Signature_Verification_Dataset/sign_data/train/055_forg/01_0118055.PNG', '/content/drive/MyDrive/Signature_Verification_Dataset/sign_data/train/055_forg/04_0202055.PNG', '/content/drive/MyDrive/Signature_Verification_Dataset/sign_data/train/055_forg/03_0120055.PNG', '/content/drive/MyDrive/Signature_Verification_Dataset/sign_data/train/055_forg/04_0118055.PNG', '/content/drive/MyDrive/Signature_Verification_Dataset/sign_data/train/055_forg/02_0202055.PNG', '/content/drive/MyDrive/Signature_Verification_Dataset/sign_data/train/055_forg/02_0120055.PNG', '/content/drive/MyDrive/Signature_Verification_Dataset/sign_data/train/055_forg/01_0120055.PNG', '/content/drive/MyDrive/Signature_Verification_Dataset/sign_data/train/055_forg/04_0120055.PNG', '/content/drive/MyDrive/Signature_Verification_Dataset/sign_data/train/055_forg/01_0202055.PNG', '/content/drive/MyDrive/Signature_Verification_Dataset/sign_data/train/055_forg/03_0118055.PNG', '/content/drive/MyDrive/Signature_Verification_Dataset/sign_data/train/055_forg/03_0202055.PNG', '/content/drive/MyDrive/Signature_Verification_Dataset/sign_data/train/055_forg/02_0118055.PNG', '/content/drive/MyDrive/Signature_Verification_Dataset/sign_data/train/057_forg/02_0117057.PNG', '/content/drive/MyDrive/Signature_Verification_Dataset/sign_data/train/057_forg/04_0117057.PNG', '/content/drive/MyDrive/Signature_Verification_Dataset/sign_data/train/057_forg/02_0210057.PNG', '/content/drive/MyDrive/Signature_Verification_Dataset/sign_data/train/057_forg/04_0210057.PNG', '/content/drive/MyDrive/Signature_Verification_Dataset/sign_data/train/057_forg/04_0208057.PNG', '/content/drive/MyDrive/Signature_Verification_Dataset/sign_data/train/057_forg/01_0117057.PNG', '/content/drive/MyDrive/Signature_Verification_Dataset/sign_data/train/057_forg/01_0208057.PNG', '/content/drive/MyDrive/Signature_Verification_Dataset/sign_data/train/057_forg/03_0208057.PNG', '/content/drive/MyDrive/Signature_Verification_Dataset/sign_data/train/057_forg/01_0210057.PNG', '/content/drive/MyDrive/Signature_Verification_Dataset/sign_data/train/057_forg/02_0208057.PNG', '/content/drive/MyDrive/Signature_Verification_Dataset/sign_data/train/057_forg/03_0117057.PNG', '/content/drive/MyDrive/Signature_Verification_Dataset/sign_data/train/057_forg/03_0210057.PNG', '/content/drive/MyDrive/Signature_Verification_Dataset/sign_data/train/056_forg/04_0115056.PNG', '/content/drive/MyDrive/Signature_Verification_Dataset/sign_data/train/056_forg/01_0105056.PNG', '/content/drive/MyDrive/Signature_Verification_Dataset/sign_data/train/056_forg/03_0115056.PNG', '/content/drive/MyDrive/Signature_Verification_Dataset/sign_data/train/056_forg/04_0105056.PNG', '/content/drive/MyDrive/Signature_Verification_Dataset/sign_data/train/056_forg/02_0105056.PNG', '/content/drive/MyDrive/Signature_Verification_Dataset/sign_data/train/056_forg/02_0115056.PNG', '/content/drive/MyDrive/Signature_Verification_Dataset/sign_data/train/056_forg/01_0115056.PNG', '/content/drive/MyDrive/Signature_Verification_Dataset/sign_data/train/056_forg/03_0105056.PNG', '/content/drive/MyDrive/Signature_Verification_Dataset/sign_data/train/054_forg/04_0124054.PNG', '/content/drive/MyDrive/Signature_Verification_Dataset/sign_data/train/054_forg/03_0214054.PNG', '/content/drive/MyDrive/Signature_Verification_Dataset/sign_data/train/054_forg/03_0124054.PNG', '/content/drive/MyDrive/Signature_Verification_Dataset/sign_data/train/054_forg/04_0102054.PNG', '/content/drive/MyDrive/Signature_Verification_Dataset/sign_data/train/054_forg/02_0207054.PNG', '/content/drive/MyDrive/Signature_Verification_Dataset/sign_data/train/054_forg/01_0214054.PNG', '/content/drive/MyDrive/Signature_Verification_Dataset/sign_data/train/054_forg/01_0208054.PNG', '/content/drive/MyDrive/Signature_Verification_Dataset/sign_data/train/054_forg/01_0207054.PNG', '/content/drive/MyDrive/Signature_Verification_Dataset/sign_data/train/054_forg/02_0208054.PNG', '/content/drive/MyDrive/Signature_Verification_Dataset/sign_data/train/054_forg/04_0208054.PNG', '/content/drive/MyDrive/Signature_Verification_Dataset/sign_data/train/054_forg/01_0124054.PNG', '/content/drive/MyDrive/Signature_Verification_Dataset/sign_data/train/054_forg/04_0207054.PNG', '/content/drive/MyDrive/Signature_Verification_Dataset/sign_data/train/054_forg/02_0214054.PNG', '/content/drive/MyDrive/Signature_Verification_Dataset/sign_data/train/054_forg/01_0102054.PNG', '/content/drive/MyDrive/Signature_Verification_Dataset/sign_data/train/054_forg/03_0207054.PNG', '/content/drive/MyDrive/Signature_Verification_Dataset/sign_data/train/054_forg/03_0208054.PNG', '/content/drive/MyDrive/Signature_Verification_Dataset/sign_data/train/054_forg/02_0102054.PNG', '/content/drive/MyDrive/Signature_Verification_Dataset/sign_data/train/054_forg/04_0214054.PNG', '/content/drive/MyDrive/Signature_Verification_Dataset/sign_data/train/054_forg/02_0124054.PNG', '/content/drive/MyDrive/Signature_Verification_Dataset/sign_data/train/054_forg/03_0102054.PNG', '/content/drive/MyDrive/Signature_Verification_Dataset/sign_data/train/058_forg/03_0125058.PNG', '/content/drive/MyDrive/Signature_Verification_Dataset/sign_data/train/058_forg/03_0110058.PNG', '/content/drive/MyDrive/Signature_Verification_Dataset/sign_data/train/058_forg/03_0109058.PNG', '/content/drive/MyDrive/Signature_Verification_Dataset/sign_data/train/058_forg/02_0109058.PNG', '/content/drive/MyDrive/Signature_Verification_Dataset/sign_data/train/058_forg/04_0109058.PNG', '/content/drive/MyDrive/Signature_Verification_Dataset/sign_data/train/058_forg/01_0127058.PNG', '/content/drive/MyDrive/Signature_Verification_Dataset/sign_data/train/058_forg/01_0125058.PNG', '/content/drive/MyDrive/Signature_Verification_Dataset/sign_data/train/058_forg/03_0127058.PNG', '/content/drive/MyDrive/Signature_Verification_Dataset/sign_data/train/058_forg/01_0110058.PNG', '/content/drive/MyDrive/Signature_Verification_Dataset/sign_data/train/058_forg/02_0127058.PNG', '/content/drive/MyDrive/Signature_Verification_Dataset/sign_data/train/058_forg/01_0109058.PNG', '/content/drive/MyDrive/Signature_Verification_Dataset/sign_data/train/058_forg/02_0110058.PNG', '/content/drive/MyDrive/Signature_Verification_Dataset/sign_data/train/058_forg/02_0125058.PNG', '/content/drive/MyDrive/Signature_Verification_Dataset/sign_data/train/058_forg/04_0125058.PNG', '/content/drive/MyDrive/Signature_Verification_Dataset/sign_data/train/058_forg/04_0127058.PNG', '/content/drive/MyDrive/Signature_Verification_Dataset/sign_data/train/058_forg/04_0110058.PNG', '/content/drive/MyDrive/Signature_Verification_Dataset/sign_data/train/061_forg/01_0102061.PNG', '/content/drive/MyDrive/Signature_Verification_Dataset/sign_data/train/061_forg/01_0206061.PNG', '/content/drive/MyDrive/Signature_Verification_Dataset/sign_data/train/061_forg/01_0112061.PNG', '/content/drive/MyDrive/Signature_Verification_Dataset/sign_data/train/061_forg/04_0102061.PNG', '/content/drive/MyDrive/Signature_Verification_Dataset/sign_data/train/061_forg/04_0112061.PNG', '/content/drive/MyDrive/Signature_Verification_Dataset/sign_data/train/061_forg/02_0102061.PNG', '/content/drive/MyDrive/Signature_Verification_Dataset/sign_data/train/061_forg/02_0206061.PNG', '/content/drive/MyDrive/Signature_Verification_Dataset/sign_data/train/061_forg/02_0112061.PNG', '/content/drive/MyDrive/Signature_Verification_Dataset/sign_data/train/061_forg/03_0102061.PNG', '/content/drive/MyDrive/Signature_Verification_Dataset/sign_data/train/061_forg/04_0206061.PNG', '/content/drive/MyDrive/Signature_Verification_Dataset/sign_data/train/061_forg/03_0112061.PNG', '/content/drive/MyDrive/Signature_Verification_Dataset/sign_data/train/061_forg/03_0206061.PNG', '/content/drive/MyDrive/Signature_Verification_Dataset/sign_data/train/062_forg/02_0116062.PNG', '/content/drive/MyDrive/Signature_Verification_Dataset/sign_data/train/062_forg/01_0109062.PNG', '/content/drive/MyDrive/Signature_Verification_Dataset/sign_data/train/062_forg/01_0201062.PNG', '/content/drive/MyDrive/Signature_Verification_Dataset/sign_data/train/062_forg/04_0201062.PNG', '/content/drive/MyDrive/Signature_Verification_Dataset/sign_data/train/062_forg/03_0201062.PNG', '/content/drive/MyDrive/Signature_Verification_Dataset/sign_data/train/062_forg/02_0201062.PNG', '/content/drive/MyDrive/Signature_Verification_Dataset/sign_data/train/062_forg/03_0116062.PNG', '/content/drive/MyDrive/Signature_Verification_Dataset/sign_data/train/062_forg/04_0109062.PNG', '/content/drive/MyDrive/Signature_Verification_Dataset/sign_data/train/062_forg/02_0109062.PNG', '/content/drive/MyDrive/Signature_Verification_Dataset/sign_data/train/062_forg/03_0109062.PNG', '/content/drive/MyDrive/Signature_Verification_Dataset/sign_data/train/062_forg/01_0116062.PNG', '/content/drive/MyDrive/Signature_Verification_Dataset/sign_data/train/062_forg/04_0116062.PNG', '/content/drive/MyDrive/Signature_Verification_Dataset/sign_data/train/059_forg/01_0125059.PNG', '/content/drive/MyDrive/Signature_Verification_Dataset/sign_data/train/059_forg/04_0104059.PNG', '/content/drive/MyDrive/Signature_Verification_Dataset/sign_data/train/059_forg/03_0104059.PNG', '/content/drive/MyDrive/Signature_Verification_Dataset/sign_data/train/059_forg/02_0104059.PNG', '/content/drive/MyDrive/Signature_Verification_Dataset/sign_data/train/059_forg/03_0125059.PNG', '/content/drive/MyDrive/Signature_Verification_Dataset/sign_data/train/059_forg/01_0104059.PNG', '/content/drive/MyDrive/Signature_Verification_Dataset/sign_data/train/059_forg/02_0125059.PNG', '/content/drive/MyDrive/Signature_Verification_Dataset/sign_data/train/059_forg/04_0125059.PNG', '/content/drive/MyDrive/Signature_Verification_Dataset/sign_data/train/060_forg/01_0126060.PNG', '/content/drive/MyDrive/Signature_Verification_Dataset/sign_data/train/060_forg/02_0121060.PNG', '/content/drive/MyDrive/Signature_Verification_Dataset/sign_data/train/060_forg/02_0111060.PNG', '/content/drive/MyDrive/Signature_Verification_Dataset/sign_data/train/060_forg/03_0121060.PNG', '/content/drive/MyDrive/Signature_Verification_Dataset/sign_data/train/060_forg/04_0111060.PNG', '/content/drive/MyDrive/Signature_Verification_Dataset/sign_data/train/060_forg/02_0126060.PNG', '/content/drive/MyDrive/Signature_Verification_Dataset/sign_data/train/060_forg/04_0121060.PNG', '/content/drive/MyDrive/Signature_Verification_Dataset/sign_data/train/060_forg/03_0126060.PNG', '/content/drive/MyDrive/Signature_Verification_Dataset/sign_data/train/060_forg/01_0111060.PNG', '/content/drive/MyDrive/Signature_Verification_Dataset/sign_data/train/060_forg/03_0111060.PNG', '/content/drive/MyDrive/Signature_Verification_Dataset/sign_data/train/060_forg/01_0121060.PNG', '/content/drive/MyDrive/Signature_Verification_Dataset/sign_data/train/060_forg/04_0126060.PNG', '/content/drive/MyDrive/Signature_Verification_Dataset/sign_data/train/063_forg/01_0108063.PNG', '/content/drive/MyDrive/Signature_Verification_Dataset/sign_data/train/063_forg/04_0119063.PNG', '/content/drive/MyDrive/Signature_Verification_Dataset/sign_data/train/063_forg/01_0104063.PNG', '/content/drive/MyDrive/Signature_Verification_Dataset/sign_data/train/063_forg/04_0108063.PNG', '/content/drive/MyDrive/Signature_Verification_Dataset/sign_data/train/063_forg/03_0104063.PNG', '/content/drive/MyDrive/Signature_Verification_Dataset/sign_data/train/063_forg/03_0119063.PNG', '/content/drive/MyDrive/Signature_Verification_Dataset/sign_data/train/063_forg/03_0108063.PNG', '/content/drive/MyDrive/Signature_Verification_Dataset/sign_data/train/063_forg/02_0119063.PNG', '/content/drive/MyDrive/Signature_Verification_Dataset/sign_data/train/063_forg/01_0119063.PNG', '/content/drive/MyDrive/Signature_Verification_Dataset/sign_data/train/063_forg/02_0104063.PNG', '/content/drive/MyDrive/Signature_Verification_Dataset/sign_data/train/063_forg/04_0104063.PNG', '/content/drive/MyDrive/Signature_Verification_Dataset/sign_data/train/063_forg/02_0108063.PNG', '/content/drive/MyDrive/Signature_Verification_Dataset/sign_data/train/064_forg/01_0203064.PNG', '/content/drive/MyDrive/Signature_Verification_Dataset/sign_data/train/064_forg/01_0105064.PNG', '/content/drive/MyDrive/Signature_Verification_Dataset/sign_data/train/064_forg/03_0105064.PNG', '/content/drive/MyDrive/Signature_Verification_Dataset/sign_data/train/064_forg/04_0105064.PNG', '/content/drive/MyDrive/Signature_Verification_Dataset/sign_data/train/064_forg/04_0203064.PNG', '/content/drive/MyDrive/Signature_Verification_Dataset/sign_data/train/064_forg/02_0203064.PNG', '/content/drive/MyDrive/Signature_Verification_Dataset/sign_data/train/064_forg/02_0105064.PNG', '/content/drive/MyDrive/Signature_Verification_Dataset/sign_data/train/064_forg/03_0203064.PNG', '/content/drive/MyDrive/Signature_Verification_Dataset/sign_data/train/065_forg/03_0206065.PNG', '/content/drive/MyDrive/Signature_Verification_Dataset/sign_data/train/065_forg/04_0118065.PNG', '/content/drive/MyDrive/Signature_Verification_Dataset/sign_data/train/065_forg/04_0206065.PNG', '/content/drive/MyDrive/Signature_Verification_Dataset/sign_data/train/065_forg/03_0118065.PNG', '/content/drive/MyDrive/Signature_Verification_Dataset/sign_data/train/065_forg/02_0118065.PNG', '/content/drive/MyDrive/Signature_Verification_Dataset/sign_data/train/065_forg/02_0206065.PNG', '/content/drive/MyDrive/Signature_Verification_Dataset/sign_data/train/065_forg/01_0118065.PNG', '/content/drive/MyDrive/Signature_Verification_Dataset/sign_data/train/065_forg/01_0206065.PNG', '/content/drive/MyDrive/Signature_Verification_Dataset/sign_data/train/067_forg/03_0205067.PNG', '/content/drive/MyDrive/Signature_Verification_Dataset/sign_data/train/067_forg/01_0205067.PNG', '/content/drive/MyDrive/Signature_Verification_Dataset/sign_data/train/067_forg/03_0212067.PNG', '/content/drive/MyDrive/Signature_Verification_Dataset/sign_data/train/067_forg/01_0212067.PNG', '/content/drive/MyDrive/Signature_Verification_Dataset/sign_data/train/067_forg/04_0212067.PNG', '/content/drive/MyDrive/Signature_Verification_Dataset/sign_data/train/067_forg/02_0212067.PNG', '/content/drive/MyDrive/Signature_Verification_Dataset/sign_data/train/067_forg/02_0205067.PNG', '/content/drive/MyDrive/Signature_Verification_Dataset/sign_data/train/067_forg/04_0205067.PNG', '/content/drive/MyDrive/Signature_Verification_Dataset/sign_data/train/068_forg/01_0124068.PNG', '/content/drive/MyDrive/Signature_Verification_Dataset/sign_data/train/068_forg/04_0124068.PNG', '/content/drive/MyDrive/Signature_Verification_Dataset/sign_data/train/068_forg/03_0113068.PNG', '/content/drive/MyDrive/Signature_Verification_Dataset/sign_data/train/068_forg/04_0113068.PNG', '/content/drive/MyDrive/Signature_Verification_Dataset/sign_data/train/068_forg/02_0124068.PNG', '/content/drive/MyDrive/Signature_Verification_Dataset/sign_data/train/068_forg/03_0124068.PNG', '/content/drive/MyDrive/Signature_Verification_Dataset/sign_data/train/068_forg/02_0113068.PNG', '/content/drive/MyDrive/Signature_Verification_Dataset/sign_data/train/068_forg/01_0113068.PNG', '/content/drive/MyDrive/Signature_Verification_Dataset/sign_data/train/066_forg/02_0127066.PNG', '/content/drive/MyDrive/Signature_Verification_Dataset/sign_data/train/066_forg/04_0101066.PNG', '/content/drive/MyDrive/Signature_Verification_Dataset/sign_data/train/066_forg/02_0211066.PNG', '/content/drive/MyDrive/Signature_Verification_Dataset/sign_data/train/066_forg/02_0101066.PNG', '/content/drive/MyDrive/Signature_Verification_Dataset/sign_data/train/066_forg/01_0101066.PNG', '/content/drive/MyDrive/Signature_Verification_Dataset/sign_data/train/066_forg/01_0127066.PNG', '/content/drive/MyDrive/Signature_Verification_Dataset/sign_data/train/066_forg/03_0101066.PNG', '/content/drive/MyDrive/Signature_Verification_Dataset/sign_data/train/066_forg/02_0212066.PNG', '/content/drive/MyDrive/Signature_Verification_Dataset/sign_data/train/066_forg/04_0127066.PNG', '/content/drive/MyDrive/Signature_Verification_Dataset/sign_data/train/066_forg/03_0127066.PNG', '/content/drive/MyDrive/Signature_Verification_Dataset/sign_data/train/066_forg/01_0212066.PNG', '/content/drive/MyDrive/Signature_Verification_Dataset/sign_data/train/066_forg/04_0212066.PNG', '/content/drive/MyDrive/Signature_Verification_Dataset/sign_data/train/066_forg/03_0211066.PNG', '/content/drive/MyDrive/Signature_Verification_Dataset/sign_data/train/066_forg/04_0211066.PNG', '/content/drive/MyDrive/Signature_Verification_Dataset/sign_data/train/066_forg/03_0212066.PNG', '/content/drive/MyDrive/Signature_Verification_Dataset/sign_data/train/066_forg/01_0211066.PNG', '/content/drive/MyDrive/Signature_Verification_Dataset/sign_data/train/069_forg/01_0111069.PNG', '/content/drive/MyDrive/Signature_Verification_Dataset/sign_data/train/069_forg/01_0106069.PNG', '/content/drive/MyDrive/Signature_Verification_Dataset/sign_data/train/069_forg/02_0108069.PNG', '/content/drive/MyDrive/Signature_Verification_Dataset/sign_data/train/069_forg/02_0106069.PNG', '/content/drive/MyDrive/Signature_Verification_Dataset/sign_data/train/069_forg/03_0108069.PNG', '/content/drive/MyDrive/Signature_Verification_Dataset/sign_data/train/069_forg/01_0108069.PNG', '/content/drive/MyDrive/Signature_Verification_Dataset/sign_data/train/069_forg/02_0111069.PNG', '/content/drive/MyDrive/Signature_Verification_Dataset/sign_data/train/069_forg/03_0106069.PNG', '/content/drive/MyDrive/Signature_Verification_Dataset/sign_data/train/069_forg/03_0111069.PNG', '/content/drive/MyDrive/Signature_Verification_Dataset/sign_data/train/069_forg/04_0106069.PNG', '/content/drive/MyDrive/Signature_Verification_Dataset/sign_data/train/069_forg/04_0108069.PNG', '/content/drive/MyDrive/Signature_Verification_Dataset/sign_data/train/069_forg/04_0111069.PNG']\n"
          ]
        },
        {
          "output_type": "execute_result",
          "data": {
            "text/html": [
              "\n",
              "  <div id=\"df-020a37bd-80fa-4457-a639-7bbb793b1744\">\n",
              "    <div class=\"colab-df-container\">\n",
              "      <div>\n",
              "<style scoped>\n",
              "    .dataframe tbody tr th:only-of-type {\n",
              "        vertical-align: middle;\n",
              "    }\n",
              "\n",
              "    .dataframe tbody tr th {\n",
              "        vertical-align: top;\n",
              "    }\n",
              "\n",
              "    .dataframe thead th {\n",
              "        text-align: right;\n",
              "    }\n",
              "</style>\n",
              "<table border=\"1\" class=\"dataframe\">\n",
              "  <thead>\n",
              "    <tr style=\"text-align: right;\">\n",
              "      <th></th>\n",
              "      <th>imgs_path</th>\n",
              "      <th>labels</th>\n",
              "    </tr>\n",
              "  </thead>\n",
              "  <tbody>\n",
              "    <tr>\n",
              "      <th>0</th>\n",
              "      <td>/content/drive/MyDrive/handwritten signatures/...</td>\n",
              "      <td>1.0</td>\n",
              "    </tr>\n",
              "    <tr>\n",
              "      <th>1</th>\n",
              "      <td>/content/drive/MyDrive/handwritten signatures/...</td>\n",
              "      <td>1.0</td>\n",
              "    </tr>\n",
              "    <tr>\n",
              "      <th>2</th>\n",
              "      <td>/content/drive/MyDrive/handwritten signatures/...</td>\n",
              "      <td>1.0</td>\n",
              "    </tr>\n",
              "    <tr>\n",
              "      <th>3</th>\n",
              "      <td>/content/drive/MyDrive/handwritten signatures/...</td>\n",
              "      <td>1.0</td>\n",
              "    </tr>\n",
              "    <tr>\n",
              "      <th>4</th>\n",
              "      <td>/content/drive/MyDrive/handwritten signatures/...</td>\n",
              "      <td>1.0</td>\n",
              "    </tr>\n",
              "    <tr>\n",
              "      <th>...</th>\n",
              "      <td>...</td>\n",
              "      <td>...</td>\n",
              "    </tr>\n",
              "    <tr>\n",
              "      <th>4638</th>\n",
              "      <td>/content/drive/MyDrive/toloka/sign_toloka_forg...</td>\n",
              "      <td>0.0</td>\n",
              "    </tr>\n",
              "    <tr>\n",
              "      <th>4639</th>\n",
              "      <td>/content/drive/MyDrive/toloka/sign_toloka_forg...</td>\n",
              "      <td>0.0</td>\n",
              "    </tr>\n",
              "    <tr>\n",
              "      <th>4640</th>\n",
              "      <td>/content/drive/MyDrive/toloka/sign_toloka_forg...</td>\n",
              "      <td>0.0</td>\n",
              "    </tr>\n",
              "    <tr>\n",
              "      <th>4641</th>\n",
              "      <td>/content/drive/MyDrive/toloka/sign_toloka_forg...</td>\n",
              "      <td>0.0</td>\n",
              "    </tr>\n",
              "    <tr>\n",
              "      <th>4642</th>\n",
              "      <td>/content/drive/MyDrive/toloka/sign_toloka_forg...</td>\n",
              "      <td>0.0</td>\n",
              "    </tr>\n",
              "  </tbody>\n",
              "</table>\n",
              "<p>4643 rows × 2 columns</p>\n",
              "</div>\n",
              "      <button class=\"colab-df-convert\" onclick=\"convertToInteractive('df-020a37bd-80fa-4457-a639-7bbb793b1744')\"\n",
              "              title=\"Convert this dataframe to an interactive table.\"\n",
              "              style=\"display:none;\">\n",
              "        \n",
              "  <svg xmlns=\"http://www.w3.org/2000/svg\" height=\"24px\"viewBox=\"0 0 24 24\"\n",
              "       width=\"24px\">\n",
              "    <path d=\"M0 0h24v24H0V0z\" fill=\"none\"/>\n",
              "    <path d=\"M18.56 5.44l.94 2.06.94-2.06 2.06-.94-2.06-.94-.94-2.06-.94 2.06-2.06.94zm-11 1L8.5 8.5l.94-2.06 2.06-.94-2.06-.94L8.5 2.5l-.94 2.06-2.06.94zm10 10l.94 2.06.94-2.06 2.06-.94-2.06-.94-.94-2.06-.94 2.06-2.06.94z\"/><path d=\"M17.41 7.96l-1.37-1.37c-.4-.4-.92-.59-1.43-.59-.52 0-1.04.2-1.43.59L10.3 9.45l-7.72 7.72c-.78.78-.78 2.05 0 2.83L4 21.41c.39.39.9.59 1.41.59.51 0 1.02-.2 1.41-.59l7.78-7.78 2.81-2.81c.8-.78.8-2.07 0-2.86zM5.41 20L4 18.59l7.72-7.72 1.47 1.35L5.41 20z\"/>\n",
              "  </svg>\n",
              "      </button>\n",
              "      \n",
              "  <style>\n",
              "    .colab-df-container {\n",
              "      display:flex;\n",
              "      flex-wrap:wrap;\n",
              "      gap: 12px;\n",
              "    }\n",
              "\n",
              "    .colab-df-convert {\n",
              "      background-color: #E8F0FE;\n",
              "      border: none;\n",
              "      border-radius: 50%;\n",
              "      cursor: pointer;\n",
              "      display: none;\n",
              "      fill: #1967D2;\n",
              "      height: 32px;\n",
              "      padding: 0 0 0 0;\n",
              "      width: 32px;\n",
              "    }\n",
              "\n",
              "    .colab-df-convert:hover {\n",
              "      background-color: #E2EBFA;\n",
              "      box-shadow: 0px 1px 2px rgba(60, 64, 67, 0.3), 0px 1px 3px 1px rgba(60, 64, 67, 0.15);\n",
              "      fill: #174EA6;\n",
              "    }\n",
              "\n",
              "    [theme=dark] .colab-df-convert {\n",
              "      background-color: #3B4455;\n",
              "      fill: #D2E3FC;\n",
              "    }\n",
              "\n",
              "    [theme=dark] .colab-df-convert:hover {\n",
              "      background-color: #434B5C;\n",
              "      box-shadow: 0px 1px 3px 1px rgba(0, 0, 0, 0.15);\n",
              "      filter: drop-shadow(0px 1px 2px rgba(0, 0, 0, 0.3));\n",
              "      fill: #FFFFFF;\n",
              "    }\n",
              "  </style>\n",
              "\n",
              "      <script>\n",
              "        const buttonEl =\n",
              "          document.querySelector('#df-020a37bd-80fa-4457-a639-7bbb793b1744 button.colab-df-convert');\n",
              "        buttonEl.style.display =\n",
              "          google.colab.kernel.accessAllowed ? 'block' : 'none';\n",
              "\n",
              "        async function convertToInteractive(key) {\n",
              "          const element = document.querySelector('#df-020a37bd-80fa-4457-a639-7bbb793b1744');\n",
              "          const dataTable =\n",
              "            await google.colab.kernel.invokeFunction('convertToInteractive',\n",
              "                                                     [key], {});\n",
              "          if (!dataTable) return;\n",
              "\n",
              "          const docLinkHtml = 'Like what you see? Visit the ' +\n",
              "            '<a target=\"_blank\" href=https://colab.research.google.com/notebooks/data_table.ipynb>data table notebook</a>'\n",
              "            + ' to learn more about interactive tables.';\n",
              "          element.innerHTML = '';\n",
              "          dataTable['output_type'] = 'display_data';\n",
              "          await google.colab.output.renderOutput(dataTable, element);\n",
              "          const docLink = document.createElement('div');\n",
              "          docLink.innerHTML = docLinkHtml;\n",
              "          element.appendChild(docLink);\n",
              "        }\n",
              "      </script>\n",
              "    </div>\n",
              "  </div>\n",
              "  "
            ],
            "text/plain": [
              "                                              imgs_path  labels\n",
              "0     /content/drive/MyDrive/handwritten signatures/...     1.0\n",
              "1     /content/drive/MyDrive/handwritten signatures/...     1.0\n",
              "2     /content/drive/MyDrive/handwritten signatures/...     1.0\n",
              "3     /content/drive/MyDrive/handwritten signatures/...     1.0\n",
              "4     /content/drive/MyDrive/handwritten signatures/...     1.0\n",
              "...                                                 ...     ...\n",
              "4638  /content/drive/MyDrive/toloka/sign_toloka_forg...     0.0\n",
              "4639  /content/drive/MyDrive/toloka/sign_toloka_forg...     0.0\n",
              "4640  /content/drive/MyDrive/toloka/sign_toloka_forg...     0.0\n",
              "4641  /content/drive/MyDrive/toloka/sign_toloka_forg...     0.0\n",
              "4642  /content/drive/MyDrive/toloka/sign_toloka_forg...     0.0\n",
              "\n",
              "[4643 rows x 2 columns]"
            ]
          },
          "metadata": {},
          "execution_count": 22
        }
      ],
      "source": [
        "dataset_dirs_1 = [\"/content/drive/MyDrive/handwritten signatures/Dataset_Signature/Dataset/dataset1\", \n",
        "                  \"/content/drive/MyDrive/handwritten signatures/Dataset_Signature/Dataset/dataset2\",\n",
        "                  \"/content/drive/MyDrive/handwritten signatures/Dataset_Signature/Dataset/dataset3\",\n",
        "                  \"/content/drive/MyDrive/handwritten signatures/Dataset_Signature/Dataset/dataset4\"]\n",
        "\n",
        "dataset_dir_2 = \"/content/drive/MyDrive/Signature_Verification_Dataset/sign_data/train\"\n",
        "\n",
        "toloka_datasets = [\"/content/drive/MyDrive/toloka/sign_toloka_real\",\n",
        "                   \"/content/drive/MyDrive/toloka/sign_toloka_forge\"]\n",
        "\n",
        "images = []\n",
        "labels = np.empty(0)\n",
        "\n",
        "for dir in dataset_dirs_1:\n",
        "  real_signs = sorted(glob(f\"{dir}/real*/*.png\"))\n",
        "  labels = np.append(labels, np.ones(len(real_signs)))\n",
        "\n",
        "  fake_signs = sorted(glob(f\"{dir}/forge/*.png\"))\n",
        "  labels = np.append(labels, np.zeros(len(fake_signs)))\n",
        "\n",
        "  images += real_signs\n",
        "  images += fake_signs\n",
        "\n",
        "\n",
        "real_signs = [f for f in glob(f\"{dataset_dir_2}/*/*\") if \"_forg\" not in f]\n",
        "print(real_signs)\n",
        "labels = np.append(labels, np.ones(len(real_signs)))\n",
        "\n",
        "fake_signs = [f for f in glob(f\"{dataset_dir_2}/*/*\") if \"_forg\" in f]\n",
        "print(fake_signs)\n",
        "labels = np.append(labels, np.zeros(len(fake_signs)))\n",
        "\n",
        "images += real_signs\n",
        "images += fake_signs\n",
        "\n",
        "\n",
        "for toloka_dir in toloka_datasets:\n",
        "  dirs = [ name for name in os.listdir(toloka_dir) if os.path.isdir(os.path.join(toloka_dir, name)) ]\n",
        "\n",
        "  for dir in dirs:\n",
        "    if \"forge\" in toloka_dir:\n",
        "      fake_signs = sorted(glob(f\"{toloka_dir}/{dir}/*\"))\n",
        "      labels = np.append(labels, np.zeros(len(fake_signs)))\n",
        "      images += fake_signs\n",
        "    else:\n",
        "      real_signs = sorted(glob(f\"{toloka_dir}/{dir}/*\"))\n",
        "      labels = np.append(labels, np.ones(len(real_signs)))\n",
        "      images += real_signs\n",
        "\n",
        "data = zip(images,labels)\n",
        "df = pd.DataFrame(data=data, columns=[\"imgs_path\",\"labels\"])\n",
        "df"
      ]
    },
    {
      "cell_type": "code",
      "execution_count": 23,
      "metadata": {
        "id": "qhtVI2HCOiPl",
        "colab": {
          "base_uri": "https://localhost:8080/"
        },
        "outputId": "3eacadd6-784c-4442-86b2-4529c4442fc0"
      },
      "outputs": [
        {
          "output_type": "stream",
          "name": "stdout",
          "text": [
            "4643\n"
          ]
        }
      ],
      "source": [
        "# initialize dataset \n",
        "dataset = CustomDatasetCV(df.imgs_path, df.labels)\n",
        "print(len(dataset))\n",
        "class_names = [\"fake\", \"real\"]"
      ]
    },
    {
      "cell_type": "code",
      "execution_count": 24,
      "metadata": {
        "id": "an2tjYLZPibJ",
        "colab": {
          "base_uri": "https://localhost:8080/"
        },
        "outputId": "816fe6b9-fdaa-461c-a4cc-1c9d6763322c"
      },
      "outputs": [
        {
          "output_type": "stream",
          "name": "stdout",
          "text": [
            "train data size: 3714\n",
            "validation data size: 929\n"
          ]
        }
      ],
      "source": [
        "dataset_size = len(df.imgs_path)\n",
        "\n",
        "dataset_sizes = {}\n",
        "dataset_sizes['train'] = round(len(dataset) * 0.8)\n",
        "dataset_sizes['val'] = round(len(dataset) * 0.2)\n",
        "print(f\"train data size: {dataset_sizes['train']}\")\n",
        "print(f\"validation data size: {dataset_sizes['val']}\")\n",
        "\n",
        "train_data, val_data = torch.utils.data.random_split(dataset, [dataset_sizes['train'], dataset_sizes['val']])\n",
        "\n",
        "dataloaders = {}\n",
        "dataloaders['train'] = torch.utils.data.DataLoader(train_data, shuffle=True, batch_size=4)\n",
        "dataloaders['val'] = torch.utils.data.DataLoader(val_data, shuffle=True, batch_size=4)"
      ]
    },
    {
      "cell_type": "markdown",
      "metadata": {
        "id": "t41MDTV4W5Nd"
      },
      "source": [
        "#Training"
      ]
    },
    {
      "cell_type": "code",
      "execution_count": 18,
      "metadata": {
        "id": "B0RGxN48xZEN"
      },
      "outputs": [],
      "source": [
        "def train_model(model, criterion, optimizer, scheduler, lr, batch_size, num_epochs):\n",
        "    wandb.init(\n",
        "    project=\"comptech\",\n",
        "    config={\n",
        "        \"optimizer\": optimizer,\n",
        "        \"loss\": criterion,\n",
        "        \"learning rate\": lr,\n",
        "        \"metric\": \"accuracy\",\n",
        "        \"epoch\": num_epochs,\n",
        "        \"batch_size\": batch_size,\n",
        "    })\n",
        "    config = wandb.config\n",
        "\n",
        "    since = time.time()\n",
        "\n",
        "    best_model_wts = copy.deepcopy(model.state_dict())\n",
        "    best_acc = 0.0\n",
        "\n",
        "    for epoch in range(num_epochs):\n",
        "        print('Epoch {}/{}'.format(epoch, num_epochs - 1))\n",
        "        print('-' * 10)\n",
        "        start = time.time()\n",
        "        fact = []\n",
        "        predictions = []\n",
        "\n",
        "        # Each epoch has a training and validation phase\n",
        "        for phase in ['train', 'val']:\n",
        "            if phase == 'train':\n",
        "                model.train()  # Set model to training mode\n",
        "            else:\n",
        "                model.eval()   # Set model to evaluate mode\n",
        "        \n",
        "            running_loss = 0.0\n",
        "            running_corrects = 0\n",
        "\n",
        "            # Iterate over data.\n",
        "            for batch in dataloaders[phase]:\n",
        "                inputs = batch['image']\n",
        "                labels = batch['target']\n",
        "                for label in labels:\n",
        "                  fact.append(label.item())\n",
        "                inputs = inputs.to(device)\n",
        "                labels = labels.to(device)\n",
        "\n",
        "                # zero the parameter gradients\n",
        "                optimizer.zero_grad()\n",
        "\n",
        "                # forward\n",
        "                # track history if only in train\n",
        "                with torch.set_grad_enabled(phase == 'train'):\n",
        "                    outputs = model(inputs)\n",
        "                    loss = criterion(outputs, labels)\n",
        "                    _, preds = torch.max(outputs, 1)\n",
        "                    loss = criterion(outputs, labels)\n",
        "                    for prediction in preds:\n",
        "                      if prediction.item() == 1:\n",
        "                        predictions.append(1)\n",
        "                      else:\n",
        "                        predictions.append(0)\n",
        "                    \n",
        "                    # backward + optimize only if in training phase\n",
        "                    if phase == 'train':\n",
        "                        loss.backward()\n",
        "                        optimizer.step()\n",
        "\n",
        "                # statistics\n",
        "                running_loss += loss.item() * inputs.size(0)\n",
        "                running_corrects += torch.sum(preds == labels.data)\n",
        "            if phase == 'train':\n",
        "                scheduler.step()\n",
        "\n",
        "            epoch_loss = running_loss / dataset_sizes[phase]\n",
        "            epoch_acc = running_corrects.double() / dataset_sizes[phase]\n",
        "\n",
        "            print('{} Loss: {:.4f} Acc: {:.4f}'.format(\n",
        "                phase, epoch_loss, epoch_acc))\n",
        "\n",
        "            # deep copy the model\n",
        "            if phase == 'val' and epoch_acc > best_acc:\n",
        "                best_acc = epoch_acc\n",
        "                best_model_wts = copy.deepcopy(model.state_dict())\n",
        "        epoch_time = time.time() - start\n",
        "\n",
        "        trainloader = dataloaders['train']\n",
        "        len_trainloader = len(trainloader)\n",
        "        valloader = dataloaders['val']\n",
        "        len_valloader = len(valloader)\n",
        "        f1 = f1_score(fact, predictions, average=\"macro\")\n",
        "        recall = recall_score(fact, predictions, average=\"macro\")\n",
        "        precision = precision_score(fact, predictions, average=\"macro\")\n",
        "        wandb.log({\"Epoch\":epoch + 1,\n",
        "                  \"Epoch time\": epoch_time/60,\n",
        "                  \"Train loss\":running_loss/len(trainloader),\n",
        "                  \"Val loss\":running_loss / len_valloader,\n",
        "                  \"Epoch accuracy\": epoch_acc,\n",
        "                  \"f1\": f1,\n",
        "                  \"recall\": recall,\n",
        "                  \"precision\": precision\n",
        "                  })\n",
        "  \n",
        "    time_elapsed = time.time() - since\n",
        "    print('Training complete in {:.0f}m {:.0f}s'.format(\n",
        "        time_elapsed // 60, time_elapsed % 60))\n",
        "    print('Best val Acc: {:4f}'.format(best_acc))\n",
        "\n",
        "    # load best model weights\n",
        "    model.load_state_dict(best_model_wts)\n",
        "    wandb.finish()\n",
        "    return model"
      ]
    },
    {
      "cell_type": "code",
      "execution_count": 19,
      "metadata": {
        "id": "p-j0FMguX7E5"
      },
      "outputs": [],
      "source": [
        "def visualize_model(model, num_images=6):\n",
        "    was_training = model.training\n",
        "    model.eval()\n",
        "    images_so_far = 0\n",
        "    fig = plt.figure()\n",
        "\n",
        "    with torch.no_grad():\n",
        "        for batch in dataloaders['val']:\n",
        "            inputs = batch['image']\n",
        "            labels = batch['target']\n",
        "            inputs = inputs.to(device)\n",
        "            labels = labels.to(device)\n",
        "\n",
        "            outputs = model(inputs)\n",
        "            _, preds = torch.max(outputs, 1)\n",
        "\n",
        "            for j in range(inputs.size()[0]):\n",
        "                images_so_far += 1\n",
        "                ax = plt.subplot(num_images//2, 2, images_so_far)\n",
        "                ax.axis('off')\n",
        "                ax.set_title('predicted: {}'.format(preds[j]))\n",
        "                imshow(inputs.cpu().data[j])\n",
        "\n",
        "                if images_so_far == num_images:\n",
        "                    model.train(mode=was_training)\n",
        "                    return\n",
        "        model.train(mode=was_training)"
      ]
    },
    {
      "cell_type": "code",
      "execution_count": 20,
      "metadata": {
        "id": "fhpaBTdPxZEV",
        "colab": {
          "base_uri": "https://localhost:8080/",
          "height": 66,
          "referenced_widgets": [
            "4d56a8299d004082bf37ec4482b95216",
            "db0d40362c704dde8d6e4f930f929b88",
            "c11da82639d3402dbcf80e03690ddbc0",
            "71d9f75f8f9445fcb147c43a4adcbfb7",
            "9a1b451efa294635a37b8e644b5dcfba",
            "3e17d65084e14ceba419cbcae09a219b",
            "65b658baebff468fbd73fabfe81df8a5",
            "2be07657a3f84f35a93de1c7fda44b25",
            "538aa41187204f1e96fcd329801d9dfd",
            "83d2216c5d43414fa85de808291bd607",
            "11b5a0cff328488d9bdbd26766716482"
          ]
        },
        "outputId": "1c65f305-39c8-41d3-f8a8-f63f74f09cac"
      },
      "outputs": [
        {
          "output_type": "stream",
          "name": "stderr",
          "text": [
            "Downloading: \"https://download.pytorch.org/models/resnet101-63fe2227.pth\" to /root/.cache/torch/hub/checkpoints/resnet101-63fe2227.pth\n"
          ]
        },
        {
          "output_type": "display_data",
          "data": {
            "application/vnd.jupyter.widget-view+json": {
              "model_id": "4d56a8299d004082bf37ec4482b95216",
              "version_minor": 0,
              "version_major": 2
            },
            "text/plain": [
              "  0%|          | 0.00/171M [00:00<?, ?B/s]"
            ]
          },
          "metadata": {}
        }
      ],
      "source": [
        "model_ft = models.resnet101(pretrained=True)\n",
        "num_ftrs = model_ft.fc.in_features\n",
        "# Here the size of each output sample is set to 2.\n",
        "# Alternatively, it can be generalized to nn.Linear(num_ftrs, len(class_names)).\n",
        "model_ft.fc = nn.Linear(num_ftrs, 2)\n",
        "\n",
        "model_ft = model_ft.to(device)\n",
        "\n",
        "criterion = nn.CrossEntropyLoss()\n",
        "\n",
        "# Observe that all parameters are being optimized\n",
        "lr = 0.001\n",
        "batch_size = 4 \n",
        "optimizer_ft = optim.SGD(model_ft.parameters(), lr=lr, momentum=0.9)\n",
        "\n",
        "# Decay LR by a factor of 0.1 every 7 epochs\n",
        "exp_lr_scheduler = lr_scheduler.StepLR(optimizer_ft, step_size=7, gamma=0.1)"
      ]
    },
    {
      "cell_type": "code",
      "execution_count": null,
      "metadata": {
        "id": "Uqw9OCZaYNEl",
        "colab": {
          "base_uri": "https://localhost:8080/",
          "height": 419,
          "referenced_widgets": [
            "a8f0cb1358f044299ea17352de72d304",
            "4defbda645fe4566ae41876e3ac7c6c3",
            "ea047acd18e1461b96979dcade307c4a",
            "c1bf67d03d8c4cdeb2d7feb207303af2",
            "dd1d4c3e2724490fb2357da37b18ce51",
            "95875d19cefb4a21a10b21a1e47e704b",
            "202b9ac902364fc48d872cd0f574e561",
            "5e158c1590d84f4d837794fce1b25600"
          ]
        },
        "outputId": "33bc81d3-93d3-4dc5-cf80-970913735ff5"
      },
      "outputs": [
        {
          "output_type": "display_data",
          "data": {
            "text/html": [
              "Finishing last run (ID:3k9nqk4n) before initializing another..."
            ],
            "text/plain": [
              "<IPython.core.display.HTML object>"
            ]
          },
          "metadata": {}
        },
        {
          "output_type": "display_data",
          "data": {
            "text/html": [
              "<br/>Waiting for W&B process to finish, PID 427... <strong style=\"color:green\">(success).</strong>"
            ],
            "text/plain": [
              "<IPython.core.display.HTML object>"
            ]
          },
          "metadata": {}
        },
        {
          "output_type": "display_data",
          "data": {
            "application/vnd.jupyter.widget-view+json": {
              "model_id": "a8f0cb1358f044299ea17352de72d304",
              "version_minor": 0,
              "version_major": 2
            },
            "text/plain": [
              "VBox(children=(Label(value=' 0.00MB of 0.00MB uploaded (0.00MB deduped)\\r'), FloatProgress(value=1.0, max=1.0)…"
            ]
          },
          "metadata": {}
        },
        {
          "output_type": "display_data",
          "data": {
            "text/html": [
              "<style>\n",
              "    table.wandb td:nth-child(1) { padding: 0 10px; text-align: right }\n",
              "    .wandb-row { display: flex; flex-direction: row; flex-wrap: wrap; width: 100% }\n",
              "    .wandb-col { display: flex; flex-direction: column; flex-basis: 100%; flex: 1; padding: 10px; }\n",
              "    </style>\n",
              "<div class=\"wandb-row\"><div class=\"wandb-col\">\n",
              "</div><div class=\"wandb-col\">\n",
              "</div></div>\n",
              "Synced 5 W&B file(s), 0 media file(s), 0 artifact file(s) and 0 other file(s)\n",
              "<br/>Synced <strong style=\"color:#cdcd00\">frosty-bee-28</strong>: <a href=\"https://wandb.ai/comptech_cv/comptech/runs/3k9nqk4n\" target=\"_blank\">https://wandb.ai/comptech_cv/comptech/runs/3k9nqk4n</a><br/>\n",
              "Find logs at: <code>./wandb/run-20220205_140116-3k9nqk4n/logs</code><br/>\n"
            ],
            "text/plain": [
              "<IPython.core.display.HTML object>"
            ]
          },
          "metadata": {}
        },
        {
          "output_type": "display_data",
          "data": {
            "text/html": [
              "Successfully finished last run (ID:3k9nqk4n). Initializing new run:<br/>"
            ],
            "text/plain": [
              "<IPython.core.display.HTML object>"
            ]
          },
          "metadata": {}
        },
        {
          "output_type": "display_data",
          "data": {
            "text/html": [
              "\n",
              "                    Syncing run <strong><a href=\"https://wandb.ai/comptech_cv/comptech/runs/242g0p2a\" target=\"_blank\">trim-dust-29</a></strong> to <a href=\"https://wandb.ai/comptech_cv/comptech\" target=\"_blank\">Weights & Biases</a> (<a href=\"https://docs.wandb.com/integrations/jupyter.html\" target=\"_blank\">docs</a>).<br/>\n",
              "\n",
              "                "
            ],
            "text/plain": [
              "<IPython.core.display.HTML object>"
            ]
          },
          "metadata": {}
        },
        {
          "output_type": "stream",
          "name": "stdout",
          "text": [
            "Epoch 0/24\n",
            "----------\n",
            "train Loss: 0.6751 Acc: 0.6885\n",
            "val Loss: 0.6706 Acc: 0.7707\n",
            "Epoch 1/24\n",
            "----------\n",
            "train Loss: 0.5425 Acc: 0.7526\n",
            "val Loss: 0.4342 Acc: 0.8332\n",
            "Epoch 2/24\n",
            "----------\n",
            "train Loss: 0.4032 Acc: 0.8374\n",
            "val Loss: 0.4299 Acc: 0.8127\n",
            "Epoch 3/24\n",
            "----------\n"
          ]
        }
      ],
      "source": [
        "model_ft = train_model(model_ft, criterion, optimizer_ft, exp_lr_scheduler, lr, batch_size,\n",
        "                       num_epochs=25)"
      ]
    },
    {
      "cell_type": "code",
      "execution_count": null,
      "metadata": {
        "id": "3Zwr4i7p4HiX"
      },
      "outputs": [],
      "source": [
        "torch.save(model_ft.state_dict(), '/content/drive/MyDrive/WhoSigned/signature_classifier_state4.pt')"
      ]
    },
    {
      "cell_type": "code",
      "execution_count": null,
      "metadata": {
        "id": "PxbvXfKhplzl"
      },
      "outputs": [],
      "source": [
        "visualize_model(model_ft)"
      ]
    },
    {
      "cell_type": "markdown",
      "metadata": {
        "id": "GaQQYfBPvBzG"
      },
      "source": [
        "#Load model"
      ]
    },
    {
      "cell_type": "code",
      "execution_count": null,
      "metadata": {
        "colab": {
          "base_uri": "https://localhost:8080/"
        },
        "id": "_zhRLKb1-lvw",
        "outputId": "6a69de30-07fc-4d24-ba95-f48074a73dad"
      },
      "outputs": [
        {
          "name": "stdout",
          "output_type": "stream",
          "text": [
            "2048\n"
          ]
        }
      ],
      "source": [
        "model_ft = models.resnet101(pretrained=True)\n",
        "num_ftrs = model_ft.fc.in_features\n",
        "print(num_ftrs)\n",
        "# Here the size of each output sample is set to 2.\n",
        "# Alternatively, it can be generalized to nn.Linear(num_ftrs, len(class_names)).\n",
        "model_ft.fc = torch.nn.Linear(num_ftrs, 2)\n",
        "model_ft.load_state_dict(torch.load(\"/content/drive/MyDrive/WhoSigned/signature_classifier_state4.pt\"))\n",
        "model_ft = model_ft.to(device)"
      ]
    },
    {
      "cell_type": "code",
      "execution_count": null,
      "metadata": {
        "id": "PJ3iRjamQg1w"
      },
      "outputs": [],
      "source": [
        "def run_model(img):\n",
        "  preprocess = transforms.Compose([\n",
        "    transforms.Resize(256),\n",
        "    transforms.CenterCrop(224),\n",
        "    transforms.ToTensor(),\n",
        "    transforms.Normalize(mean=[0.485, 0.456, 0.406], std=[0.229, 0.224, 0.225]),\n",
        "  ])\n",
        "  input = preprocess(img).to(device)\n",
        "  return model_ft(input[None, ...])\n"
      ]
    },
    {
      "cell_type": "markdown",
      "metadata": {
        "id": "UwmqZT9xvF93"
      },
      "source": [
        "Embedding comparison"
      ]
    },
    {
      "cell_type": "code",
      "execution_count": null,
      "metadata": {
        "id": "e4CMIGehyQk1"
      },
      "outputs": [],
      "source": [
        "def compare_embeddings(a, b):\n",
        "  cos = torch.nn.CosineSimilarity(dim=1, eps=1e-6)\n",
        "  return cos(a, b).detach()"
      ]
    },
    {
      "cell_type": "code",
      "execution_count": null,
      "metadata": {
        "id": "9OO8HzRT4K9h"
      },
      "outputs": [],
      "source": [
        "class_names = [\"fake\", \"real\"]\n",
        "\n",
        "def predict(img_path):\n",
        "  img = pil_loader(img_path)\n",
        "\n",
        "  plt.imshow(img)\n",
        "\n",
        "  _, res = torch.max(run_model(img), 1)\n",
        "\n",
        "  return class_names[res]"
      ]
    },
    {
      "cell_type": "markdown",
      "metadata": {
        "id": "bfAT7N7jYvU-"
      },
      "source": [
        "Comparing two signatures"
      ]
    },
    {
      "cell_type": "markdown",
      "metadata": {
        "id": "SaQSd-hDezBc"
      },
      "source": [
        ""
      ]
    },
    {
      "cell_type": "markdown",
      "metadata": {
        "id": "Hkd7AyHQZviV"
      },
      "source": [
        "# Сomparing embeddings\n"
      ]
    },
    {
      "cell_type": "code",
      "execution_count": null,
      "metadata": {
        "id": "Sdz3yzLcaynn"
      },
      "outputs": [],
      "source": [
        "def create_embedding(img, model):\n",
        "  input = pil_loader(img)\n",
        "  model.fc = torch.nn.Linear(2048, 512)\n",
        "  model = model.to(device)\n",
        "  preprocess = transforms.Compose([\n",
        "    transforms.Resize(256),\n",
        "    transforms.CenterCrop(224),\n",
        "    transforms.ToTensor(),\n",
        "    transforms.Normalize(mean=[0.485, 0.456, 0.406], std=[0.229, 0.224, 0.225]),\n",
        "  ])\n",
        "  input = preprocess(input).to(device)\n",
        "\n",
        "  return model_ft(input[None, ...])"
      ]
    },
    {
      "cell_type": "markdown",
      "metadata": {
        "id": "57yjiuIvSm4g"
      },
      "source": [
        ""
      ]
    },
    {
      "cell_type": "markdown",
      "metadata": {
        "id": "d0MWwJUTJK0v"
      },
      "source": [
        "# Test Model\n"
      ]
    },
    {
      "cell_type": "code",
      "execution_count": null,
      "metadata": {
        "id": "ZpFFpzrOJPmu"
      },
      "outputs": [],
      "source": [
        "test_images = \"/content/drive/MyDrive/Signature_Verification_Dataset/sign_data/test\"\n",
        "\n",
        "real_signs = [f for f in glob(f\"{test_images}/*/*\") if \"_forg\" not in f]\n",
        "\n",
        "fake_signs = [f for f in glob(f\"{test_images}/*/*\") if \"_forg\" in f]\n",
        "\n",
        "counter = 0\n",
        "\n",
        "for sign in real_signs:\n",
        "  if predict(sign) == 'real':\n",
        "    counter += 1\n",
        "\n",
        "\n",
        "print (f\"error = {counter/len(real_signs)}\")\n",
        "\n",
        "counter = 0\n",
        "\n",
        "for sign in fake_signs:\n",
        "  if predict(sign) == 'fake':\n",
        "    counter += 1\n",
        "\n",
        "print (f\"error = {counter/len(fake_signs)}\")\n"
      ]
    },
    {
      "cell_type": "markdown",
      "metadata": {
        "id": "-n1AllgM8xlI"
      },
      "source": [
        "# Siamese Network Model"
      ]
    },
    {
      "cell_type": "code",
      "execution_count": null,
      "metadata": {
        "id": "p-Q8OerU81o5"
      },
      "outputs": [],
      "source": [
        "class SiameseNetwork(nn.Module):\n",
        "    def __init__(self):\n",
        "        super(SiameseNetwork, self).__init__()\n",
        "        \n",
        "        # Setting up the Sequential of CNN Layers\n",
        "        self.cnn1 = nn.Sequential(\n",
        "            \n",
        "            nn.Conv2d(1, 96, kernel_size=11,stride=1),\n",
        "            nn.ReLU(inplace=True),\n",
        "            nn.LocalResponseNorm(5,alpha=0.0001,beta=0.75,k=2),\n",
        "            nn.MaxPool2d(3, stride=2),\n",
        "            \n",
        "            nn.Conv2d(96, 256, kernel_size=5,stride=1,padding=2),\n",
        "            nn.ReLU(inplace=True),\n",
        "            nn.LocalResponseNorm(5,alpha=0.0001,beta=0.75,k=2),\n",
        "            nn.MaxPool2d(3, stride=2),\n",
        "            nn.Dropout2d(p=0.3),\n",
        "\n",
        "            nn.Conv2d(256,384 , kernel_size=3,stride=1,padding=1),\n",
        "            nn.ReLU(inplace=True),\n",
        "            nn.Conv2d(384,256 , kernel_size=3,stride=1,padding=1),\n",
        "            nn.ReLU(inplace=True),\n",
        "            nn.MaxPool2d(3, stride=2),\n",
        "            nn.Dropout2d(p=0.3),\n",
        "\n",
        "        )\n",
        "        \n",
        "        # Defining the fully connected layers\n",
        "        self.fc1 = nn.Sequential(\n",
        "            nn.Linear(30976, 1024),\n",
        "            nn.ReLU(inplace=True),\n",
        "            nn.Dropout2d(p=0.5),\n",
        "            \n",
        "            nn.Linear(1024, 128),\n",
        "            nn.ReLU(inplace=True),\n",
        "            \n",
        "            nn.Linear(128,2))\n",
        "        \n",
        "  \n",
        "  \n",
        "    def forward_once(self, x):\n",
        "        # Forward pass \n",
        "        output = self.cnn1(x)\n",
        "        output = output.view(output.size()[0], -1)\n",
        "        output = self.fc1(output)\n",
        "        return output\n",
        "\n",
        "    def forward(self, input1, input2):\n",
        "        # forward pass of input 1\n",
        "        output1 = self.forward_once(input1)\n",
        "        # forward pass of input 2\n",
        "        output2 = self.forward_once(input2)\n",
        "        return output1, output2"
      ]
    },
    {
      "cell_type": "code",
      "execution_count": null,
      "metadata": {
        "colab": {
          "base_uri": "https://localhost:8080/"
        },
        "id": "ZrOEVc0i9NmW",
        "outputId": "48236e1f-efdf-47b5-db56-4ab855946807"
      },
      "outputs": [
        {
          "data": {
            "text/plain": [
              "<All keys matched successfully>"
            ]
          },
          "execution_count": 4,
          "metadata": {},
          "output_type": "execute_result"
        }
      ],
      "source": [
        "device = torch.device('cuda' if torch.cuda.is_available() else 'cpu')\n",
        "model = SiameseNetwork().to(device)\n",
        "model.load_state_dict(torch.load(\"/content/drive/MyDrive/WhoSigned/model.pt\"))"
      ]
    },
    {
      "cell_type": "code",
      "execution_count": null,
      "metadata": {
        "id": "voVQz2dO-caN"
      },
      "outputs": [],
      "source": [
        "def create_embedding_siamese(img_path):\n",
        "  preprocessing = transforms.Compose([transforms.Resize((105,105)), transforms.ToTensor()])\n",
        "  img = Image.open(img_path)\n",
        "  img = preprocessing(img.convert(\"L\")).unsqueeze(0)\n",
        "  output,_ = model(img.to(device), img.to(device))\n",
        "  return output.detach()\n",
        "\n"
      ]
    },
    {
      "cell_type": "code",
      "execution_count": null,
      "metadata": {
        "colab": {
          "base_uri": "https://localhost:8080/",
          "height": 574
        },
        "id": "JZeKijVh9R4N",
        "outputId": "0c610f0e-0c2a-4b0c-e16c-8a40448d2e7e"
      },
      "outputs": [
        {
          "name": "stdout",
          "output_type": "stream",
          "text": [
            "Real vs Fake\n",
            "Output 1: tensor([[-0.0593,  1.1785]], device='cuda:0', grad_fn=<AddmmBackward0>) \n",
            " Output 2: tensor([[0.4643, 1.1206]], device='cuda:0', grad_fn=<AddmmBackward0>)\n",
            "0.9034412503242493\n",
            "Actual Label:- Forged Pair Of Signature\n"
          ]
        },
        {
          "data": {
            "image/png": "[encoded data removed]",
            "text/plain": [
              "<Figure size 432x288 with 1 Axes>"
            ]
          },
          "metadata": {},
          "output_type": "display_data"
        },
        {
          "name": "stdout",
          "output_type": "stream",
          "text": [
            "============================================================\n",
            "Real vs Real\n",
            "Output 1: tensor([[0.7022, 1.4496]], device='cuda:0', grad_fn=<AddmmBackward0>) \n",
            " Output 2: tensor([[0.9037, 0.6770]], device='cuda:0', grad_fn=<AddmmBackward0>)\n",
            "0.8884631395339966\n",
            "Actual Label:- Forged Pair Of Signature\n"
          ]
        },
        {
          "data": {
            "image/png": "[encoded data removed]",
            "text/plain": [
              "<Figure size 432x288 with 1 Axes>"
            ]
          },
          "metadata": {},
          "output_type": "display_data"
        }
      ],
      "source": [
        "def imshow(img,text=None,should_save=False):\n",
        "    npimg = img.numpy()\n",
        "    plt.axis(\"off\")\n",
        "    if text:\n",
        "        plt.text(75, 8, text, style='italic',fontweight='bold',\n",
        "            bbox={'facecolor':'white', 'alpha':0.8, 'pad':10})\n",
        "    plt.imshow(np.transpose(npimg, (1, 2, 0)))\n",
        "    plt.show()    \n",
        "\n",
        "\n",
        "def test_siamese(img_path_1, img_path_2):\n",
        "  preprocessing = transforms.Compose([transforms.Resize((105,105)), transforms.ToTensor()])\n",
        "  img1 = Image.open(img_path_1)\n",
        "  img2 = Image.open(img_path_2)\n",
        "  img1 = preprocessing(img1.convert(\"L\")).unsqueeze(0)\n",
        "  img2 = preprocessing(img2.convert(\"L\")).unsqueeze(0)\n",
        "  concatenated = torch.cat((img1,img2))\n",
        "\n",
        "  output1,output2 = model(img1.to(device),img2.to(device))\n",
        "  print(f\"Output 1: {output1} \\n Output 2: {output2}\")\n",
        "  eucledian_distance = nn.functional.pairwise_distance(output1, output2)\n",
        "  # print(f\"Euclidian distance {eucledian_distance.item()}\")\n",
        "  cosine = compare_embeddings(output1,output2)\n",
        "  print(cosine.item())\n",
        "  if eucledian_distance.item() <= 0.5:\n",
        "      label = \"Original Pair Of Signature\"\n",
        "  else:\n",
        "      label = \"Forged Pair Of Signature\"\n",
        "  print(\"Actual Label:-\", label)\n",
        "\n",
        "  imshow(torchvision.utils.make_grid(concatenated),'Dissimilarity: {:.2f}'.format(eucledian_distance.item()))\n",
        "\n",
        "\n",
        "real_1_path = \"/content/drive/MyDrive/WhoSigned/my_signatures/real_1.jpg\"\n",
        "real_2_path = \"/content/drive/MyDrive/WhoSigned/my_signatures/real_2.jpg\"\n",
        "fake_1_path = \"/content/drive/MyDrive/WhoSigned/my_signatures/fake_1.jpg\"\n",
        "\n",
        "print('Real vs Fake')\n",
        "test_siamese(real_1_path, fake_1_path)\n",
        "print(\"=\"*60)\n",
        "print('Real vs Real')\n",
        "\n",
        "test_siamese(real_1_path, real_2_path)"
      ]
    },
    {
      "cell_type": "markdown",
      "metadata": {
        "id": "BdJK4iSstfxs"
      },
      "source": [
        "# Database (SQLite)"
      ]
    },
    {
      "cell_type": "code",
      "execution_count": null,
      "metadata": {
        "id": "UmYlXmgwtdUR"
      },
      "outputs": [],
      "source": [
        "\"\"\"\n",
        "Datbase\n",
        "\"\"\"\n",
        "\n",
        "import sqlite3\n",
        "import pickle\n",
        "\n",
        "\n",
        "class MetaSingleton(type):\n",
        "  \"\"\"\n",
        "  Class represents Sinfleton-pattern for database\n",
        "  \"\"\"\n",
        "  _instances = {}\n",
        "\n",
        "  def __call__(cls, *args, **kwargs):\n",
        "      if cls not in cls._instances:\n",
        "          cls._instances[cls] = super(MetaSingleton, cls).__call__(*args, **kwargs)\n",
        "      return cls._instances[cls]\n",
        "\n",
        "\n",
        "class Database(metaclass=MetaSingleton):\n",
        "  \"\"\"\n",
        "  Class represents database\n",
        "  \"\"\"\n",
        "  def __init__(self, path=\"\"):\n",
        "    \"\"\"\n",
        "    Initilization of database\n",
        "    :param path: absolute path without filename to database(default =\"\")\n",
        "    \"\"\"\n",
        "    db_filepath = path + \"signatures.db\"\n",
        "\n",
        "    if not os.path.exists(db_filepath):\n",
        "      open(db_filepath, 'a').close()\n",
        "\n",
        "    if path == \"\":\n",
        "        self.conn = sqlite3.connect(db_filepath, check_same_thread=False)\n",
        "    else:\n",
        "        self.conn = sqlite3.connect(db_filepath, check_same_thread=False)\n",
        "\n",
        "    self.cur = self.conn.cursor()\n",
        "    self.cur.execute(\"DROP TABLE IF EXISTS signatures;\")\n",
        "    self.cur.execute('''CREATE TABLE IF NOT EXISTS signatures\n",
        "        (id INTEGER PRIMARY KEY NOT NULL,\n",
        "        uid BIG INT,\n",
        "        sign BLOB);''')\n",
        "    self.conn.commit()\n",
        "\n",
        "  def insert_sign(self, sign, uid):\n",
        "    \"\"\"\n",
        "    Method implements inserting sign and uid to database\n",
        "    :param sign: embedding of signature photo\n",
        "    :param uid: uid of sender in telegram to insert in database\n",
        "    \"\"\"\n",
        "    try:\n",
        "        sqlite_insert_query = 'INSERT INTO signatures(sign, uid) VALUES (?, ?)'\n",
        "        self.cur.execute(sqlite_insert_query, (sqlite3.Binary(pickle.dumps(sign)), uid))\n",
        "        self.conn.commit()\n",
        "        return uid\n",
        "    except sqlite3.Error as error:\n",
        "        print(\"Error while working with SQLite\", error)\n",
        "\n",
        "  def check_signs(self, sign):\n",
        "    \"\"\"\n",
        "    Method implements checking if sign exists in database\n",
        "    :param sign: embedding of signature photo to check\n",
        "    \"\"\"\n",
        "    try:\n",
        "        sqlite_select_query = 'SELECT uid FROM signatures WHERE sign == ?'\n",
        "        answer = self.cur.execute(sqlite_select_query,\n",
        "                                  (sqlite3.Binary(pickle.dumps(sign)),)).fetchone()\n",
        "        if answer is None:\n",
        "            return None\n",
        "        else:\n",
        "            return answer[0]\n",
        "    except sqlite3.Error as error:\n",
        "        print(\"Error while working with SQLite\", error)\n",
        "\n",
        "  def get_sign_by_id(self, id):\n",
        "    \"\"\"\n",
        "    Method implements getting information from database by id\n",
        "    :param id: id to fetch from database\n",
        "    \"\"\"\n",
        "    try:\n",
        "        sqlite_select_query = 'SELECT sign FROM signatures WHERE id == ?'\n",
        "        answer = self.cur.execute(sqlite_select_query, (id,)).fetchone()\n",
        "        if answer is None:\n",
        "            return []\n",
        "        else:\n",
        "            return pickle.loads(answer[0])\n",
        "    except sqlite3.Error as error:\n",
        "        print(\"Error while working with SQLite\", error)\n",
        "\n",
        "  def get_sign_by_uid(self, uid):\n",
        "    \"\"\"\n",
        "    Method implements getting information from database by uid\n",
        "    :param uid:uid to fetch from database\n",
        "    \"\"\"\n",
        "    try:\n",
        "        sqlite_select_query = 'SELECT sign FROM signatures WHERE uid == ?'\n",
        "        answer = self.cur.execute(sqlite_select_query, (uid,)).fetchone()\n",
        "        if answer is None:\n",
        "            return []\n",
        "        else:\n",
        "            return pickle.loads(answer[0])\n",
        "    except sqlite3.Error as error:\n",
        "        print(\"Error while working with SQLite\", error)\n",
        "\n",
        "  def delete_sign_by_uid(self, sign):\n",
        "    \"\"\"\n",
        "    Method implements deleting information from database by uid\n",
        "    :param sign: sign uid to delete from database\n",
        "    \"\"\"\n",
        "    try:\n",
        "        sqlite_delete_query = 'DELETE FROM signatures WHERE uid = ?'\n",
        "        self.cur.execute(sqlite_delete_query, (sign,))\n",
        "    except sqlite3.Error as error:\n",
        "        print(\"Error while working with SQLite\", error)\n",
        "\n",
        "  def delete_sign_by_id(self, id):\n",
        "    \"\"\"\n",
        "    Method implements deleting information from database by id\n",
        "    :param id: id to delete from database\n",
        "    \"\"\"\n",
        "    try:\n",
        "        sqlite_delete_query = 'DELETE FROM signatures WHERE id = ?'\n",
        "        self.cur.execute(sqlite_delete_query, (id,))\n",
        "    except sqlite3.Error as error:\n",
        "        print(\"Error while working with SQLite\", error)\n",
        "\n",
        "  def __del__(self):\n",
        "    \"\"\"\n",
        "    Destructor of database class\n",
        "    \"\"\"\n",
        "    self.cur.close()\n",
        "    self.conn.close()\n",
        "    print('Connection closed')\n"
      ]
    },
    {
      "cell_type": "markdown",
      "metadata": {
        "id": "X8h0-78JwSJj"
      },
      "source": [
        "# Bot\n"
      ]
    },
    {
      "cell_type": "code",
      "execution_count": null,
      "metadata": {
        "id": "uqX6ovGvwXFb"
      },
      "outputs": [],
      "source": [
        "path = \"/content/drive/MyDrive/photos\"\n",
        "# Check if file exists\n",
        "if os.path.isfile(path):\n",
        "  os.mkdir(path)"
      ]
    },
    {
      "cell_type": "code",
      "execution_count": null,
      "metadata": {
        "id": "0Png1j-FxLub"
      },
      "outputs": [],
      "source": [
        "\n",
        "\"\"\"\n",
        "Bot\n",
        "\"\"\"\n",
        "import requests\n",
        "from PIL import Image\n",
        "\n",
        "\n",
        "class Bot:\n",
        "    \"\"\"\n",
        "    Class represents telegram bot\n",
        "    \"\"\"\n",
        "    def __init__(self, token, server_url):\n",
        "        \"\"\"\n",
        "        Initilization of bot\n",
        "        :param token: bot'token from @BotFather\n",
        "        :param server_url: utl to set webhook\n",
        "        \"\"\"\n",
        "        self.token = token\n",
        "        self.server_url = server_url\n",
        "        self.set_webhook()\n",
        "\n",
        "    def make_api_url(self, method):\n",
        "        \"\"\"\n",
        "        Method to create API url to telegram\n",
        "        :param method: bot's method\n",
        "        :return: string url\n",
        "        \"\"\"\n",
        "        return f\"https://api.telegram.org/bot{self.token}/{method}\"\n",
        "\n",
        "    def set_webhook(self):\n",
        "        \"\"\"\n",
        "        Method to set webhook\n",
        "        :return: response in JSON\n",
        "        \"\"\"\n",
        "        method = \"setWebhook\"\n",
        "        api_url = self.make_api_url(method)\n",
        "        post_data = {\n",
        "            \"url\": self.server_url,\n",
        "        }\n",
        "        req = requests.post(api_url, data=post_data, headers={'header': 'Content-Type: application/json'})\n",
        "        return req.json()\n",
        "\n",
        "    def send_message(self, chat_id, text):\n",
        "        \"\"\"\n",
        "        Send message to tg user with text\n",
        "        :param chat_id: user/group to send message\n",
        "        :param text:  to send\n",
        "        \"\"\"\n",
        "        method = \"sendMessage\"\n",
        "        url = self.make_api_url(method)\n",
        "        data = {\"chat_id\": chat_id, \"text\": text}\n",
        "        requests.post(url, data=data)\n",
        "\n",
        "    def get_photo_path(self, photo_id):\n",
        "        \"\"\"\n",
        "        Method to get photo path by photo id\n",
        "        :param photo_id: of user's photo\n",
        "        :return: photo_path\n",
        "        \"\"\"\n",
        "        method = \"getFile\"\n",
        "        api_url = self.make_api_url(method)\n",
        "        post_data = {\n",
        "            'file_id': photo_id,\n",
        "            \"url\": self.server_url\n",
        "        }\n",
        "        req = requests.post(api_url, data=post_data, headers={'header': 'Content-Type: application/json'})\n",
        "        return req.json()['result']['file_path']\n",
        "\n",
        "    def get_photo(self, photo_id):\n",
        "        \"\"\"\n",
        "        Method to  get photo with telegram api\n",
        "        :param photo_id:  of user's photo\n",
        "        :return: photo_path, opens requested image\n",
        "        \"\"\"\n",
        "        photo_path = self.get_photo_path(photo_id)\n",
        "        photo_url = f'https://api.telegram.org/file/bot{self.token}/{photo_path}'\n",
        "        return photo_path, Image.open(requests.get(photo_url, stream=True).raw)"
      ]
    },
    {
      "cell_type": "code",
      "execution_count": null,
      "metadata": {
        "colab": {
          "base_uri": "https://localhost:8080/"
        },
        "id": "BQ_IqDuAwh1L",
        "outputId": "3ae65a57-43fc-4de7-d328-dd49ab0819f8"
      },
      "outputs": [
        {
          "name": "stdout",
          "output_type": "stream",
          "text": [
            "Requirement already satisfied: pyngrok in /usr/local/lib/python3.7/dist-packages (5.1.0)\n",
            "Requirement already satisfied: PyYAML in /usr/local/lib/python3.7/dist-packages (from pyngrok) (3.13)\n",
            " * ngrok tunnel \"http://44a9-35-245-32-41.ngrok.io\" -> \"http://127.0.0.1:5000\"\n"
          ]
        }
      ],
      "source": [
        "port = 5000\n",
        "\n",
        "ngrok_token = os.getenv('NGROK_TOKEN')\n",
        "\n",
        "#Setting an auth token allows us to open multiple tunnels at the same time\n",
        "ngrok.set_auth_token(ngrok_token)\n",
        "\n",
        "# Open a ngrok tunnel to the HTTP server\n",
        "public_url = ngrok.connect(port).public_url\n",
        "print(\" * ngrok tunnel \\\"{}\\\" -> \\\"http://127.0.0.1:{}\\\"\".format(public_url, port))"
      ]
    },
    {
      "cell_type": "code",
      "execution_count": null,
      "metadata": {
        "colab": {
          "base_uri": "https://localhost:8080/"
        },
        "id": "75cH7vItwl1q",
        "outputId": "957f9a1c-ca92-452a-bc5d-6bd9488f0aab"
      },
      "outputs": [
        {
          "name": "stdout",
          "output_type": "stream",
          "text": [
            "https://44a9-35-245-32-41.ngrok.io\n"
          ]
        }
      ],
      "source": [
        "app = Flask(__name__)\n",
        "\n",
        "# Update any base URLs to use the public ngrok URL\n",
        "app.config[\"BASE_URL\"] = \"https\" + public_url.split('http')[1]\n",
        "print(app.config[\"BASE_URL\"])\n",
        "\n",
        "token = os.getenv('BOT_TOKEN')\n",
        "bot = Bot(token, app.config[\"BASE_URL\"])\n",
        "\n",
        "drive_dir = '/content/drive/MyDrive/'\n",
        "\n",
        "approve_clients = []\n",
        "\n",
        "\n",
        "db = Database()\n",
        "\n",
        "\n",
        "def download_photo(bot, message, download_path=None):\n",
        "    if \"photo\" in message:\n",
        "      photo_path, downloaded_photo = bot.get_photo(message[\"photo\"][0]['file_id'])\n",
        "    elif \"document\" in message:\n",
        "      photo_path, downloaded_photo = bot.get_photo(message[\"document\"][\"thumb\"]['file_id'])\n",
        "      photo_path = \"photos\" + photo_path.split(\"thumbnails\")[1]\n",
        "    else:\n",
        "      return \"\"\n",
        "    if download_path is None:\n",
        "      download_path = drive_dir + photo_path\n",
        "    downloaded_photo.save(download_path)\n",
        "    return download_path\n",
        "\n",
        "@app.route(\"/\", methods=[\"GET\", \"POST\"])\n",
        "def receive_update():\n",
        "  if request.method == \"POST\":\n",
        "      print(request.json)\n",
        "      message = request.json[\"message\"]\n",
        "      chat_id = message[\"chat\"][\"id\"]\n",
        "      photos = message.get(\"photo\")\n",
        "      uid = message[\"from\"][\"id\"]\n",
        "\n",
        "      # /my_sign + photo - functionality\n",
        "      if (\"caption_entities\" in message and message[\"caption\"] == \"/my_sign\" and message[\"caption_entities\"][0][\"type\"] == \"bot_command\" and \n",
        "          (\"photo\" in message) or (\"document\" in message and message[\"document\"][\"mime_type\"].split(\"/\")[0] == \"image\") ) or (uid  in approve_clients):\n",
        "\n",
        "        # сохранить фото\n",
        "        dpath = download_photo(bot, message, drive_dir + \"photos/\" + str(uid) + \".jpg\")\n",
        "\n",
        "        # посмотреть, если uid уже есть в бд\n",
        "        # если есть, то:\n",
        "        if (uid not in approve_clients) and (db.get_sign_by_uid(uid) != []):\n",
        "          bot.send_message(chat_id, \"Do you want to change your signature? (yes/no)\")\n",
        "          approve_clients.append(uid)\n",
        "\n",
        "        else:\n",
        "        # проверяем если ответ нет, то:\n",
        "          if \"text\" in message and message[\"text\"] == \"no\" and uid in approve_clients:\n",
        "            approve_clients.remove(uid)\n",
        "            dpath = drive_dir + \"photos/\" + str(uid) + \".jpg\"\n",
        "            os.remove(dpath)\n",
        "            bot.send_message(chat_id, \"Ok\")\n",
        "        #если да или это новый пользователь, то добавляем    \n",
        "          elif (\"text\" in message and message[\"text\"] == \"yes\") or db.get_sign_by_uid(uid)== []:\n",
        "            if db.get_sign_by_uid(uid)!= [] :\n",
        "              db.delete_sign_by_uid(uid)\n",
        "              approve_clients.remove(uid)\n",
        "              dpath = drive_dir + \"photos/\" + str(uid) + \".jpg\"\n",
        "\n",
        "            # сделать embedding\n",
        "            embedding = create_embedding(dpath)\n",
        "\n",
        "            # занести под uid embedding в бд\n",
        "            db.insert_sign(embedding, uid)\n",
        "\n",
        "            # удалить фото\n",
        "            os.remove(dpath)\n",
        "            bot.send_message(chat_id, \"Success! Now you can verify signature\")\n",
        "\n",
        "      #тоже решил объединить все виды фоточек\n",
        "      elif (\"photo\" in message) or (\"document\" in message and message[\"document\"][\"mime_type\"].split(\"/\")[0] == \"image\"):\n",
        "        if (db.get_sign_by_uid(uid) == []):\n",
        "            bot.send_message(chat_id, \"Oof, can you send photo/scan of your signature with caption - /my_sign ?\")\n",
        "        else:\n",
        "\n",
        "          dpath = download_photo(bot, message)\n",
        "\n",
        "          res = predict(dpath)\n",
        "          print(res)\n",
        "          \n",
        "          #compare embeddings\n",
        "          embedding = create_embedding(dpath)\n",
        "          print(embedding, db.get_sign_by_uid(uid))\n",
        "          print(compare_embeddings(embedding, db.get_sign_by_uid(uid)))\n",
        "\n",
        "          # Delete photo after processing\n",
        "          os.remove(dpath)\n",
        "\n",
        "          bot.send_message(chat_id, res)\n",
        "\n",
        "      # Start command\n",
        "      elif \"entities\" in message and message[\"text\"] == \"/start\" and message[\"entities\"][0][\"type\"] == \"bot_command\":\n",
        "          bot.send_message(chat_id, \"Hello, %s! Can you send me scan of your signature?\" % (message[\"from\"][\"first_name\"]))\n",
        "      # Otherwise\n",
        "      else:\n",
        "          bot.send_message(chat_id, \"It's not a photo of signature\")\n",
        "\n",
        "  return message\n",
        "\n",
        "# Start the Flask server in a new thread\n",
        "# threading.Thread(target=app.run, kwargs={\"use_reloader\": False}).start()"
      ]
    },
    {
      "cell_type": "code",
      "execution_count": null,
      "metadata": {
        "colab": {
          "background_save": true,
          "base_uri": "https://localhost:8080/"
        },
        "id": "3_8TF0XY1ZNL",
        "outputId": "372a880e-ed06-46b7-add4-315ac7e99b18"
      },
      "outputs": [
        {
          "name": "stdout",
          "output_type": "stream",
          "text": [
            " * Serving Flask app \"__main__\" (lazy loading)\n",
            " * Environment: production\n",
            "\u001b[31m   WARNING: This is a development server. Do not use it in a production deployment.\u001b[0m\n",
            "\u001b[2m   Use a production WSGI server instead.\u001b[0m\n",
            " * Debug mode: off\n"
          ]
        },
        {
          "name": "stderr",
          "output_type": "stream",
          "text": [
            " * Running on http://127.0.0.1:5000/ (Press CTRL+C to quit)\n"
          ]
        },
        {
          "name": "stdout",
          "output_type": "stream",
          "text": [
            "{'update_id': 170344936, 'message': {'message_id': 446, 'from': {'id': 376088940, 'is_bot': False, 'first_name': 'Borya', 'username': 'boryapatrushev', 'language_code': 'en'}, 'chat': {'id': 376088940, 'first_name': 'Borya', 'username': 'boryapatrushev', 'type': 'private'}, 'date': 1644042697, 'photo': [{'file_id': 'AgACAgIAAxkBAAIBvmH-GcnBwFnKqLvrEREkHHRJm06nAAIHtjEbdeTxS-PsJwT_HkgUAQADAgADcwADIwQ', 'file_unique_id': 'AQADB7YxG3Xk8Ut4', 'file_size': 1359, 'width': 90, 'height': 76}, {'file_id': 'AgACAgIAAxkBAAIBvmH-GcnBwFnKqLvrEREkHHRJm06nAAIHtjEbdeTxS-PsJwT_HkgUAQADAgADbQADIwQ', 'file_unique_id': 'AQADB7YxG3Xk8Uty', 'file_size': 19223, 'width': 320, 'height': 271}, {'file_id': 'AgACAgIAAxkBAAIBvmH-GcnBwFnKqLvrEREkHHRJm06nAAIHtjEbdeTxS-PsJwT_HkgUAQADAgADeAADIwQ', 'file_unique_id': 'AQADB7YxG3Xk8Ut9', 'file_size': 25251, 'width': 440, 'height': 372}]}}\n"
          ]
        },
        {
          "name": "stderr",
          "output_type": "stream",
          "text": [
            "127.0.0.1 - - [05/Feb/2022 06:31:37] \"\u001b[37mPOST / HTTP/1.1\u001b[0m\" 200 -\n"
          ]
        },
        {
          "name": "stdout",
          "output_type": "stream",
          "text": [
            "{'update_id': 170344937, 'message': {'message_id': 448, 'from': {'id': 376088940, 'is_bot': False, 'first_name': 'Borya', 'username': 'boryapatrushev', 'language_code': 'en'}, 'chat': {'id': 376088940, 'first_name': 'Borya', 'username': 'boryapatrushev', 'type': 'private'}, 'date': 1644042723, 'photo': [{'file_id': 'AgACAgIAAxkBAAIBwGH-GePhxfgNSt7FA61B6RgjLQyXAAIHtjEbdeTxS-PsJwT_HkgUAQADAgADcwADIwQ', 'file_unique_id': 'AQADB7YxG3Xk8Ut4', 'file_size': 1359, 'width': 90, 'height': 76}, {'file_id': 'AgACAgIAAxkBAAIBwGH-GePhxfgNSt7FA61B6RgjLQyXAAIHtjEbdeTxS-PsJwT_HkgUAQADAgADbQADIwQ', 'file_unique_id': 'AQADB7YxG3Xk8Uty', 'file_size': 19223, 'width': 320, 'height': 271}, {'file_id': 'AgACAgIAAxkBAAIBwGH-GePhxfgNSt7FA61B6RgjLQyXAAIHtjEbdeTxS-PsJwT_HkgUAQADAgADeAADIwQ', 'file_unique_id': 'AQADB7YxG3Xk8Ut9', 'file_size': 25251, 'width': 440, 'height': 372}], 'caption': '/my_sign', 'caption_entities': [{'offset': 0, 'length': 8, 'type': 'bot_command'}]}}\n"
          ]
        },
        {
          "name": "stderr",
          "output_type": "stream",
          "text": [
            "127.0.0.1 - - [05/Feb/2022 06:32:04] \"\u001b[37mPOST / HTTP/1.1\u001b[0m\" 200 -\n"
          ]
        }
      ],
      "source": [
        "app.run()"
      ]
    },
    {
      "cell_type": "code",
      "execution_count": null,
      "metadata": {
        "colab": {
          "base_uri": "https://localhost:8080/"
        },
        "id": "P1S-bt-1oY2D",
        "outputId": "dbd54653-6ebe-4cbd-943a-7a118065b271"
      },
      "outputs": [
        {
          "name": "stdout",
          "output_type": "stream",
          "text": [
            "Collecting pipreqsnb\n",
            "  Downloading pipreqsnb-0.2.4.tar.gz (3.7 kB)\n",
            "Collecting pipreqs\n",
            "  Downloading pipreqs-0.4.11-py2.py3-none-any.whl (32 kB)\n",
            "Collecting yarg\n",
            "  Downloading yarg-0.1.9-py2.py3-none-any.whl (19 kB)\n",
            "Requirement already satisfied: docopt in /usr/local/lib/python3.7/dist-packages (from pipreqs->pipreqsnb) (0.6.2)\n",
            "Requirement already satisfied: requests in /usr/local/lib/python3.7/dist-packages (from yarg->pipreqs->pipreqsnb) (2.23.0)\n",
            "Requirement already satisfied: urllib3!=1.25.0,!=1.25.1,<1.26,>=1.21.1 in /usr/local/lib/python3.7/dist-packages (from requests->yarg->pipreqs->pipreqsnb) (1.24.3)\n",
            "Requirement already satisfied: certifi>=2017.4.17 in /usr/local/lib/python3.7/dist-packages (from requests->yarg->pipreqs->pipreqsnb) (2021.10.8)\n",
            "Requirement already satisfied: chardet<4,>=3.0.2 in /usr/local/lib/python3.7/dist-packages (from requests->yarg->pipreqs->pipreqsnb) (3.0.4)\n",
            "Requirement already satisfied: idna<3,>=2.5 in /usr/local/lib/python3.7/dist-packages (from requests->yarg->pipreqs->pipreqsnb) (2.10)\n",
            "Building wheels for collected packages: pipreqsnb\n",
            "  Building wheel for pipreqsnb (setup.py) ... \u001b[?25l\u001b[?25hdone\n",
            "  Created wheel for pipreqsnb: filename=pipreqsnb-0.2.4-py3-none-any.whl size=4142 sha256=6cf42e4cf5d425c0cfeb02267e67f4d800e9b2d8db6edd543eb7e4ac947ee201\n",
            "  Stored in directory: /root/.cache/pip/wheels/23/7f/59/7a87faea552278c8ef0c171ea4d27494eb91ac9380567239b6\n",
            "Successfully built pipreqsnb\n",
            "Installing collected packages: yarg, pipreqs, pipreqsnb\n",
            "Successfully installed pipreqs-0.4.11 pipreqsnb-0.2.4 yarg-0.1.9\n",
            "Exception occurred while working on file /content/drive/MyDrive/Colab Notebooks/Untitled1.ipynb, cell 3/26\n",
            "Traceback (most recent call last):\n",
            "  File \"/usr/local/bin/pipreqsnb\", line 8, in <module>\n",
            "    sys.exit(main())\n",
            "  File \"/usr/local/lib/python3.7/dist-packages/pipreqsnb/pipreqsnb.py\", line 130, in main\n",
            "    raise e\n",
            "  File \"/usr/local/lib/python3.7/dist-packages/pipreqsnb/pipreqsnb.py\", line 126, in main\n",
            "    imports += get_import_string_from_source(source)\n",
            "  File \"/usr/local/lib/python3.7/dist-packages/pipreqsnb/pipreqsnb.py\", line 26, in get_import_string_from_source\n",
            "    tree = ast.parse(source)\n",
            "  File \"/usr/lib/python3.7/ast.py\", line 35, in parse\n",
            "    return compile(source, filename, mode, PyCF_ONLY_AST)\n",
            "  File \"<unknown>\", line 1\n",
            "    ls storage/emulated/0/Download/SkuChangeRequests.csv\n",
            "             ^\n",
            "SyntaxError: invalid syntax\n"
          ]
        }
      ],
      "source": [
        "!pip install pipreqsnb\n",
        "!pipreqsnb --force\n"
      ]
    }
  ],
  "metadata": {
    "accelerator": "GPU",
    "colab": {
      "collapsed_sections": [],
      "name": "Копия Who_signed_1 (with Bot).ipynb",
      "provenance": [],
      "toc_visible": true
    },
    "kernelspec": {
      "display_name": "Python 3",
      "name": "python3"
    },
    "language_info": {
      "name": "python"
    },
    "widgets": {
      "application/vnd.jupyter.widget-state+json": {
        "4d56a8299d004082bf37ec4482b95216": {
          "model_module": "@jupyter-widgets/controls",
          "model_name": "HBoxModel",
          "model_module_version": "1.5.0",
          "state": {
            "_view_name": "HBoxView",
            "_dom_classes": [],
            "_model_name": "HBoxModel",
            "_view_module": "@jupyter-widgets/controls",
            "_model_module_version": "1.5.0",
            "_view_count": null,
            "_view_module_version": "1.5.0",
            "box_style": "",
            "layout": "IPY_MODEL_db0d40362c704dde8d6e4f930f929b88",
            "_model_module": "@jupyter-widgets/controls",
            "children": [
              "IPY_MODEL_c11da82639d3402dbcf80e03690ddbc0",
              "IPY_MODEL_71d9f75f8f9445fcb147c43a4adcbfb7",
              "IPY_MODEL_9a1b451efa294635a37b8e644b5dcfba"
            ]
          }
        },
        "db0d40362c704dde8d6e4f930f929b88": {
          "model_module": "@jupyter-widgets/base",
          "model_name": "LayoutModel",
          "model_module_version": "1.2.0",
          "state": {
            "_view_name": "LayoutView",
            "grid_template_rows": null,
            "right": null,
            "justify_content": null,
            "_view_module": "@jupyter-widgets/base",
            "overflow": null,
            "_model_module_version": "1.2.0",
            "_view_count": null,
            "flex_flow": null,
            "width": null,
            "min_width": null,
            "border": null,
            "align_items": null,
            "bottom": null,
            "_model_module": "@jupyter-widgets/base",
            "top": null,
            "grid_column": null,
            "overflow_y": null,
            "overflow_x": null,
            "grid_auto_flow": null,
            "grid_area": null,
            "grid_template_columns": null,
            "flex": null,
            "_model_name": "LayoutModel",
            "justify_items": null,
            "grid_row": null,
            "max_height": null,
            "align_content": null,
            "visibility": null,
            "align_self": null,
            "height": null,
            "min_height": null,
            "padding": null,
            "grid_auto_rows": null,
            "grid_gap": null,
            "max_width": null,
            "order": null,
            "_view_module_version": "1.2.0",
            "grid_template_areas": null,
            "object_position": null,
            "object_fit": null,
            "grid_auto_columns": null,
            "margin": null,
            "display": null,
            "left": null
          }
        },
        "c11da82639d3402dbcf80e03690ddbc0": {
          "model_module": "@jupyter-widgets/controls",
          "model_name": "HTMLModel",
          "model_module_version": "1.5.0",
          "state": {
            "_view_name": "HTMLView",
            "style": "IPY_MODEL_3e17d65084e14ceba419cbcae09a219b",
            "_dom_classes": [],
            "description": "",
            "_model_name": "HTMLModel",
            "placeholder": "​",
            "_view_module": "@jupyter-widgets/controls",
            "_model_module_version": "1.5.0",
            "value": "100%",
            "_view_count": null,
            "_view_module_version": "1.5.0",
            "description_tooltip": null,
            "_model_module": "@jupyter-widgets/controls",
            "layout": "IPY_MODEL_65b658baebff468fbd73fabfe81df8a5"
          }
        },
        "71d9f75f8f9445fcb147c43a4adcbfb7": {
          "model_module": "@jupyter-widgets/controls",
          "model_name": "FloatProgressModel",
          "model_module_version": "1.5.0",
          "state": {
            "_view_name": "ProgressView",
            "style": "IPY_MODEL_2be07657a3f84f35a93de1c7fda44b25",
            "_dom_classes": [],
            "description": "",
            "_model_name": "FloatProgressModel",
            "bar_style": "success",
            "max": 178793939,
            "_view_module": "@jupyter-widgets/controls",
            "_model_module_version": "1.5.0",
            "value": 178793939,
            "_view_count": null,
            "_view_module_version": "1.5.0",
            "orientation": "horizontal",
            "min": 0,
            "description_tooltip": null,
            "_model_module": "@jupyter-widgets/controls",
            "layout": "IPY_MODEL_538aa41187204f1e96fcd329801d9dfd"
          }
        },
        "9a1b451efa294635a37b8e644b5dcfba": {
          "model_module": "@jupyter-widgets/controls",
          "model_name": "HTMLModel",
          "model_module_version": "1.5.0",
          "state": {
            "_view_name": "HTMLView",
            "style": "IPY_MODEL_83d2216c5d43414fa85de808291bd607",
            "_dom_classes": [],
            "description": "",
            "_model_name": "HTMLModel",
            "placeholder": "​",
            "_view_module": "@jupyter-widgets/controls",
            "_model_module_version": "1.5.0",
            "value": " 171M/171M [00:03&lt;00:00, 70.0MB/s]",
            "_view_count": null,
            "_view_module_version": "1.5.0",
            "description_tooltip": null,
            "_model_module": "@jupyter-widgets/controls",
            "layout": "IPY_MODEL_11b5a0cff328488d9bdbd26766716482"
          }
        },
        "3e17d65084e14ceba419cbcae09a219b": {
          "model_module": "@jupyter-widgets/controls",
          "model_name": "DescriptionStyleModel",
          "model_module_version": "1.5.0",
          "state": {
            "_view_name": "StyleView",
            "_model_name": "DescriptionStyleModel",
            "description_width": "",
            "_view_module": "@jupyter-widgets/base",
            "_model_module_version": "1.5.0",
            "_view_count": null,
            "_view_module_version": "1.2.0",
            "_model_module": "@jupyter-widgets/controls"
          }
        },
        "65b658baebff468fbd73fabfe81df8a5": {
          "model_module": "@jupyter-widgets/base",
          "model_name": "LayoutModel",
          "model_module_version": "1.2.0",
          "state": {
            "_view_name": "LayoutView",
            "grid_template_rows": null,
            "right": null,
            "justify_content": null,
            "_view_module": "@jupyter-widgets/base",
            "overflow": null,
            "_model_module_version": "1.2.0",
            "_view_count": null,
            "flex_flow": null,
            "width": null,
            "min_width": null,
            "border": null,
            "align_items": null,
            "bottom": null,
            "_model_module": "@jupyter-widgets/base",
            "top": null,
            "grid_column": null,
            "overflow_y": null,
            "overflow_x": null,
            "grid_auto_flow": null,
            "grid_area": null,
            "grid_template_columns": null,
            "flex": null,
            "_model_name": "LayoutModel",
            "justify_items": null,
            "grid_row": null,
            "max_height": null,
            "align_content": null,
            "visibility": null,
            "align_self": null,
            "height": null,
            "min_height": null,
            "padding": null,
            "grid_auto_rows": null,
            "grid_gap": null,
            "max_width": null,
            "order": null,
            "_view_module_version": "1.2.0",
            "grid_template_areas": null,
            "object_position": null,
            "object_fit": null,
            "grid_auto_columns": null,
            "margin": null,
            "display": null,
            "left": null
          }
        },
        "2be07657a3f84f35a93de1c7fda44b25": {
          "model_module": "@jupyter-widgets/controls",
          "model_name": "ProgressStyleModel",
          "model_module_version": "1.5.0",
          "state": {
            "_view_name": "StyleView",
            "_model_name": "ProgressStyleModel",
            "description_width": "",
            "_view_module": "@jupyter-widgets/base",
            "_model_module_version": "1.5.0",
            "_view_count": null,
            "_view_module_version": "1.2.0",
            "bar_color": null,
            "_model_module": "@jupyter-widgets/controls"
          }
        },
        "538aa41187204f1e96fcd329801d9dfd": {
          "model_module": "@jupyter-widgets/base",
          "model_name": "LayoutModel",
          "model_module_version": "1.2.0",
          "state": {
            "_view_name": "LayoutView",
            "grid_template_rows": null,
            "right": null,
            "justify_content": null,
            "_view_module": "@jupyter-widgets/base",
            "overflow": null,
            "_model_module_version": "1.2.0",
            "_view_count": null,
            "flex_flow": null,
            "width": null,
            "min_width": null,
            "border": null,
            "align_items": null,
            "bottom": null,
            "_model_module": "@jupyter-widgets/base",
            "top": null,
            "grid_column": null,
            "overflow_y": null,
            "overflow_x": null,
            "grid_auto_flow": null,
            "grid_area": null,
            "grid_template_columns": null,
            "flex": null,
            "_model_name": "LayoutModel",
            "justify_items": null,
            "grid_row": null,
            "max_height": null,
            "align_content": null,
            "visibility": null,
            "align_self": null,
            "height": null,
            "min_height": null,
            "padding": null,
            "grid_auto_rows": null,
            "grid_gap": null,
            "max_width": null,
            "order": null,
            "_view_module_version": "1.2.0",
            "grid_template_areas": null,
            "object_position": null,
            "object_fit": null,
            "grid_auto_columns": null,
            "margin": null,
            "display": null,
            "left": null
          }
        },
        "83d2216c5d43414fa85de808291bd607": {
          "model_module": "@jupyter-widgets/controls",
          "model_name": "DescriptionStyleModel",
          "model_module_version": "1.5.0",
          "state": {
            "_view_name": "StyleView",
            "_model_name": "DescriptionStyleModel",
            "description_width": "",
            "_view_module": "@jupyter-widgets/base",
            "_model_module_version": "1.5.0",
            "_view_count": null,
            "_view_module_version": "1.2.0",
            "_model_module": "@jupyter-widgets/controls"
          }
        },
        "11b5a0cff328488d9bdbd26766716482": {
          "model_module": "@jupyter-widgets/base",
          "model_name": "LayoutModel",
          "model_module_version": "1.2.0",
          "state": {
            "_view_name": "LayoutView",
            "grid_template_rows": null,
            "right": null,
            "justify_content": null,
            "_view_module": "@jupyter-widgets/base",
            "overflow": null,
            "_model_module_version": "1.2.0",
            "_view_count": null,
            "flex_flow": null,
            "width": null,
            "min_width": null,
            "border": null,
            "align_items": null,
            "bottom": null,
            "_model_module": "@jupyter-widgets/base",
            "top": null,
            "grid_column": null,
            "overflow_y": null,
            "overflow_x": null,
            "grid_auto_flow": null,
            "grid_area": null,
            "grid_template_columns": null,
            "flex": null,
            "_model_name": "LayoutModel",
            "justify_items": null,
            "grid_row": null,
            "max_height": null,
            "align_content": null,
            "visibility": null,
            "align_self": null,
            "height": null,
            "min_height": null,
            "padding": null,
            "grid_auto_rows": null,
            "grid_gap": null,
            "max_width": null,
            "order": null,
            "_view_module_version": "1.2.0",
            "grid_template_areas": null,
            "object_position": null,
            "object_fit": null,
            "grid_auto_columns": null,
            "margin": null,
            "display": null,
            "left": null
          }
        },
        "a8f0cb1358f044299ea17352de72d304": {
          "model_module": "@jupyter-widgets/controls",
          "model_name": "VBoxModel",
          "model_module_version": "1.5.0",
          "state": {
            "_view_name": "VBoxView",
            "_dom_classes": [],
            "_model_name": "VBoxModel",
            "_view_module": "@jupyter-widgets/controls",
            "_model_module_version": "1.5.0",
            "_view_count": null,
            "_view_module_version": "1.5.0",
            "box_style": "",
            "layout": "IPY_MODEL_4defbda645fe4566ae41876e3ac7c6c3",
            "_model_module": "@jupyter-widgets/controls",
            "children": [
              "IPY_MODEL_ea047acd18e1461b96979dcade307c4a",
              "IPY_MODEL_c1bf67d03d8c4cdeb2d7feb207303af2"
            ]
          }
        },
        "4defbda645fe4566ae41876e3ac7c6c3": {
          "model_module": "@jupyter-widgets/base",
          "model_name": "LayoutModel",
          "model_module_version": "1.2.0",
          "state": {
            "_view_name": "LayoutView",
            "grid_template_rows": null,
            "right": null,
            "justify_content": null,
            "_view_module": "@jupyter-widgets/base",
            "overflow": null,
            "_model_module_version": "1.2.0",
            "_view_count": null,
            "flex_flow": null,
            "width": null,
            "min_width": null,
            "border": null,
            "align_items": null,
            "bottom": null,
            "_model_module": "@jupyter-widgets/base",
            "top": null,
            "grid_column": null,
            "overflow_y": null,
            "overflow_x": null,
            "grid_auto_flow": null,
            "grid_area": null,
            "grid_template_columns": null,
            "flex": null,
            "_model_name": "LayoutModel",
            "justify_items": null,
            "grid_row": null,
            "max_height": null,
            "align_content": null,
            "visibility": null,
            "align_self": null,
            "height": null,
            "min_height": null,
            "padding": null,
            "grid_auto_rows": null,
            "grid_gap": null,
            "max_width": null,
            "order": null,
            "_view_module_version": "1.2.0",
            "grid_template_areas": null,
            "object_position": null,
            "object_fit": null,
            "grid_auto_columns": null,
            "margin": null,
            "display": null,
            "left": null
          }
        },
        "ea047acd18e1461b96979dcade307c4a": {
          "model_module": "@jupyter-widgets/controls",
          "model_name": "LabelModel",
          "model_module_version": "1.5.0",
          "state": {
            "_view_name": "LabelView",
            "style": "IPY_MODEL_dd1d4c3e2724490fb2357da37b18ce51",
            "_dom_classes": [],
            "description": "",
            "_model_name": "LabelModel",
            "placeholder": "​",
            "_view_module": "@jupyter-widgets/controls",
            "_model_module_version": "1.5.0",
            "value": " 0.15MB of 0.15MB uploaded (0.00MB deduped)\r",
            "_view_count": null,
            "_view_module_version": "1.5.0",
            "description_tooltip": null,
            "_model_module": "@jupyter-widgets/controls",
            "layout": "IPY_MODEL_95875d19cefb4a21a10b21a1e47e704b"
          }
        },
        "c1bf67d03d8c4cdeb2d7feb207303af2": {
          "model_module": "@jupyter-widgets/controls",
          "model_name": "FloatProgressModel",
          "model_module_version": "1.5.0",
          "state": {
            "_view_name": "ProgressView",
            "style": "IPY_MODEL_202b9ac902364fc48d872cd0f574e561",
            "_dom_classes": [],
            "description": "",
            "_model_name": "FloatProgressModel",
            "bar_style": "",
            "max": 1,
            "_view_module": "@jupyter-widgets/controls",
            "_model_module_version": "1.5.0",
            "value": 1,
            "_view_count": null,
            "_view_module_version": "1.5.0",
            "orientation": "horizontal",
            "min": 0,
            "description_tooltip": null,
            "_model_module": "@jupyter-widgets/controls",
            "layout": "IPY_MODEL_5e158c1590d84f4d837794fce1b25600"
          }
        },
        "dd1d4c3e2724490fb2357da37b18ce51": {
          "model_module": "@jupyter-widgets/controls",
          "model_name": "DescriptionStyleModel",
          "model_module_version": "1.5.0",
          "state": {
            "_view_name": "StyleView",
            "_model_name": "DescriptionStyleModel",
            "description_width": "",
            "_view_module": "@jupyter-widgets/base",
            "_model_module_version": "1.5.0",
            "_view_count": null,
            "_view_module_version": "1.2.0",
            "_model_module": "@jupyter-widgets/controls"
          }
        },
        "95875d19cefb4a21a10b21a1e47e704b": {
          "model_module": "@jupyter-widgets/base",
          "model_name": "LayoutModel",
          "model_module_version": "1.2.0",
          "state": {
            "_view_name": "LayoutView",
            "grid_template_rows": null,
            "right": null,
            "justify_content": null,
            "_view_module": "@jupyter-widgets/base",
            "overflow": null,
            "_model_module_version": "1.2.0",
            "_view_count": null,
            "flex_flow": null,
            "width": null,
            "min_width": null,
            "border": null,
            "align_items": null,
            "bottom": null,
            "_model_module": "@jupyter-widgets/base",
            "top": null,
            "grid_column": null,
            "overflow_y": null,
            "overflow_x": null,
            "grid_auto_flow": null,
            "grid_area": null,
            "grid_template_columns": null,
            "flex": null,
            "_model_name": "LayoutModel",
            "justify_items": null,
            "grid_row": null,
            "max_height": null,
            "align_content": null,
            "visibility": null,
            "align_self": null,
            "height": null,
            "min_height": null,
            "padding": null,
            "grid_auto_rows": null,
            "grid_gap": null,
            "max_width": null,
            "order": null,
            "_view_module_version": "1.2.0",
            "grid_template_areas": null,
            "object_position": null,
            "object_fit": null,
            "grid_auto_columns": null,
            "margin": null,
            "display": null,
            "left": null
          }
        },
        "202b9ac902364fc48d872cd0f574e561": {
          "model_module": "@jupyter-widgets/controls",
          "model_name": "ProgressStyleModel",
          "model_module_version": "1.5.0",
          "state": {
            "_view_name": "StyleView",
            "_model_name": "ProgressStyleModel",
            "description_width": "",
            "_view_module": "@jupyter-widgets/base",
            "_model_module_version": "1.5.0",
            "_view_count": null,
            "_view_module_version": "1.2.0",
            "bar_color": null,
            "_model_module": "@jupyter-widgets/controls"
          }
        },
        "5e158c1590d84f4d837794fce1b25600": {
          "model_module": "@jupyter-widgets/base",
          "model_name": "LayoutModel",
          "model_module_version": "1.2.0",
          "state": {
            "_view_name": "LayoutView",
            "grid_template_rows": null,
            "right": null,
            "justify_content": null,
            "_view_module": "@jupyter-widgets/base",
            "overflow": null,
            "_model_module_version": "1.2.0",
            "_view_count": null,
            "flex_flow": null,
            "width": null,
            "min_width": null,
            "border": null,
            "align_items": null,
            "bottom": null,
            "_model_module": "@jupyter-widgets/base",
            "top": null,
            "grid_column": null,
            "overflow_y": null,
            "overflow_x": null,
            "grid_auto_flow": null,
            "grid_area": null,
            "grid_template_columns": null,
            "flex": null,
            "_model_name": "LayoutModel",
            "justify_items": null,
            "grid_row": null,
            "max_height": null,
            "align_content": null,
            "visibility": null,
            "align_self": null,
            "height": null,
            "min_height": null,
            "padding": null,
            "grid_auto_rows": null,
            "grid_gap": null,
            "max_width": null,
            "order": null,
            "_view_module_version": "1.2.0",
            "grid_template_areas": null,
            "object_position": null,
            "object_fit": null,
            "grid_auto_columns": null,
            "margin": null,
            "display": null,
            "left": null
          }
        }
      }
    }
  },
  "nbformat": 4,
  "nbformat_minor": 0
}