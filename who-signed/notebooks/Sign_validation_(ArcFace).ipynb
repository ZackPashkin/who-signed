{
  "metadata": {
    "kernelspec": {
      "language": "python",
      "display_name": "Python 3",
      "name": "python3"
    },
    "language_info": {
      "pygments_lexer": "ipython3",
      "nbconvert_exporter": "python",
      "version": "3.6.4",
      "file_extension": ".py",
      "codemirror_mode": {
        "name": "ipython",
        "version": 3
      },
      "name": "python",
      "mimetype": "text/x-python"
    },
    "colab": {
      "name": "Sign validation (ArcFace).ipynb",
      "provenance": [],
      "collapsed_sections": []
    }
  },
  "nbformat_minor": 0,
  "nbformat": 4,
  "cells": [
    {
      "cell_type": "markdown",
      "source": [
        "# <span><h1 style = \"font-family: garamond; font-size: 40px; font-style: normal; letter-spcaing: 3px; background-color: #f6f5f5; color :#fe346e; border-radius: 100px 100px; text-align:center\">Install Required Libraries</h1></span>"
      ],
      "metadata": {
        "id": "mD9iMcK0soGC"
      }
    },
    {
      "cell_type": "code",
      "source": [
        "!pip install timm\n",
        "!pip install --upgrade wandb"
      ],
      "metadata": {
        "_kg_hide-output": true,
        "execution": {
          "iopub.status.busy": "2022-02-03T03:08:35.85738Z",
          "iopub.execute_input": "2022-02-03T03:08:35.857746Z",
          "iopub.status.idle": "2022-02-03T03:08:56.946499Z",
          "shell.execute_reply.started": "2022-02-03T03:08:35.857644Z",
          "shell.execute_reply": "2022-02-03T03:08:56.945679Z"
        },
        "trusted": true,
        "id": "fYxyz2vSsoGC"
      },
      "execution_count": null,
      "outputs": []
    },
    {
      "cell_type": "markdown",
      "source": [
        "# <span><h1 style = \"font-family: garamond; font-size: 40px; font-style: normal; letter-spcaing: 3px; background-color: #f6f5f5; color :#fe346e; border-radius: 100px 100px; text-align:center\">Import Required Libraries </h1></span>"
      ],
      "metadata": {
        "id": "P4pMpvlcsoGD"
      }
    },
    {
      "cell_type": "code",
      "source": [
        "import os\n",
        "import gc\n",
        "import cv2\n",
        "import math\n",
        "import copy\n",
        "import time\n",
        "import random\n",
        "\n",
        "# For data manipulation\n",
        "import numpy as np\n",
        "import pandas as pd\n",
        "\n",
        "# Pytorch Imports\n",
        "import torch\n",
        "import torch.nn as nn\n",
        "import torch.optim as optim\n",
        "import torch.nn.functional as F\n",
        "from torch.optim import lr_scheduler\n",
        "from torch.utils.data import Dataset, DataLoader\n",
        "from torch.cuda import amp\n",
        "\n",
        "# Utils\n",
        "import joblib\n",
        "from tqdm import tqdm\n",
        "from collections import defaultdict\n",
        "\n",
        "# Sklearn Imports\n",
        "from sklearn.preprocessing import LabelEncoder\n",
        "from sklearn.model_selection import StratifiedKFold\n",
        "\n",
        "# For Image Models\n",
        "import timm\n",
        "\n",
        "# Albumentations for augmentations\n",
        "import albumentations as A\n",
        "from albumentations.pytorch import ToTensorV2\n",
        "\n",
        "# For colored terminal text\n",
        "from colorama import Fore, Back, Style\n",
        "b_ = Fore.BLUE\n",
        "sr_ = Style.RESET_ALL\n",
        "\n",
        "import warnings\n",
        "warnings.filterwarnings(\"ignore\")\n",
        "\n",
        "# For descriptive error messages\n",
        "os.environ['CUDA_LAUNCH_BLOCKING'] = \"1\""
      ],
      "metadata": {
        "execution": {
          "iopub.status.busy": "2022-02-03T03:08:56.949327Z",
          "iopub.execute_input": "2022-02-03T03:08:56.950041Z",
          "iopub.status.idle": "2022-02-03T03:09:01.35778Z",
          "shell.execute_reply.started": "2022-02-03T03:08:56.950004Z",
          "shell.execute_reply": "2022-02-03T03:09:01.356961Z"
        },
        "trusted": true,
        "id": "zvvR7XmlsoGE"
      },
      "execution_count": null,
      "outputs": []
    },
    {
      "cell_type": "code",
      "source": [
        "import wandb\n",
        "\n",
        "try:\n",
        "    from kaggle_secrets import UserSecretsClient\n",
        "    user_secrets = UserSecretsClient()\n",
        "    api_key = user_secrets.get_secret(\"wandb_api\")\n",
        "    wandb.login(key=api_key)\n",
        "    anony = None\n",
        "except:\n",
        "    anony = \"must\"\n",
        "    print('If you want to use your W&B account, go to Add-ons -> Secrets and provide your W&B access token. Use the Label name as wandb_api. \\nGet your W&B access token from here: https://wandb.ai/authorize')"
      ],
      "metadata": {
        "execution": {
          "iopub.status.busy": "2022-02-03T03:09:01.359226Z",
          "iopub.execute_input": "2022-02-03T03:09:01.359523Z",
          "iopub.status.idle": "2022-02-03T03:09:02.762825Z",
          "shell.execute_reply.started": "2022-02-03T03:09:01.359484Z",
          "shell.execute_reply": "2022-02-03T03:09:02.762006Z"
        },
        "trusted": true,
        "id": "cU0vs0g-soGF"
      },
      "execution_count": null,
      "outputs": []
    },
    {
      "cell_type": "markdown",
      "source": [
        "# <span><h1 style = \"font-family: garamond; font-size: 40px; font-style: normal; letter-spcaing: 3px; background-color: #f6f5f5; color :#fe346e; border-radius: 100px 100px; text-align:center\">Training Configuration </h1></span>"
      ],
      "metadata": {
        "id": "VyFPNykBsoGG"
      }
    },
    {
      "cell_type": "code",
      "source": [
        "CONFIG = {\"seed\": 2022,\n",
        "          \"epochs\": 3,\n",
        "          \"img_size\": 448,\n",
        "          \"model_name\": \"tf_efficientnet_b0\",\n",
        "          \"num_classes\": 15587,\n",
        "          \"train_batch_size\": 32,\n",
        "          \"valid_batch_size\": 64,\n",
        "          \"learning_rate\": 1e-4,\n",
        "          \"scheduler\": 'CosineAnnealingLR',\n",
        "          \"min_lr\": 1e-6,\n",
        "          \"T_max\": 500,\n",
        "          \"weight_decay\": 1e-6,\n",
        "          \"n_fold\": 5,\n",
        "          \"n_accumulate\": 1,\n",
        "          \"device\": torch.device(\"cuda:0\" if torch.cuda.is_available() else \"cpu\"),\n",
        "          # ArcFace Hyperparameters\n",
        "          \"s\": 30.0, \n",
        "          \"m\": 0.50,\n",
        "          \"ls_eps\": 0.0,\n",
        "          \"easy_margin\": False\n",
        "          }"
      ],
      "metadata": {
        "execution": {
          "iopub.status.busy": "2022-02-03T03:09:02.763923Z",
          "iopub.execute_input": "2022-02-03T03:09:02.764119Z",
          "iopub.status.idle": "2022-02-03T03:09:02.813413Z",
          "shell.execute_reply.started": "2022-02-03T03:09:02.764095Z",
          "shell.execute_reply": "2022-02-03T03:09:02.812698Z"
        },
        "trusted": true,
        "id": "SwTgk0k8soGG"
      },
      "execution_count": null,
      "outputs": []
    },
    {
      "cell_type": "markdown",
      "source": [
        "# <span><h1 style = \"font-family: garamond; font-size: 40px; font-style: normal; letter-spcaing: 3px; background-color: #f6f5f5; color :#fe346e; border-radius: 100px 100px; text-align:center\">Set Seed for Reproducibility</h1></span>"
      ],
      "metadata": {
        "id": "6WMvW7IdsoGG"
      }
    },
    {
      "cell_type": "code",
      "source": [
        "def set_seed(seed=42):\n",
        "    '''Sets the seed of the entire notebook so results are the same every time we run.\n",
        "    This is for REPRODUCIBILITY.'''\n",
        "    np.random.seed(seed)\n",
        "    torch.manual_seed(seed)\n",
        "    torch.cuda.manual_seed(seed)\n",
        "    # When running on the CuDNN backend, two further options must be set\n",
        "    torch.backends.cudnn.deterministic = True\n",
        "    torch.backends.cudnn.benchmark = False\n",
        "    # Set a fixed value for the hash seed\n",
        "    os.environ['PYTHONHASHSEED'] = str(seed)\n",
        "    \n",
        "set_seed(CONFIG['seed'])"
      ],
      "metadata": {
        "execution": {
          "iopub.status.busy": "2022-02-03T03:09:02.816122Z",
          "iopub.execute_input": "2022-02-03T03:09:02.816997Z",
          "iopub.status.idle": "2022-02-03T03:09:02.833686Z",
          "shell.execute_reply.started": "2022-02-03T03:09:02.816941Z",
          "shell.execute_reply": "2022-02-03T03:09:02.832742Z"
        },
        "trusted": true,
        "id": "3jlw-gTRsoGH"
      },
      "execution_count": null,
      "outputs": []
    },
    {
      "cell_type": "markdown",
      "source": [
        "# <h1 style = \"font-family: garamond; font-size: 40px; font-style: normal; letter-spcaing: 3px; background-color: #f6f5f5; color :#fe346e; border-radius: 100px 100px; text-align:center\">Read the Data </h1>"
      ],
      "metadata": {
        "id": "LfuH1p4GsoGH"
      }
    },
    {
      "cell_type": "code",
      "source": [
        "df = pd.read_csv(f\"{ROOT_DIR}/train.csv\")\n",
        "df['file_path'] = df['image'].apply(get_train_file_path)\n",
        "df.head()"
      ],
      "metadata": {
        "execution": {
          "iopub.status.busy": "2022-02-03T03:09:02.851497Z",
          "iopub.execute_input": "2022-02-03T03:09:02.851821Z",
          "iopub.status.idle": "2022-02-03T03:09:02.998704Z",
          "shell.execute_reply.started": "2022-02-03T03:09:02.851783Z",
          "shell.execute_reply": "2022-02-03T03:09:02.997983Z"
        },
        "trusted": true,
        "id": "3Wif44rVsoGH"
      },
      "execution_count": null,
      "outputs": []
    },
    {
      "cell_type": "code",
      "source": [
        "encoder = LabelEncoder()\n",
        "df['individual_id'] = encoder.fit_transform(df['individual_id'])\n",
        "\n",
        "with open(\"le.pkl\", \"wb\") as fp:\n",
        "    joblib.dump(encoder, fp)"
      ],
      "metadata": {
        "execution": {
          "iopub.status.busy": "2022-02-03T03:09:02.999777Z",
          "iopub.execute_input": "2022-02-03T03:09:03.000341Z",
          "iopub.status.idle": "2022-02-03T03:09:03.034594Z",
          "shell.execute_reply.started": "2022-02-03T03:09:03.000298Z",
          "shell.execute_reply": "2022-02-03T03:09:03.03368Z"
        },
        "trusted": true,
        "id": "4JSUx1YJsoGI"
      },
      "execution_count": null,
      "outputs": []
    },
    {
      "cell_type": "markdown",
      "source": [
        "# <span><h1 style = \"font-family: garamond; font-size: 40px; font-style: normal; letter-spcaing: 3px; background-color: #f6f5f5; color :#fe346e; border-radius: 100px 100px; text-align:center\">Create Folds</h1></span>"
      ],
      "metadata": {
        "id": "UTVSpPTCsoGI"
      }
    },
    {
      "cell_type": "code",
      "source": [
        "skf = StratifiedKFold(n_splits=CONFIG['n_fold'])\n",
        "\n",
        "for fold, ( _, val_) in enumerate(skf.split(X=df, y=df.individual_id)):\n",
        "      df.loc[val_ , \"kfold\"] = fold"
      ],
      "metadata": {
        "execution": {
          "iopub.status.busy": "2022-02-03T03:09:03.037937Z",
          "iopub.execute_input": "2022-02-03T03:09:03.038141Z",
          "iopub.status.idle": "2022-02-03T03:09:03.51153Z",
          "shell.execute_reply.started": "2022-02-03T03:09:03.038116Z",
          "shell.execute_reply": "2022-02-03T03:09:03.510793Z"
        },
        "trusted": true,
        "id": "-ZBptUAvsoGI"
      },
      "execution_count": null,
      "outputs": []
    },
    {
      "cell_type": "markdown",
      "source": [
        "# <span><h1 style = \"font-family: garamond; font-size: 40px; font-style: normal; letter-spcaing: 3px; background-color: #f6f5f5; color :#fe346e; border-radius: 100px 100px; text-align:center\">Dataset Class</h1></span>"
      ],
      "metadata": {
        "id": "T4zM6bnOsoGI"
      }
    },
    {
      "cell_type": "code",
      "source": [
        "class SignDataset(Dataset):\n",
        "    def __init__(self, df, transforms=None):\n",
        "        self.df = df\n",
        "        self.file_names = df['file_path'].values\n",
        "        self.labels = df['individual_id'].values\n",
        "        self.transforms = transforms\n",
        "        \n",
        "    def __len__(self):\n",
        "        return len(self.df)\n",
        "    \n",
        "    def __getitem__(self, index):\n",
        "        img_path = self.file_names[index]\n",
        "        img = cv2.imread(img_path)\n",
        "        img = cv2.cvtColor(img, cv2.COLOR_BGR2RGB)\n",
        "        label = self.labels[index]\n",
        "        \n",
        "        if self.transforms:\n",
        "            img = self.transforms(image=img)[\"image\"]\n",
        "            \n",
        "        return {\n",
        "            'image': img,\n",
        "            'label': torch.tensor(label, dtype=torch.long)\n",
        "        }"
      ],
      "metadata": {
        "execution": {
          "iopub.status.busy": "2022-02-03T03:09:03.513205Z",
          "iopub.execute_input": "2022-02-03T03:09:03.513443Z",
          "iopub.status.idle": "2022-02-03T03:09:03.521252Z",
          "shell.execute_reply.started": "2022-02-03T03:09:03.51341Z",
          "shell.execute_reply": "2022-02-03T03:09:03.520499Z"
        },
        "trusted": true,
        "id": "C3oxPEiwsoGI"
      },
      "execution_count": null,
      "outputs": []
    },
    {
      "cell_type": "markdown",
      "source": [
        "# <span><h1 style = \"font-family: garamond; font-size: 40px; font-style: normal; letter-spcaing: 3px; background-color: #f6f5f5; color :#fe346e; border-radius: 100px 100px; text-align:center\">Augmentations</h1></span>"
      ],
      "metadata": {
        "id": "sKxbCSV3soGJ"
      }
    },
    {
      "cell_type": "code",
      "source": [
        "data_transforms = {\n",
        "    \"train\": A.Compose([\n",
        "        A.Resize(CONFIG['img_size'], CONFIG['img_size']),\n",
        "        A.HorizontalFlip(p=0.5),\n",
        "        A.VerticalFlip(p=0.5),\n",
        "        A.Rotate(limit=30, p=0.5),\n",
        "        A.Normalize(\n",
        "                mean=[0.485, 0.456, 0.406], \n",
        "                std=[0.229, 0.224, 0.225], \n",
        "                max_pixel_value=255.0, \n",
        "                p=1.0\n",
        "            ),\n",
        "        ToTensorV2()], p=1.),\n",
        "    \n",
        "    \"valid\": A.Compose([\n",
        "        A.Resize(CONFIG['img_size'], CONFIG['img_size']),\n",
        "        A.Normalize(\n",
        "                mean=[0.485, 0.456, 0.406], \n",
        "                std=[0.229, 0.224, 0.225], \n",
        "                max_pixel_value=255.0, \n",
        "                p=1.0\n",
        "            ),\n",
        "        ToTensorV2()], p=1.)\n",
        "}"
      ],
      "metadata": {
        "execution": {
          "iopub.status.busy": "2022-02-03T03:09:03.523457Z",
          "iopub.execute_input": "2022-02-03T03:09:03.52416Z",
          "iopub.status.idle": "2022-02-03T03:09:03.53544Z",
          "shell.execute_reply.started": "2022-02-03T03:09:03.52412Z",
          "shell.execute_reply": "2022-02-03T03:09:03.534746Z"
        },
        "trusted": true,
        "id": "chRexO_osoGJ"
      },
      "execution_count": null,
      "outputs": []
    },
    {
      "cell_type": "code",
      "source": [
        "class GeM(nn.Module):\n",
        "    def __init__(self, p=3, eps=1e-6):\n",
        "        super(GeM, self).__init__()\n",
        "        self.p = nn.Parameter(torch.ones(1)*p)\n",
        "        self.eps = eps\n",
        "\n",
        "    def forward(self, x):\n",
        "        return self.gem(x, p=self.p, eps=self.eps)\n",
        "        \n",
        "    def gem(self, x, p=3, eps=1e-6):\n",
        "        return F.avg_pool2d(x.clamp(min=eps).pow(p), (x.size(-2), x.size(-1))).pow(1./p)\n",
        "        \n",
        "    def __repr__(self):\n",
        "        return self.__class__.__name__ + \\\n",
        "                '(' + 'p=' + '{:.4f}'.format(self.p.data.tolist()[0]) + \\\n",
        "                ', ' + 'eps=' + str(self.eps) + ')'"
      ],
      "metadata": {
        "execution": {
          "iopub.status.busy": "2022-02-03T03:09:03.538431Z",
          "iopub.execute_input": "2022-02-03T03:09:03.538858Z",
          "iopub.status.idle": "2022-02-03T03:09:03.548134Z",
          "shell.execute_reply.started": "2022-02-03T03:09:03.538829Z",
          "shell.execute_reply": "2022-02-03T03:09:03.547376Z"
        },
        "trusted": true,
        "id": "uD2vBwHUsoGJ"
      },
      "execution_count": null,
      "outputs": []
    },
    {
      "cell_type": "markdown",
      "source": [
        "# <span><h1 style = \"font-family: garamond; font-size: 40px; font-style: normal; letter-spcaing: 3px; background-color: #f6f5f5; color :#fe346e; border-radius: 100px 100px; text-align:center\">ArcFace</h1></span>\n"
      ],
      "metadata": {
        "id": "t1L0qVhgsoGJ"
      }
    },
    {
      "cell_type": "code",
      "source": [
        "class ArcMarginProduct(nn.Module):\n",
        "    r\"\"\"Implement of large margin arc distance: :\n",
        "        Args:\n",
        "            in_features: size of each input sample\n",
        "            out_features: size of each output sample\n",
        "            s: norm of input feature\n",
        "            m: margin\n",
        "            cos(theta + m)\n",
        "        \"\"\"\n",
        "    def __init__(self, in_features, out_features, s=30.0, \n",
        "                 m=0.50, easy_margin=False, ls_eps=0.0):\n",
        "        super(ArcMarginProduct, self).__init__()\n",
        "        self.in_features = in_features\n",
        "        self.out_features = out_features\n",
        "        self.s = s\n",
        "        self.m = m\n",
        "        self.ls_eps = ls_eps  # label smoothing\n",
        "        self.weight = nn.Parameter(torch.FloatTensor(out_features, in_features))\n",
        "        nn.init.xavier_uniform_(self.weight)\n",
        "\n",
        "        self.easy_margin = easy_margin\n",
        "        self.cos_m = math.cos(m)\n",
        "        self.sin_m = math.sin(m)\n",
        "        self.th = math.cos(math.pi - m)\n",
        "        self.mm = math.sin(math.pi - m) * m\n",
        "\n",
        "    def forward(self, input, label):\n",
        "        # --------------------------- cos(theta) & phi(theta) ---------------------\n",
        "        cosine = F.linear(F.normalize(input), F.normalize(self.weight))\n",
        "        sine = torch.sqrt(1.0 - torch.pow(cosine, 2))\n",
        "        phi = cosine * self.cos_m - sine * self.sin_m\n",
        "        if self.easy_margin:\n",
        "            phi = torch.where(cosine > 0, phi, cosine)\n",
        "        else:\n",
        "            phi = torch.where(cosine > self.th, phi, cosine - self.mm)\n",
        "        # --------------------------- convert label to one-hot ---------------------\n",
        "        # one_hot = torch.zeros(cosine.size(), requires_grad=True, device='cuda')\n",
        "        one_hot = torch.zeros(cosine.size(), device=CONFIG['device'])\n",
        "        one_hot.scatter_(1, label.view(-1, 1).long(), 1)\n",
        "        if self.ls_eps > 0:\n",
        "            one_hot = (1 - self.ls_eps) * one_hot + self.ls_eps / self.out_features\n",
        "        # -------------torch.where(out_i = {x_i if condition_i else y_i) ------------\n",
        "        output = (one_hot * phi) + ((1.0 - one_hot) * cosine)\n",
        "        output *= self.s\n",
        "\n",
        "        return output"
      ],
      "metadata": {
        "execution": {
          "iopub.status.busy": "2022-02-03T03:09:03.553213Z",
          "iopub.execute_input": "2022-02-03T03:09:03.553493Z",
          "iopub.status.idle": "2022-02-03T03:09:03.566354Z",
          "shell.execute_reply.started": "2022-02-03T03:09:03.553457Z",
          "shell.execute_reply": "2022-02-03T03:09:03.565525Z"
        },
        "trusted": true,
        "id": "3H_IfrLIsoGJ"
      },
      "execution_count": null,
      "outputs": []
    },
    {
      "cell_type": "markdown",
      "source": [
        "# <span><h1 style = \"font-family: garamond; font-size: 40px; font-style: normal; letter-spcaing: 3px; background-color: #f6f5f5; color :#fe346e; border-radius: 100px 100px; text-align:center\">Create Model</h1></span>"
      ],
      "metadata": {
        "id": "Jsf6cVyHsoGK"
      }
    },
    {
      "cell_type": "code",
      "source": [
        "class SignModel(nn.Module):\n",
        "    def __init__(self, model_name, pretrained=True):\n",
        "        super(SignModel, self).__init__()\n",
        "        self.model = timm.create_model(model_name, pretrained=pretrained)\n",
        "        in_features = self.model.classifier.in_features\n",
        "        self.model.classifier = nn.Identity()\n",
        "        self.model.global_pool = nn.Identity()\n",
        "        self.pooling = GeM()\n",
        "        self.fc = ArcMarginProduct(in_features, \n",
        "                                   CONFIG[\"num_classes\"],\n",
        "                                   s=CONFIG[\"s\"], \n",
        "                                   m=CONFIG[\"m\"], \n",
        "                                   easy_margin=CONFIG[\"ls_eps\"], \n",
        "                                   ls_eps=CONFIG[\"ls_eps\"])\n",
        "\n",
        "    def forward(self, images, labels):\n",
        "        features = self.model(images)\n",
        "        pooled_features = self.pooling(features).flatten(1)\n",
        "        output = self.fc(pooled_features, labels)\n",
        "        return output\n",
        "    \n",
        "model = SignModel(CONFIG['model_name'])\n",
        "model.to(CONFIG['device']);"
      ],
      "metadata": {
        "execution": {
          "iopub.status.busy": "2022-02-03T03:09:03.567741Z",
          "iopub.execute_input": "2022-02-03T03:09:03.568006Z",
          "iopub.status.idle": "2022-02-03T03:09:08.136894Z",
          "shell.execute_reply.started": "2022-02-03T03:09:03.567969Z",
          "shell.execute_reply": "2022-02-03T03:09:08.136133Z"
        },
        "trusted": true,
        "id": "ksMu0tWLsoGK"
      },
      "execution_count": null,
      "outputs": []
    },
    {
      "cell_type": "markdown",
      "source": [
        "# <span><h1 style = \"font-family: garamond; font-size: 40px; font-style: normal; letter-spcaing: 3px; background-color: #f6f5f5; color :#fe346e; border-radius: 100px 100px; text-align:center\">Loss Function</h1></span>"
      ],
      "metadata": {
        "id": "nZKwjny8soGK"
      }
    },
    {
      "cell_type": "code",
      "source": [
        "def criterion(outputs, labels):\n",
        "    return nn.CrossEntropyLoss()(outputs, labels)"
      ],
      "metadata": {
        "execution": {
          "iopub.status.busy": "2022-02-03T03:09:08.138311Z",
          "iopub.execute_input": "2022-02-03T03:09:08.138556Z",
          "iopub.status.idle": "2022-02-03T03:09:08.143184Z",
          "shell.execute_reply.started": "2022-02-03T03:09:08.138522Z",
          "shell.execute_reply": "2022-02-03T03:09:08.141977Z"
        },
        "trusted": true,
        "id": "uB9GSVlUsoGK"
      },
      "execution_count": null,
      "outputs": []
    },
    {
      "cell_type": "markdown",
      "source": [
        "# <span><h1 style = \"font-family: garamond; font-size: 40px; font-style: normal; letter-spcaing: 3px; background-color: #f6f5f5; color :#fe346e; border-radius: 100px 100px; text-align:center\">Training Function</h1></span>"
      ],
      "metadata": {
        "id": "gC2MB8tWsoGK"
      }
    },
    {
      "cell_type": "code",
      "source": [
        "def train_one_epoch(model, optimizer, scheduler, dataloader, device, epoch):\n",
        "    model.train()\n",
        "    \n",
        "    dataset_size = 0\n",
        "    running_loss = 0.0\n",
        "    \n",
        "    bar = tqdm(enumerate(dataloader), total=len(dataloader))\n",
        "    for step, data in bar:\n",
        "        images = data['image'].to(device, dtype=torch.float)\n",
        "        labels = data['label'].to(device, dtype=torch.long)\n",
        "        \n",
        "        batch_size = images.size(0)\n",
        "        \n",
        "        outputs = model(images, labels)\n",
        "        loss = criterion(outputs, labels)\n",
        "        loss = loss / CONFIG['n_accumulate']\n",
        "            \n",
        "        loss.backward()\n",
        "    \n",
        "        if (step + 1) % CONFIG['n_accumulate'] == 0:\n",
        "            optimizer.step()\n",
        "\n",
        "            # zero the parameter gradients\n",
        "            optimizer.zero_grad()\n",
        "\n",
        "            if scheduler is not None:\n",
        "                scheduler.step()\n",
        "                \n",
        "        running_loss += (loss.item() * batch_size)\n",
        "        dataset_size += batch_size\n",
        "        \n",
        "        epoch_loss = running_loss / dataset_size\n",
        "        \n",
        "        bar.set_postfix(Epoch=epoch, Train_Loss=epoch_loss,\n",
        "                        LR=optimizer.param_groups[0]['lr'])\n",
        "    gc.collect()\n",
        "    \n",
        "    return epoch_loss"
      ],
      "metadata": {
        "execution": {
          "iopub.status.busy": "2022-02-03T03:09:08.144712Z",
          "iopub.execute_input": "2022-02-03T03:09:08.145265Z",
          "iopub.status.idle": "2022-02-03T03:09:08.155929Z",
          "shell.execute_reply.started": "2022-02-03T03:09:08.145218Z",
          "shell.execute_reply": "2022-02-03T03:09:08.155142Z"
        },
        "trusted": true,
        "id": "8SW-0IAbsoGK"
      },
      "execution_count": null,
      "outputs": []
    },
    {
      "cell_type": "markdown",
      "source": [
        "# <span><h1 style = \"font-family: garamond; font-size: 40px; font-style: normal; letter-spcaing: 3px; background-color: #f6f5f5; color :#fe346e; border-radius: 100px 100px; text-align:center\">Validation Function</h1></span>"
      ],
      "metadata": {
        "id": "2yTb78D3soGK"
      }
    },
    {
      "cell_type": "code",
      "source": [
        "@torch.inference_mode()\n",
        "def valid_one_epoch(model, dataloader, device, epoch):\n",
        "    model.eval()\n",
        "    \n",
        "    dataset_size = 0\n",
        "    running_loss = 0.0\n",
        "    \n",
        "    bar = tqdm(enumerate(dataloader), total=len(dataloader))\n",
        "    for step, data in bar:        \n",
        "        images = data['image'].to(device, dtype=torch.float)\n",
        "        labels = data['label'].to(device, dtype=torch.long)\n",
        "        \n",
        "        batch_size = images.size(0)\n",
        "\n",
        "        outputs = model(images, labels)\n",
        "        loss = criterion(outputs, labels)\n",
        "        \n",
        "        running_loss += (loss.item() * batch_size)\n",
        "        dataset_size += batch_size\n",
        "        \n",
        "        epoch_loss = running_loss / dataset_size\n",
        "        \n",
        "        bar.set_postfix(Epoch=epoch, Valid_Loss=epoch_loss,\n",
        "                        LR=optimizer.param_groups[0]['lr'])   \n",
        "    \n",
        "    gc.collect()\n",
        "    \n",
        "    return epoch_loss"
      ],
      "metadata": {
        "execution": {
          "iopub.status.busy": "2022-02-03T03:09:08.157382Z",
          "iopub.execute_input": "2022-02-03T03:09:08.157781Z",
          "iopub.status.idle": "2022-02-03T03:09:08.169305Z",
          "shell.execute_reply.started": "2022-02-03T03:09:08.157745Z",
          "shell.execute_reply": "2022-02-03T03:09:08.168565Z"
        },
        "trusted": true,
        "id": "dHQ_4-sksoGK"
      },
      "execution_count": null,
      "outputs": []
    },
    {
      "cell_type": "markdown",
      "source": [
        "# <span><h1 style = \"font-family: garamond; font-size: 40px; font-style: normal; letter-spcaing: 3px; background-color: #f6f5f5; color :#fe346e; border-radius: 100px 100px; text-align:center\">Run Training</h1></span>"
      ],
      "metadata": {
        "id": "EP0gE0MosoGL"
      }
    },
    {
      "cell_type": "code",
      "source": [
        "def run_training(model, optimizer, scheduler, device, num_epochs):\n",
        "    # To automatically log gradients\n",
        "    wandb.watch(model, log_freq=100)\n",
        "    \n",
        "    if torch.cuda.is_available():\n",
        "        print(\"[INFO] Using GPU: {}\\n\".format(torch.cuda.get_device_name()))\n",
        "    \n",
        "    start = time.time()\n",
        "    best_model_wts = copy.deepcopy(model.state_dict())\n",
        "    best_epoch_loss = np.inf\n",
        "    history = defaultdict(list)\n",
        "    \n",
        "    for epoch in range(1, num_epochs + 1): \n",
        "        gc.collect()\n",
        "        train_epoch_loss = train_one_epoch(model, optimizer, scheduler, \n",
        "                                           dataloader=train_loader, \n",
        "                                           device=CONFIG['device'], epoch=epoch)\n",
        "        \n",
        "        val_epoch_loss = valid_one_epoch(model, valid_loader, device=CONFIG['device'], \n",
        "                                         epoch=epoch)\n",
        "    \n",
        "        history['Train Loss'].append(train_epoch_loss)\n",
        "        history['Valid Loss'].append(val_epoch_loss)\n",
        "        \n",
        "        # Log the metrics\n",
        "        wandb.log({\"Train Loss\": train_epoch_loss})\n",
        "        wandb.log({\"Valid Loss\": val_epoch_loss})\n",
        "        \n",
        "        # deep copy the model\n",
        "        if val_epoch_loss <= best_epoch_loss:\n",
        "            print(f\"{b_}Validation Loss Improved ({best_epoch_loss} ---> {val_epoch_loss})\")\n",
        "            best_epoch_loss = val_epoch_loss\n",
        "            run.summary[\"Best Loss\"] = best_epoch_loss\n",
        "            best_model_wts = copy.deepcopy(model.state_dict())\n",
        "            PATH = \"Loss{:.4f}_epoch{:.0f}.bin\".format(best_epoch_loss, epoch)\n",
        "            torch.save(model.state_dict(), PATH)\n",
        "            # Save a model file from the current directory\n",
        "            print(f\"Model Saved{sr_}\")\n",
        "            \n",
        "        print()\n",
        "    \n",
        "    end = time.time()\n",
        "    time_elapsed = end - start\n",
        "    print('Training complete in {:.0f}h {:.0f}m {:.0f}s'.format(\n",
        "        time_elapsed // 3600, (time_elapsed % 3600) // 60, (time_elapsed % 3600) % 60))\n",
        "    print(\"Best Loss: {:.4f}\".format(best_epoch_loss))\n",
        "    \n",
        "    # load best model weights\n",
        "    model.load_state_dict(best_model_wts)\n",
        "    \n",
        "    return model, history"
      ],
      "metadata": {
        "execution": {
          "iopub.status.busy": "2022-02-03T03:09:08.170569Z",
          "iopub.execute_input": "2022-02-03T03:09:08.171054Z",
          "iopub.status.idle": "2022-02-03T03:09:08.184988Z",
          "shell.execute_reply.started": "2022-02-03T03:09:08.171016Z",
          "shell.execute_reply": "2022-02-03T03:09:08.184303Z"
        },
        "trusted": true,
        "id": "kZkPW119soGL"
      },
      "execution_count": null,
      "outputs": []
    },
    {
      "cell_type": "code",
      "source": [
        "def fetch_scheduler(optimizer):\n",
        "    if CONFIG['scheduler'] == 'CosineAnnealingLR':\n",
        "        scheduler = lr_scheduler.CosineAnnealingLR(optimizer,T_max=CONFIG['T_max'], \n",
        "                                                   eta_min=CONFIG['min_lr'])\n",
        "    elif CONFIG['scheduler'] == 'CosineAnnealingWarmRestarts':\n",
        "        scheduler = lr_scheduler.CosineAnnealingWarmRestarts(optimizer,T_0=CONFIG['T_0'], \n",
        "                                                             eta_min=CONFIG['min_lr'])\n",
        "    elif CONFIG['scheduler'] == None:\n",
        "        return None\n",
        "        \n",
        "    return scheduler"
      ],
      "metadata": {
        "execution": {
          "iopub.status.busy": "2022-02-03T03:09:08.186419Z",
          "iopub.execute_input": "2022-02-03T03:09:08.186857Z",
          "iopub.status.idle": "2022-02-03T03:09:08.198644Z",
          "shell.execute_reply.started": "2022-02-03T03:09:08.18682Z",
          "shell.execute_reply": "2022-02-03T03:09:08.198036Z"
        },
        "trusted": true,
        "id": "vkJgP0dDsoGL"
      },
      "execution_count": null,
      "outputs": []
    },
    {
      "cell_type": "code",
      "source": [
        "def prepare_loaders(df, fold):\n",
        "    df_train = df[df.kfold != fold].reset_index(drop=True)\n",
        "    df_valid = df[df.kfold == fold].reset_index(drop=True)\n",
        "    \n",
        "    train_dataset = SignDataset(df_train, transforms=data_transforms[\"train\"])\n",
        "    valid_dataset = SignDataset(df_valid, transforms=data_transforms[\"valid\"])\n",
        "\n",
        "    train_loader = DataLoader(train_dataset, batch_size=CONFIG['train_batch_size'], \n",
        "                              num_workers=2, shuffle=True, pin_memory=True, drop_last=True)\n",
        "    valid_loader = DataLoader(valid_dataset, batch_size=CONFIG['valid_batch_size'], \n",
        "                              num_workers=2, shuffle=False, pin_memory=True)\n",
        "    \n",
        "    return train_loader, valid_loader"
      ],
      "metadata": {
        "execution": {
          "iopub.status.busy": "2022-02-03T03:09:08.200965Z",
          "iopub.execute_input": "2022-02-03T03:09:08.201344Z",
          "iopub.status.idle": "2022-02-03T03:09:08.209292Z",
          "shell.execute_reply.started": "2022-02-03T03:09:08.201293Z",
          "shell.execute_reply": "2022-02-03T03:09:08.208522Z"
        },
        "trusted": true,
        "id": "OXQ_MIQYsoGL"
      },
      "execution_count": null,
      "outputs": []
    },
    {
      "cell_type": "markdown",
      "source": [
        "<span style=\"color: #000508; font-family: Segoe UI; font-size: 1.5em; font-weight: 300;\">Prepare Dataloaders</span>"
      ],
      "metadata": {
        "id": "vnDRAhoLsoGL"
      }
    },
    {
      "cell_type": "code",
      "source": [
        "train_loader, valid_loader = prepare_loaders(df, fold=0)"
      ],
      "metadata": {
        "execution": {
          "iopub.status.busy": "2022-02-03T03:09:08.210492Z",
          "iopub.execute_input": "2022-02-03T03:09:08.210959Z",
          "iopub.status.idle": "2022-02-03T03:09:08.230957Z",
          "shell.execute_reply.started": "2022-02-03T03:09:08.210925Z",
          "shell.execute_reply": "2022-02-03T03:09:08.230286Z"
        },
        "trusted": true,
        "id": "vPmElAKLsoGL"
      },
      "execution_count": null,
      "outputs": []
    },
    {
      "cell_type": "markdown",
      "source": [
        "<span style=\"color: #000508; font-family: Segoe UI; font-size: 1.5em; font-weight: 300;\">Define Optimizer and Scheduler</span>"
      ],
      "metadata": {
        "id": "Ke8z3dfjsoGL"
      }
    },
    {
      "cell_type": "code",
      "source": [
        "optimizer = optim.Adam(model.parameters(), lr=CONFIG['learning_rate'], \n",
        "                       weight_decay=CONFIG['weight_decay'])\n",
        "scheduler = fetch_scheduler(optimizer)"
      ],
      "metadata": {
        "execution": {
          "iopub.status.busy": "2022-02-03T03:09:08.232424Z",
          "iopub.execute_input": "2022-02-03T03:09:08.232702Z",
          "iopub.status.idle": "2022-02-03T03:09:08.24028Z",
          "shell.execute_reply.started": "2022-02-03T03:09:08.232666Z",
          "shell.execute_reply": "2022-02-03T03:09:08.239429Z"
        },
        "trusted": true,
        "id": "EU12nweJsoGL"
      },
      "execution_count": null,
      "outputs": []
    },
    {
      "cell_type": "markdown",
      "source": [
        "<span style=\"color: #000508; font-family: Segoe UI; font-size: 1.5em; font-weight: 300;\">Start Training</span>"
      ],
      "metadata": {
        "id": "MfMYBh3LsoGM"
      }
    },
    {
      "cell_type": "code",
      "source": [
        "run = wandb.init(project='Sign', \n",
        "                 config=CONFIG,\n",
        "                 job_type='Train',\n",
        "                 tags=['arcface', 'gem-pooling', 'effnet-b0', '448'],\n",
        "                 anonymous='must')"
      ],
      "metadata": {
        "execution": {
          "iopub.status.busy": "2022-02-03T03:09:08.243082Z",
          "iopub.execute_input": "2022-02-03T03:09:08.243811Z",
          "iopub.status.idle": "2022-02-03T03:09:15.147797Z",
          "shell.execute_reply.started": "2022-02-03T03:09:08.243777Z",
          "shell.execute_reply": "2022-02-03T03:09:15.145174Z"
        },
        "trusted": true,
        "id": "2W3hX6ITsoGM"
      },
      "execution_count": null,
      "outputs": []
    },
    {
      "cell_type": "code",
      "source": [
        "model, history = run_training(model, optimizer, scheduler,\n",
        "                              device=CONFIG['device'],\n",
        "                              num_epochs=CONFIG['epochs'])"
      ],
      "metadata": {
        "execution": {
          "iopub.status.busy": "2022-02-03T03:09:15.149502Z",
          "iopub.execute_input": "2022-02-03T03:09:15.150001Z",
          "iopub.status.idle": "2022-02-03T06:06:09.843233Z",
          "shell.execute_reply.started": "2022-02-03T03:09:15.149961Z",
          "shell.execute_reply": "2022-02-03T06:06:09.842322Z"
        },
        "trusted": true,
        "id": "Pxv9-5RHsoGM"
      },
      "execution_count": null,
      "outputs": []
    },
    {
      "cell_type": "code",
      "source": [
        "run.finish()"
      ],
      "metadata": {
        "execution": {
          "iopub.status.busy": "2022-02-03T06:06:42.211199Z",
          "iopub.execute_input": "2022-02-03T06:06:42.211477Z",
          "iopub.status.idle": "2022-02-03T06:06:46.800281Z",
          "shell.execute_reply.started": "2022-02-03T06:06:42.211447Z",
          "shell.execute_reply": "2022-02-03T06:06:46.799568Z"
        },
        "trusted": true,
        "id": "BoB3jahWsoGM"
      },
      "execution_count": null,
      "outputs": []
    },
    {
      "cell_type": "markdown",
      "source": [
        "###Reference\n",
        "1. https://www.kaggle.com/debarshichanda/pytorch-arcface-gem-pooling-starter/notebook"
      ],
      "metadata": {
        "id": "vkcAVDukXNtI"
      }
    }
  ]
}