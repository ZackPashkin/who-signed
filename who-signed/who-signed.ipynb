{
 "nbformat": 4,
 "nbformat_minor": 0,
 "metadata": {
  "colab": {
   "name": "Untitled3.ipynb",
   "provenance": [],
   "collapsed_sections": []
  },
  "kernelspec": {
   "name": "python3",
   "display_name": "Python 3"
  },
  "language_info": {
   "name": "python"
  }
 },
 "cells": [
  {
   "cell_type": "markdown",
   "source": [
    "Connect to google drive(for downloading photos)"
   ],
   "metadata": {
    "collapsed": false
   }
  },
  {
   "cell_type": "code",
   "execution_count": null,
   "outputs": [],
   "source": [
    "from google.colab import drive\n",
    "drive.mount('/content/drive', force_remount=True)"
   ],
   "metadata": {
    "collapsed": false,
    "pycharm": {
     "name": "#%%\n"
    }
   }
  },
  {
   "cell_type": "code",
   "execution_count": null,
   "outputs": [],
   "source": [
    "import os\n",
    "\n",
    "path = \"/content/drive/MyDrive/photos\"\n",
    "# Check if file exists\n",
    "if os.path.isfile(path):\n",
    "  os.mkdir(path)"
   ],
   "metadata": {
    "collapsed": false,
    "pycharm": {
     "name": "#%%\n"
    }
   }
  },
  {
   "cell_type": "markdown",
   "source": [
    "Configure ngrok"
   ],
   "metadata": {
    "collapsed": false
   }
  },
  {
   "cell_type": "code",
   "execution_count": null,
   "outputs": [],
   "source": [
    "import os\n",
    "!pip install pyngrok\n",
    "from pyngrok import ngrok\n",
    "\n",
    "port = 5000\n",
    "\n",
    "ngrok_token =  os.getenv('NGROK_TOKEN')\n",
    "\n",
    "#Setting an auth token allows us to open multiple tunnels at the same time\n",
    "ngrok.set_auth_token(ngrok_token)\n",
    "\n",
    "# Open a ngrok tunnel to the HTTP server\n",
    "public_url = ngrok.connect(port).public_url\n",
    "print(\" * ngrok tunnel \\\"{}\\\" -> \\\"http://127.0.0.1:{}\\\"\".format(public_url, port))"
   ],
   "metadata": {
    "collapsed": false,
    "pycharm": {
     "name": "#%%\n"
    }
   }
  },
  {
   "cell_type": "markdown",
   "source": [
    "FLASK(download photos or sending echo message)"
   ],
   "metadata": {
    "collapsed": false
   }
  },
  {
   "cell_type": "code",
   "execution_count": null,
   "outputs": [],
   "source": [
    "import requests\n",
    "from flask import Flask, request\n",
    "import threading\n",
    "\n",
    "app = Flask(__name__)\n",
    "\n",
    "# Update any base URLs to use the public ngrok URL\n",
    "app.config[\"BASE_URL\"] = \"https\" + public_url.split('http')[1]\n",
    "print(app.config[\"BASE_URL\"])\n",
    "\n",
    "token = os.getenv('BOT_TOKEN')\n",
    "bot = Bot(token, app.config[\"BASE_URL\"])\n",
    "drive_dir = '/content/drive/MyDrive/'\n",
    "\n",
    "approve_clients = []\n",
    "\n",
    "db = Database()\n",
    "\n",
    "def download_photo(bot, message, download_path=None):\n",
    "    if \"photo\" in message:\n",
    "      photo_path, downloaded_photo = bot.get_photo(message[\"photo\"][0]['file_id'])\n",
    "    elif \"document\" in message:\n",
    "      photo_path, downloaded_photo = bot.get_photo(message[\"document\"][\"thumb\"]['file_id'])\n",
    "      photo_path = \"photos\" + photo_path.split(\"thumbnails\")[1]\n",
    "    else:\n",
    "      return \"\"\n",
    "    if download_path is None:\n",
    "      download_path = drive_dir + photo_path\n",
    "    downloaded_photo.save(download_path)\n",
    "    return download_path\n",
    "\n",
    "@app.route(\"/\", methods=[\"GET\", \"POST\"])\n",
    "def receive_update():\n",
    "  if request.method == \"POST\":\n",
    "      print(request.json)\n",
    "      message = request.json[\"message\"]\n",
    "      chat_id = message[\"chat\"][\"id\"]\n",
    "      photos = message.get(\"photo\")\n",
    "      uid = message[\"from\"][\"id\"]\n",
    "\n",
    "      # /my_sign + photo - functionality\n",
    "      if (\"caption_entities\" in message and message[\"caption\"] == \"/my_sign\" and message[\"caption_entities\"][0][\"type\"] == \"bot_command\" and\n",
    "          (\"photo\" in message) or (\"document\" in message and message[\"document\"][\"mime_type\"].split(\"/\")[0] == \"image\") ) or (uid  in approve_clients):\n",
    "\n",
    "        dpath = download_photo(bot, message, drive_dir + \"photos/\" + str(uid) + \".jpg\")\n",
    "\n",
    "        # check, if uid exists in db\n",
    "        # if exists\n",
    "        if (uid not in approve_clients) and (db.get_sign_by_uid(uid) != []):\n",
    "          bot.send_message(chat_id, \"Do you want to change your signature? (yes/no)\")\n",
    "          approve_clients.append(uid)\n",
    "\n",
    "        else:\n",
    "        # check if answer is \"no\"\n",
    "          if \"text\" in message and message[\"text\"] == \"no\" and uid in approve_clients:\n",
    "            approve_clients.remove(uid)\n",
    "            dpath = drive_dir + \"photos/\" + str(uid) + \".jpg\"\n",
    "            \n",
    "            # Delete photo after processing\n",
    "            os.remove(dpath)\n",
    "            bot.send_message(chat_id, \"Ok\")\n",
    "        #if answer is \"yes\" or it's new user> then\n",
    "          elif (\"text\" in message and message[\"text\"] == \"yes\") or db.get_sign_by_uid(uid)== []:\n",
    "            if db.get_sign_by_uid(uid)!= [] :\n",
    "              db.delete_sign_by_uid(uid)\n",
    "              approve_clients.remove(uid)\n",
    "              dpath = drive_dir + \"photos/\" + str(uid) + \".jpg\"\n",
    "\n",
    "            embedding = create_embedding(dpath)\n",
    "\n",
    "            db.insert_sign(embedding, uid)\n",
    "            \n",
    "          # Delete photo after processing\n",
    "            os.remove(dpath)\n",
    "            bot.send_message(chat_id, \"Success! Now you can verify signature\")\n",
    "\n",
    "      elif (\"photo\" in message) or (\"document\" in message and message[\"document\"][\"mime_type\"].split(\"/\")[0] == \"image\"):\n",
    "        if (db.get_sign_by_uid(uid) == []):\n",
    "            bot.send_message(chat_id, \"Oof, can you send photo/scan of your signature with caption - /my_sign ?\")\n",
    "        else:\n",
    "\n",
    "          dpath = download_photo(bot, message)\n",
    "\n",
    "          res = predict(dpath)\n",
    "          print(res)\n",
    "\n",
    "          #compare embeddings\n",
    "          embedding = create_embedding(dpath)\n",
    "          print(embedding, db.get_sign_by_uid(uid))\n",
    "          print(compare_embeddings(embedding, db.get_sign_by_uid(uid)))\n",
    "          ## TODO..\n",
    "\n",
    "          # Delete photo after processing\n",
    "          os.remove(dpath)\n",
    "\n",
    "          bot.send_message(chat_id, res)\n",
    "\n",
    "      # Start command\n",
    "      elif \"entities\" in message and message[\"text\"] == \"/start\" and message[\"entities\"][0][\"type\"] == \"bot_command\":\n",
    "          bot.send_message(chat_id, \"Hello, %s! Can you send me scan of your signature?\" % (message[\"from\"][\"first_name\"]))\n",
    "      # Otherwise\n",
    "      else:\n",
    "          bot.send_message(chat_id, \"It's not a photo of signature\")\n",
    "\n",
    "  return message\n",
    "\n",
    "# Start the Flask server in a new thread\n",
    "threading.Thread(target=app.run, kwargs={\"use_reloader\": False}).start()\n"
   ],
   "metadata": {
    "collapsed": false,
    "pycharm": {
     "name": "#%%\n"
    }
   }
  }
 ]
}