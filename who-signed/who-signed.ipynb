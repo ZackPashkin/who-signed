{
 "nbformat": 4,
 "nbformat_minor": 0,
 "metadata": {
  "colab": {
   "name": "Untitled3.ipynb",
   "provenance": [],
   "collapsed_sections": []
  },
  "kernelspec": {
   "name": "python3",
   "display_name": "Python 3"
  },
  "language_info": {
   "name": "python"
  }
 },
 "cells": [
  {
   "cell_type": "markdown",
   "source": [
    "Connect to google drive(for downloading photos)"
   ],
   "metadata": {
    "collapsed": false
   }
  },
  {
   "cell_type": "code",
   "execution_count": null,
   "outputs": [],
   "source": [
    "from google.colab import drive\n",
    "drive.mount('/content/gdrive')"
   ],
   "metadata": {
    "collapsed": false,
    "pycharm": {
     "name": "#%%\n"
    }
   }
  },
  {
   "cell_type": "code",
   "execution_count": null,
   "outputs": [],
   "source": [
    "import os\n",
    "\n",
    "path = \"/content/gdrive/MyDrive/photos\"\n",
    "# Check if file exists\n",
    "if os.path.isfile(path):\n",
    "  os.mkdir(path)"
   ],
   "metadata": {
    "collapsed": false,
    "pycharm": {
     "name": "#%%\n"
    }
   }
  },
  {
   "cell_type": "markdown",
   "source": [
    "Configure ngrok"
   ],
   "metadata": {
    "collapsed": false
   }
  },
  {
   "cell_type": "code",
   "execution_count": null,
   "outputs": [],
   "source": [
    "import os\n",
    "!pip install pyngrok\n",
    "from pyngrok import ngrok\n",
    "\n",
    "port = 5000\n",
    "\n",
    "ngrok_token =  os.getenv('NGROK_TOKEN')\n",
    "\n",
    "#Setting an auth token allows us to open multiple tunnels at the same time\n",
    "ngrok.set_auth_token(ngrok_token)\n",
    "\n",
    "# Open a ngrok tunnel to the HTTP server\n",
    "public_url = ngrok.connect(port).public_url\n",
    "print(\" * ngrok tunnel \\\"{}\\\" -> \\\"http://127.0.0.1:{}\\\"\".format(public_url, port))"
   ],
   "metadata": {
    "collapsed": false,
    "pycharm": {
     "name": "#%%\n"
    }
   }
  },
  {
   "cell_type": "markdown",
   "source": [
    "FLASK(download photos or sending echo message)"
   ],
   "metadata": {
    "collapsed": false
   }
  },
  {
   "cell_type": "code",
   "execution_count": null,
   "outputs": [],
   "source": [
    "import requests\n",
    "from flask import Flask, request\n",
    "import threading\n",
    "\n",
    "app = Flask(__name__)\n",
    "\n",
    "# Update any base URLs to use the public ngrok URL\n",
    "app.config[\"BASE_URL\"] = \"https\" + public_url.split('http')[1]\n",
    "print(app.config[\"BASE_URL\"])\n",
    "\n",
    "token = os.getenv('BOT_TOKEN')\n",
    "bot = Bot(token, app.config[\"BASE_URL\"])\n",
    "\n",
    "@app.route(\"/\", methods=[\"GET\", \"POST\"])\n",
    "def receive_update():\n",
    "    if request.method == \"POST\":\n",
    "        print(request.json)\n",
    "        chat_id = request.json[\"message\"][\"chat\"][\"id\"]\n",
    "        photos = request.json[\"message\"].get(\"photo\")\n",
    "        if photos:\n",
    "          photo = photos[-1]\n",
    "          photo_path, downloaded_photo = bot.get_photo(photo['file_id'])\n",
    "          print(downloaded_photo)\n",
    "          downloaded_photo.save('/content/gdrive/MyDrive/' + photo_path)\n",
    "\n",
    "          # Machine Learning stuff\n",
    "          #<ML CODE>\n",
    "\n",
    "          # Delete photo after processing\n",
    "          # os.remove('/content/gdrive/MyDrive/' + photo_path)\n",
    "        else:\n",
    "          # Echo Bot\n",
    "            print(request.json[\"message\"][\"text\"])\n",
    "            bot.send_message(chat_id, request.json[\"message\"][\"text\"])\n",
    "    return request.json[\"message\"]\n",
    "\n",
    "# Start the Flask server in a new thread\n",
    "threading.Thread(target=app.run, kwargs={\"use_reloader\": False}).start()\n"
   ],
   "metadata": {
    "collapsed": false,
    "pycharm": {
     "name": "#%%\n"
    }
   }
  }
 ]
}