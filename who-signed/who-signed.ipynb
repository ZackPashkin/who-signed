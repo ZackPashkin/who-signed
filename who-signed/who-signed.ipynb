{
 "nbformat": 4,
 "nbformat_minor": 0,
 "metadata": {
  "colab": {
   "name": "Untitled3.ipynb",
   "provenance": [],
   "collapsed_sections": []
  },
  "kernelspec": {
   "name": "python3",
   "display_name": "Python 3"
  },
  "language_info": {
   "name": "python"
  }
 },
 "cells": [
  {
   "cell_type": "markdown",
   "source": [
    "Настраиваем ngrok"
   ],
   "metadata": {
    "id": "OxecsWzafVA7"
   }
  },
  {
   "cell_type": "code",
   "execution_count": 1,
   "metadata": {
    "colab": {
     "base_uri": "https://localhost:8080/"
    },
    "id": "bz5ofwgANxzH",
    "outputId": "7121216d-f148-4d98-d1a3-a59e79d879a4"
   },
   "outputs": [
    {
     "output_type": "stream",
     "name": "stdout",
     "text": [
      "Collecting pyngrok\n",
      "  Downloading pyngrok-5.1.0.tar.gz (745 kB)\n",
      "\u001B[?25l\r\u001B[K     |▍                               | 10 kB 23.2 MB/s eta 0:00:01\r\u001B[K     |▉                               | 20 kB 22.5 MB/s eta 0:00:01\r\u001B[K     |█▎                              | 30 kB 11.2 MB/s eta 0:00:01\r\u001B[K     |█▊                              | 40 kB 8.8 MB/s eta 0:00:01\r\u001B[K     |██▏                             | 51 kB 5.5 MB/s eta 0:00:01\r\u001B[K     |██▋                             | 61 kB 5.6 MB/s eta 0:00:01\r\u001B[K     |███                             | 71 kB 5.6 MB/s eta 0:00:01\r\u001B[K     |███▌                            | 81 kB 6.2 MB/s eta 0:00:01\r\u001B[K     |████                            | 92 kB 6.3 MB/s eta 0:00:01\r\u001B[K     |████▍                           | 102 kB 5.3 MB/s eta 0:00:01\r\u001B[K     |████▉                           | 112 kB 5.3 MB/s eta 0:00:01\r\u001B[K     |█████▎                          | 122 kB 5.3 MB/s eta 0:00:01\r\u001B[K     |█████▊                          | 133 kB 5.3 MB/s eta 0:00:01\r\u001B[K     |██████▏                         | 143 kB 5.3 MB/s eta 0:00:01\r\u001B[K     |██████▋                         | 153 kB 5.3 MB/s eta 0:00:01\r\u001B[K     |███████                         | 163 kB 5.3 MB/s eta 0:00:01\r\u001B[K     |███████▌                        | 174 kB 5.3 MB/s eta 0:00:01\r\u001B[K     |████████                        | 184 kB 5.3 MB/s eta 0:00:01\r\u001B[K     |████████▍                       | 194 kB 5.3 MB/s eta 0:00:01\r\u001B[K     |████████▉                       | 204 kB 5.3 MB/s eta 0:00:01\r\u001B[K     |█████████▎                      | 215 kB 5.3 MB/s eta 0:00:01\r\u001B[K     |█████████▊                      | 225 kB 5.3 MB/s eta 0:00:01\r\u001B[K     |██████████▏                     | 235 kB 5.3 MB/s eta 0:00:01\r\u001B[K     |██████████▌                     | 245 kB 5.3 MB/s eta 0:00:01\r\u001B[K     |███████████                     | 256 kB 5.3 MB/s eta 0:00:01\r\u001B[K     |███████████▍                    | 266 kB 5.3 MB/s eta 0:00:01\r\u001B[K     |███████████▉                    | 276 kB 5.3 MB/s eta 0:00:01\r\u001B[K     |████████████▎                   | 286 kB 5.3 MB/s eta 0:00:01\r\u001B[K     |████████████▊                   | 296 kB 5.3 MB/s eta 0:00:01\r\u001B[K     |█████████████▏                  | 307 kB 5.3 MB/s eta 0:00:01\r\u001B[K     |█████████████▋                  | 317 kB 5.3 MB/s eta 0:00:01\r\u001B[K     |██████████████                  | 327 kB 5.3 MB/s eta 0:00:01\r\u001B[K     |██████████████▌                 | 337 kB 5.3 MB/s eta 0:00:01\r\u001B[K     |███████████████                 | 348 kB 5.3 MB/s eta 0:00:01\r\u001B[K     |███████████████▍                | 358 kB 5.3 MB/s eta 0:00:01\r\u001B[K     |███████████████▉                | 368 kB 5.3 MB/s eta 0:00:01\r\u001B[K     |████████████████▎               | 378 kB 5.3 MB/s eta 0:00:01\r\u001B[K     |████████████████▊               | 389 kB 5.3 MB/s eta 0:00:01\r\u001B[K     |█████████████████▏              | 399 kB 5.3 MB/s eta 0:00:01\r\u001B[K     |█████████████████▋              | 409 kB 5.3 MB/s eta 0:00:01\r\u001B[K     |██████████████████              | 419 kB 5.3 MB/s eta 0:00:01\r\u001B[K     |██████████████████▌             | 430 kB 5.3 MB/s eta 0:00:01\r\u001B[K     |███████████████████             | 440 kB 5.3 MB/s eta 0:00:01\r\u001B[K     |███████████████████▍            | 450 kB 5.3 MB/s eta 0:00:01\r\u001B[K     |███████████████████▉            | 460 kB 5.3 MB/s eta 0:00:01\r\u001B[K     |████████████████████▎           | 471 kB 5.3 MB/s eta 0:00:01\r\u001B[K     |████████████████████▋           | 481 kB 5.3 MB/s eta 0:00:01\r\u001B[K     |█████████████████████           | 491 kB 5.3 MB/s eta 0:00:01\r\u001B[K     |█████████████████████▌          | 501 kB 5.3 MB/s eta 0:00:01\r\u001B[K     |██████████████████████          | 512 kB 5.3 MB/s eta 0:00:01\r\u001B[K     |██████████████████████▍         | 522 kB 5.3 MB/s eta 0:00:01\r\u001B[K     |██████████████████████▉         | 532 kB 5.3 MB/s eta 0:00:01\r\u001B[K     |███████████████████████▎        | 542 kB 5.3 MB/s eta 0:00:01\r\u001B[K     |███████████████████████▊        | 552 kB 5.3 MB/s eta 0:00:01\r\u001B[K     |████████████████████████▏       | 563 kB 5.3 MB/s eta 0:00:01\r\u001B[K     |████████████████████████▋       | 573 kB 5.3 MB/s eta 0:00:01\r\u001B[K     |█████████████████████████       | 583 kB 5.3 MB/s eta 0:00:01\r\u001B[K     |█████████████████████████▌      | 593 kB 5.3 MB/s eta 0:00:01\r\u001B[K     |██████████████████████████      | 604 kB 5.3 MB/s eta 0:00:01\r\u001B[K     |██████████████████████████▍     | 614 kB 5.3 MB/s eta 0:00:01\r\u001B[K     |██████████████████████████▉     | 624 kB 5.3 MB/s eta 0:00:01\r\u001B[K     |███████████████████████████▎    | 634 kB 5.3 MB/s eta 0:00:01\r\u001B[K     |███████████████████████████▊    | 645 kB 5.3 MB/s eta 0:00:01\r\u001B[K     |████████████████████████████▏   | 655 kB 5.3 MB/s eta 0:00:01\r\u001B[K     |████████████████████████████▋   | 665 kB 5.3 MB/s eta 0:00:01\r\u001B[K     |█████████████████████████████   | 675 kB 5.3 MB/s eta 0:00:01\r\u001B[K     |█████████████████████████████▌  | 686 kB 5.3 MB/s eta 0:00:01\r\u001B[K     |██████████████████████████████  | 696 kB 5.3 MB/s eta 0:00:01\r\u001B[K     |██████████████████████████████▍ | 706 kB 5.3 MB/s eta 0:00:01\r\u001B[K     |██████████████████████████████▊ | 716 kB 5.3 MB/s eta 0:00:01\r\u001B[K     |███████████████████████████████▏| 727 kB 5.3 MB/s eta 0:00:01\r\u001B[K     |███████████████████████████████▋| 737 kB 5.3 MB/s eta 0:00:01\r\u001B[K     |████████████████████████████████| 745 kB 5.3 MB/s \n",
      "\u001B[?25hRequirement already satisfied: PyYAML in /usr/local/lib/python3.7/dist-packages (from pyngrok) (3.13)\n",
      "Building wheels for collected packages: pyngrok\n",
      "  Building wheel for pyngrok (setup.py) ... \u001B[?25l\u001B[?25hdone\n",
      "  Created wheel for pyngrok: filename=pyngrok-5.1.0-py3-none-any.whl size=19007 sha256=494dc5370ab4a439892c517a6bc7058409849dd13590e4cff8c2e6a5ed595c08\n",
      "  Stored in directory: /root/.cache/pip/wheels/bf/e6/af/ccf6598ecefecd44104069371795cb9b3afbcd16987f6ccfb3\n",
      "Successfully built pyngrok\n",
      "Installing collected packages: pyngrok\n",
      "Successfully installed pyngrok-5.1.0\n",
      " * ngrok tunnel \"http://0530-146-148-90-100.ngrok.io\" -> \"http://127.0.0.1:5000\"\n"
     ]
    }
   ],
   "source": [
    "import os\n",
    "!pip install pyngrok\n",
    "!pip install python-dotenv\n",
    "from pyngrok import ngrok\n",
    "from dotenv import load_dotenv\n",
    "\n",
    "load_dotenv()\n",
    "port = 5000\n",
    "\n",
    "ngrok_token = os.getenv('NGROK_TOKEN')\n",
    "\n",
    "#Setting an auth token allows us to open multiple tunnels at the same time\n",
    "ngrok.set_auth_token(ngrok_token)\n",
    "\n",
    "# Open a ngrok tunnel to the HTTP server\n",
    "public_url = ngrok.connect(port).public_url\n",
    "print(\" * ngrok tunnel \\\"{}\\\" -> \\\"http://127.0.0.1:{}\\\"\".format(public_url, port))"
   ]
  },
  {
   "cell_type": "code",
   "source": [
    "import requests\n",
    "from flask import Flask, request\n",
    "import threading\n",
    "from bot import *\n",
    "\n",
    "app = Flask(__name__)\n",
    "token = os.getenv('BOT_TOKEN')\n",
    "# Update any base URLs to use the public ngrok URL\n",
    "app.config[\"BASE_URL\"] = \"https\" + public_url.split('http')[1]\n",
    "print(app.config[\"BASE_URL\"])\n",
    "bot = Bot(token, app.config[\"BASE_URL\"])\n",
    "\n",
    "@app.route(\"/\", methods=[\"GET\", \"POST\"])\n",
    "def receive_update():\n",
    "    if request.method == \"POST\":\n",
    "        print(request.json)\n",
    "        chat_id = request.json[\"message\"][\"chat\"][\"id\"]\n",
    "        photos = request.json[\"message\"].get(\"photo\")\n",
    "        if photos:\n",
    "          photo = photos[-1]\n",
    "          downloaded_photo = bot.get_photo(photo['file_id'], public_url)\n",
    "          downloaded_photo.save('./test.png')\n",
    "          bot.send_message(chat_id, \"nom-nom photo\")\n",
    "        else:\n",
    "            print(request.json[\"message\"][\"text\"])\n",
    "            bot.send_message(chat_id, request.json[\"message\"][\"text\"])\n",
    "    return request.json[\"message\"][\"text\"]\n",
    "\n",
    "# Start the Flask server in a new thread\n",
    "threading.Thread(target=app.run, kwargs={\"use_reloader\": False}).start()"
   ],
   "metadata": {
    "colab": {
     "base_uri": "https://localhost:8080/"
    },
    "id": "tvauXQ87QteJ",
    "outputId": "0ff31d6e-be82-47a8-c6c9-3ef944529cda",
    "pycharm": {
     "name": "#%%\n"
    }
   },
   "execution_count": 2,
   "outputs": [
    {
     "output_type": "stream",
     "name": "stdout",
     "text": [
      " * Serving Flask app \"__main__\" (lazy loading)\n",
      " * Environment: production\n",
      "\u001B[31m   WARNING: This is a development server. Do not use it in a production deployment.\u001B[0m\n",
      "\u001B[2m   Use a production WSGI server instead.\u001B[0m\n",
      " * Debug mode: off\n"
     ]
    },
    {
     "output_type": "stream",
     "name": "stderr",
     "text": [
      " * Running on http://127.0.0.1:5000/ (Press CTRL+C to quit)\n"
     ]
    }
   ]
  }
 ]
}